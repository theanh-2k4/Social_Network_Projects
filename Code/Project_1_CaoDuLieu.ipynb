{
 "cells": [
  {
   "cell_type": "markdown",
   "id": "f750fb4f",
   "metadata": {},
   "source": [
    "# Code thu thập Data "
   ]
  },
  {
   "cell_type": "markdown",
   "id": "7e30fae5",
   "metadata": {},
   "source": [
    "## Cài đặt các thư viện cần thiết"
   ]
  },
  {
   "cell_type": "code",
   "execution_count": 1,
   "id": "030ca9d3",
   "metadata": {},
   "outputs": [],
   "source": [
    "import requests, time, json\n",
    "import pandas as pd\n",
    "import networkx as nx\n",
    "from itertools import combinations"
   ]
  },
  {
   "cell_type": "markdown",
   "id": "d025c705",
   "metadata": {},
   "source": [
    "## Cào Data từ OpenAlex sử dụng API "
   ]
  },
  {
   "cell_type": "code",
   "execution_count": 2,
   "id": "b1fa96d3",
   "metadata": {},
   "outputs": [
    {
     "name": "stdout",
     "output_type": "stream",
     "text": [
      "Saved 2400 records to Project_1_dataset.xlsx\n"
     ]
    }
   ],
   "source": [
    "BASE = \"https://api.openalex.org/works\"\n",
    "\n",
    "def fetch_works_by_concept(concept_id=\"C2522767166\", per_page=200, max_works=500, delay=0.5):\n",
    "    works = []\n",
    "    page = 1\n",
    "    collected = 0\n",
    "    while collected < max_works:\n",
    "        params = {\n",
    "            \"filter\": f\"concepts.id:{concept_id}\",\n",
    "            \"per_page\": per_page,\n",
    "            \"page\": page\n",
    "        }\n",
    "        resp = requests.get(BASE, params=params)\n",
    "        if resp.status_code != 200:\n",
    "            print(\"HTTP error\", resp.status_code, resp.text)\n",
    "            break\n",
    "        data = resp.json()\n",
    "        items = data.get(\"results\", [])\n",
    "        if not items:\n",
    "            break\n",
    "        works.extend(items)\n",
    "        collected += len(items)\n",
    "        page += 1\n",
    "        time.sleep(delay)\n",
    "        if len(items) < per_page:\n",
    "            break\n",
    "    return works\n",
    "\n",
    "def works_to_excel(works, filename=\"works.xlsx\"):\n",
    "    rows = []\n",
    "    for w in works:\n",
    "        work_id = w.get(\"id\")\n",
    "        title = w.get(\"title\")\n",
    "        year = w.get(\"publication_year\")\n",
    "        cited = w.get(\"cited_by_count\")\n",
    "        \n",
    "        # Tác giả (lấy cả tên và ID)\n",
    "        authorships = w.get(\"authorships\", [])\n",
    "        authors = []\n",
    "        author_ids = []\n",
    "        for a in authorships:\n",
    "            if \"author\" in a:\n",
    "                authors.append(a[\"author\"].get(\"display_name\", \"\"))\n",
    "                author_ids.append(a[\"author\"].get(\"id\", \"\"))\n",
    "        \n",
    "        authors_str = \"; \".join(authors)\n",
    "        author_ids_str = \"; \".join(author_ids)\n",
    "        \n",
    "        # Concept (chỉ lấy top-3)\n",
    "        concepts = w.get(\"concepts\", [])\n",
    "        top_concepts = [c[\"display_name\"] for c in concepts[:3]]\n",
    "        concepts_str = \"; \".join(top_concepts)\n",
    "        \n",
    "        rows.append({\n",
    "            \"Work_ID\": work_id,\n",
    "            \"Title\": title,\n",
    "            \"Year\": year,\n",
    "            \"Cited_by\": cited,\n",
    "            \"Authors\": authors_str,\n",
    "            \"Author_IDs\": author_ids_str,\n",
    "            \"Concepts\": concepts_str\n",
    "        })\n",
    "    \n",
    "    df = pd.DataFrame(rows)\n",
    "    df.to_excel(filename, index=False)\n",
    "    print(f\"Saved {len(df)} records to {filename}\")\n",
    "\n",
    "if __name__ == \"__main__\":\n",
    "    works = fetch_works_by_concept(\"C2522767166\", max_works=2400)\n",
    "    works_to_excel(works, \"Project_1_dataset.xlsx\")\n"
   ]
  },
  {
   "cell_type": "markdown",
   "id": "d60d40fa",
   "metadata": {},
   "source": [
    "Sau khi thu thập, ta thu được **2400 bài báo khoa học** của nhiều tác giả khác nhau được lưu vào trong Project_1_dataset.xlsx để tiện cho bước tiền xử lý tiếp theo. Bộ dữ liệu bao gồm các đặc trưng chính sau:\n",
    "\n",
    "* **Work_ID**: Mã định danh duy nhất cho mỗi bài báo trong cơ sở dữ liệu OpenAlex.\n",
    "* **Title**: Tiêu đề của bài báo.\n",
    "* **Year**: Năm xuất bản bài báo.\n",
    "* **Cited_by**: Số lần bài báo được trích dẫn, thể hiện mức độ ảnh hưởng của công trình trong cộng đồng khoa học.\n",
    "* **Authors**: Danh sách tên tác giả của bài báo, phân tách bằng dấu “;”.\n",
    "* **Author_IDs**: Mã định danh duy nhất cho từng tác giả trên OpenAlex, được dùng để phân biệt các tác giả trùng tên.\n",
    "* **Concepts**: Các khái niệm hoặc lĩnh vực nghiên cứu chính của bài báo (lấy tối đa 3 concept nổi bật)."
   ]
  },
  {
   "cell_type": "markdown",
   "id": "be189b20",
   "metadata": {},
   "source": [
    "# Tiền xử lý dữ liệu"
   ]
  },
  {
   "cell_type": "code",
   "execution_count": 4,
   "id": "e3544924",
   "metadata": {},
   "outputs": [
    {
     "data": {
      "text/html": [
       "<div>\n",
       "<style scoped>\n",
       "    .dataframe tbody tr th:only-of-type {\n",
       "        vertical-align: middle;\n",
       "    }\n",
       "\n",
       "    .dataframe tbody tr th {\n",
       "        vertical-align: top;\n",
       "    }\n",
       "\n",
       "    .dataframe thead th {\n",
       "        text-align: right;\n",
       "    }\n",
       "</style>\n",
       "<table border=\"1\" class=\"dataframe\">\n",
       "  <thead>\n",
       "    <tr style=\"text-align: right;\">\n",
       "      <th></th>\n",
       "      <th>Work_ID</th>\n",
       "      <th>Title</th>\n",
       "      <th>Year</th>\n",
       "      <th>Cited_by</th>\n",
       "      <th>Authors</th>\n",
       "      <th>Author_IDs</th>\n",
       "      <th>Concepts</th>\n",
       "    </tr>\n",
       "  </thead>\n",
       "  <tbody>\n",
       "    <tr>\n",
       "      <th>0</th>\n",
       "      <td>https://openalex.org/W2144634347</td>\n",
       "      <td>Molecular Cloning: A Laboratory Manual</td>\n",
       "      <td>2001</td>\n",
       "      <td>133517</td>\n",
       "      <td>Joseph Sambrook; Elisabeth Fritsch; Tom Maniatis</td>\n",
       "      <td>https://openalex.org/A5112152140; https://open...</td>\n",
       "      <td>Cloning (programming); Computational biology; ...</td>\n",
       "    </tr>\n",
       "    <tr>\n",
       "      <th>1</th>\n",
       "      <td>https://openalex.org/W4300870773</td>\n",
       "      <td>Statistical Power Analysis for the Behavioral ...</td>\n",
       "      <td>1989</td>\n",
       "      <td>83956</td>\n",
       "      <td>Keith E. Muller; Jacob Cohen</td>\n",
       "      <td>https://openalex.org/A5110163574; https://open...</td>\n",
       "      <td>Statistical power; Power analysis; Statistical...</td>\n",
       "    </tr>\n",
       "    <tr>\n",
       "      <th>2</th>\n",
       "      <td>https://openalex.org/W2156098321</td>\n",
       "      <td>Preferred reporting items for systematic revie...</td>\n",
       "      <td>2009</td>\n",
       "      <td>80944</td>\n",
       "      <td>David Moher; A. Liberati; Jennifer Tetzlaff; D...</td>\n",
       "      <td>https://openalex.org/A5068353058; https://open...</td>\n",
       "      <td>Systematic review; Statement (logic); Computer...</td>\n",
       "    </tr>\n",
       "    <tr>\n",
       "      <th>3</th>\n",
       "      <td>https://openalex.org/W2167279371</td>\n",
       "      <td>Fiji: an open-source platform for biological-i...</td>\n",
       "      <td>2012</td>\n",
       "      <td>61316</td>\n",
       "      <td>Johannes Schindelin; Ignacio Arganda‐Carreras;...</td>\n",
       "      <td>https://openalex.org/A5050085853; https://open...</td>\n",
       "      <td>Plug-in; Scripting language; Software</td>\n",
       "    </tr>\n",
       "    <tr>\n",
       "      <th>4</th>\n",
       "      <td>https://openalex.org/W3118615836</td>\n",
       "      <td>The PRISMA 2020 statement: an updated guidelin...</td>\n",
       "      <td>2021</td>\n",
       "      <td>58608</td>\n",
       "      <td>Matthew J. Page; Joanne E. McKenzie; Patrick M...</td>\n",
       "      <td>https://openalex.org/A5089979303; https://open...</td>\n",
       "      <td>Checklist; Systematic review; Guideline</td>\n",
       "    </tr>\n",
       "  </tbody>\n",
       "</table>\n",
       "</div>"
      ],
      "text/plain": [
       "                            Work_ID  \\\n",
       "0  https://openalex.org/W2144634347   \n",
       "1  https://openalex.org/W4300870773   \n",
       "2  https://openalex.org/W2156098321   \n",
       "3  https://openalex.org/W2167279371   \n",
       "4  https://openalex.org/W3118615836   \n",
       "\n",
       "                                               Title  Year  Cited_by  \\\n",
       "0             Molecular Cloning: A Laboratory Manual  2001    133517   \n",
       "1  Statistical Power Analysis for the Behavioral ...  1989     83956   \n",
       "2  Preferred reporting items for systematic revie...  2009     80944   \n",
       "3  Fiji: an open-source platform for biological-i...  2012     61316   \n",
       "4  The PRISMA 2020 statement: an updated guidelin...  2021     58608   \n",
       "\n",
       "                                             Authors  \\\n",
       "0   Joseph Sambrook; Elisabeth Fritsch; Tom Maniatis   \n",
       "1                       Keith E. Muller; Jacob Cohen   \n",
       "2  David Moher; A. Liberati; Jennifer Tetzlaff; D...   \n",
       "3  Johannes Schindelin; Ignacio Arganda‐Carreras;...   \n",
       "4  Matthew J. Page; Joanne E. McKenzie; Patrick M...   \n",
       "\n",
       "                                          Author_IDs  \\\n",
       "0  https://openalex.org/A5112152140; https://open...   \n",
       "1  https://openalex.org/A5110163574; https://open...   \n",
       "2  https://openalex.org/A5068353058; https://open...   \n",
       "3  https://openalex.org/A5050085853; https://open...   \n",
       "4  https://openalex.org/A5089979303; https://open...   \n",
       "\n",
       "                                            Concepts  \n",
       "0  Cloning (programming); Computational biology; ...  \n",
       "1  Statistical power; Power analysis; Statistical...  \n",
       "2  Systematic review; Statement (logic); Computer...  \n",
       "3              Plug-in; Scripting language; Software  \n",
       "4            Checklist; Systematic review; Guideline  "
      ]
     },
     "execution_count": 4,
     "metadata": {},
     "output_type": "execute_result"
    }
   ],
   "source": [
    "# Quan sát dữ liệu đã thu thập\n",
    "df = pd.read_excel(\"Project_1_dataset.xlsx\")\n",
    "df.head()"
   ]
  },
  {
   "cell_type": "markdown",
   "id": "c71535a3",
   "metadata": {},
   "source": [
    "5 mẫu dữ liệu đầu cho thấy các ID dùng để định danh bài báo và tác giả đang bị dính liền với địa chỉ web của OpenAlex. Bước đầu, ta tiến hành xử lý lại các ID này, việc tách riêng ID giúp dữ liệu gọn gàng hơn, thuận tiện cho việc xây dựng mạng lưới cộng tác và tránh nhầm lẫn khi phân tích"
   ]
  },
  {
   "cell_type": "code",
   "execution_count": 5,
   "id": "3b0bae1f",
   "metadata": {},
   "outputs": [
    {
     "name": "stdout",
     "output_type": "stream",
     "text": [
      "0                A5112152140; A5047742196; A5091116725\n",
      "1                             A5110163574; A5102808166\n",
      "2    A5068353058; A5113580052; A5076572041; A504296...\n",
      "3    A5050085853; A5021284069; A5005279299; A505575...\n",
      "4    A5089979303; A5015844348; A5061726857; A506502...\n",
      "Name: Author_IDs, dtype: object\n",
      "0    W2144634347\n",
      "1    W4300870773\n",
      "2    W2156098321\n",
      "3    W2167279371\n",
      "4    W3118615836\n",
      "Name: Work_ID, dtype: object\n"
     ]
    }
   ],
   "source": [
    "# Tiền xử lý \n",
    "df[\"Author_IDs\"] = df[\"Author_IDs\"].fillna(\"\")\n",
    "# Tách author_IDs khỏi link\n",
    "df[\"Author_IDs\"] = df[\"Author_IDs\"].apply(\n",
    "    lambda x: \"; \".join([part.split(\"/\")[-1].strip() for part in x.split(\";\")])\n",
    ")\n",
    "df = df[df[\"Author_IDs\"].map(len) > 1]  # Chỉ giữ các bài có >1 tác giả\n",
    "print(df[\"Author_IDs\"].head())\n",
    "\n",
    "#Tách Work_ID khỏi link\n",
    "df[\"Work_ID\"] = df[\"Work_ID\"].apply(lambda x: x.split(\"/\")[-1].strip())\n",
    "print(df[\"Work_ID\"].head())"
   ]
  },
  {
   "cell_type": "code",
   "execution_count": 11,
   "id": "30355689",
   "metadata": {},
   "outputs": [
    {
     "name": "stdout",
     "output_type": "stream",
     "text": [
      "Số Work_ID trùng: 0\n",
      "Số tác giả không có ID: 0\n",
      "Missing value:\n",
      " Work_ID       0\n",
      "Title         6\n",
      "Year          0\n",
      "Cited_by      0\n",
      "Authors       0\n",
      "Author_IDs    0\n",
      "Concepts      0\n",
      "dtype: int64\n"
     ]
    }
   ],
   "source": [
    "# Kiểm tra Work_ID có trùng không\n",
    "print(\"Số Work_ID trùng:\", df[\"Work_ID\"].duplicated().sum())\n",
    "# Kiểm tra có tác giả nào không có ID không\n",
    "print(\"Số tác giả không có ID:\", df[\"Author_IDs\"].apply(lambda x: len(x) == 0).sum())\n",
    "# Kiểm tra dư liệu có missing value không\n",
    "print(\"Missing value:\\n\", df.isnull().sum())"
   ]
  },
  {
   "cell_type": "markdown",
   "id": "962c33b7",
   "metadata": {},
   "source": [
    "Kết quả kiểm tra chất lượng dữ liệu cho thấy:\n",
    "\n",
    "* **Số Work_ID trùng lặp:** 0 Không có bài báo nào bị trùng lặp.\n",
    "* **Số tác giả không có Author_ID:** 0 toàn bộ tác giả đều được gán định danh rõ ràng.\n",
    "* **Missing values:** chỉ có cột *Title* bị thiếu 6 giá trị, các cột khác không có giá trị khuyết.\n",
    "\n",
    "Điều này chứng tỏ dữ liệu có độ sạch và độ tin cậy khá cao, thuận lợi cho các bước phân tích mạng lưới cộng tác và phát hiện cộng đồng.\n",
    "\n",
    "Việc thiếu tiêu đề ở một số bài báo là không đáng lo ngại, vì các phân tích mạng lưới cộng tác chủ yếu dựa trên **Work_ID** và **Author_IDs** để xác định mối quan hệ giữa các tác giả. Do đó, ta có thể giữ nguyên dữ liệu mà không cần xử lý bổ sung cho cột *Title*."
   ]
  },
  {
   "cell_type": "code",
   "execution_count": 13,
   "id": "ff722813",
   "metadata": {},
   "outputs": [],
   "source": [
    "# Lưu dư liệu đã làm sạch ra file CSV\n",
    "output_file = \"Project_1_dataset_clean.csv\"\n",
    "df.to_csv(output_file, index=False, encoding=\"utf-8-sig\")"
   ]
  },
  {
   "cell_type": "markdown",
   "id": "d217be4c",
   "metadata": {},
   "source": [
    "Sau bước tiền sử lý và kiểm tra chất lượng, ta lưu Dataset đa được làm sạch phục vụ cho bước tiếp theo"
   ]
  },
  {
   "cell_type": "markdown",
   "id": "61157e20",
   "metadata": {},
   "source": [
    "# Tạo đồ thị Mạng lưới cộng tác khoa học"
   ]
  },
  {
   "cell_type": "code",
   "execution_count": 14,
   "id": "99924493",
   "metadata": {},
   "outputs": [
    {
     "data": {
      "text/html": [
       "<div>\n",
       "<style scoped>\n",
       "    .dataframe tbody tr th:only-of-type {\n",
       "        vertical-align: middle;\n",
       "    }\n",
       "\n",
       "    .dataframe tbody tr th {\n",
       "        vertical-align: top;\n",
       "    }\n",
       "\n",
       "    .dataframe thead th {\n",
       "        text-align: right;\n",
       "    }\n",
       "</style>\n",
       "<table border=\"1\" class=\"dataframe\">\n",
       "  <thead>\n",
       "    <tr style=\"text-align: right;\">\n",
       "      <th></th>\n",
       "      <th>Work_ID</th>\n",
       "      <th>Title</th>\n",
       "      <th>Year</th>\n",
       "      <th>Cited_by</th>\n",
       "      <th>Authors</th>\n",
       "      <th>Author_IDs</th>\n",
       "      <th>Concepts</th>\n",
       "    </tr>\n",
       "  </thead>\n",
       "  <tbody>\n",
       "    <tr>\n",
       "      <th>0</th>\n",
       "      <td>W2144634347</td>\n",
       "      <td>Molecular Cloning: A Laboratory Manual</td>\n",
       "      <td>2001</td>\n",
       "      <td>133517</td>\n",
       "      <td>Joseph Sambrook; Elisabeth Fritsch; Tom Maniatis</td>\n",
       "      <td>A5112152140; A5047742196; A5091116725</td>\n",
       "      <td>Cloning (programming); Computational biology; ...</td>\n",
       "    </tr>\n",
       "    <tr>\n",
       "      <th>1</th>\n",
       "      <td>W4300870773</td>\n",
       "      <td>Statistical Power Analysis for the Behavioral ...</td>\n",
       "      <td>1989</td>\n",
       "      <td>83956</td>\n",
       "      <td>Keith E. Muller; Jacob Cohen</td>\n",
       "      <td>A5110163574; A5102808166</td>\n",
       "      <td>Statistical power; Power analysis; Statistical...</td>\n",
       "    </tr>\n",
       "    <tr>\n",
       "      <th>2</th>\n",
       "      <td>W2156098321</td>\n",
       "      <td>Preferred reporting items for systematic revie...</td>\n",
       "      <td>2009</td>\n",
       "      <td>80944</td>\n",
       "      <td>David Moher; A. Liberati; Jennifer Tetzlaff; D...</td>\n",
       "      <td>A5068353058; A5113580052; A5076572041; A504296...</td>\n",
       "      <td>Systematic review; Statement (logic); Computer...</td>\n",
       "    </tr>\n",
       "    <tr>\n",
       "      <th>3</th>\n",
       "      <td>W2167279371</td>\n",
       "      <td>Fiji: an open-source platform for biological-i...</td>\n",
       "      <td>2012</td>\n",
       "      <td>61316</td>\n",
       "      <td>Johannes Schindelin; Ignacio Arganda‐Carreras;...</td>\n",
       "      <td>A5050085853; A5021284069; A5005279299; A505575...</td>\n",
       "      <td>Plug-in; Scripting language; Software</td>\n",
       "    </tr>\n",
       "    <tr>\n",
       "      <th>4</th>\n",
       "      <td>W3118615836</td>\n",
       "      <td>The PRISMA 2020 statement: an updated guidelin...</td>\n",
       "      <td>2021</td>\n",
       "      <td>58608</td>\n",
       "      <td>Matthew J. Page; Joanne E. McKenzie; Patrick M...</td>\n",
       "      <td>A5089979303; A5015844348; A5061726857; A506502...</td>\n",
       "      <td>Checklist; Systematic review; Guideline</td>\n",
       "    </tr>\n",
       "  </tbody>\n",
       "</table>\n",
       "</div>"
      ],
      "text/plain": [
       "       Work_ID                                              Title  Year  \\\n",
       "0  W2144634347             Molecular Cloning: A Laboratory Manual  2001   \n",
       "1  W4300870773  Statistical Power Analysis for the Behavioral ...  1989   \n",
       "2  W2156098321  Preferred reporting items for systematic revie...  2009   \n",
       "3  W2167279371  Fiji: an open-source platform for biological-i...  2012   \n",
       "4  W3118615836  The PRISMA 2020 statement: an updated guidelin...  2021   \n",
       "\n",
       "   Cited_by                                            Authors  \\\n",
       "0    133517   Joseph Sambrook; Elisabeth Fritsch; Tom Maniatis   \n",
       "1     83956                       Keith E. Muller; Jacob Cohen   \n",
       "2     80944  David Moher; A. Liberati; Jennifer Tetzlaff; D...   \n",
       "3     61316  Johannes Schindelin; Ignacio Arganda‐Carreras;...   \n",
       "4     58608  Matthew J. Page; Joanne E. McKenzie; Patrick M...   \n",
       "\n",
       "                                          Author_IDs  \\\n",
       "0              A5112152140; A5047742196; A5091116725   \n",
       "1                           A5110163574; A5102808166   \n",
       "2  A5068353058; A5113580052; A5076572041; A504296...   \n",
       "3  A5050085853; A5021284069; A5005279299; A505575...   \n",
       "4  A5089979303; A5015844348; A5061726857; A506502...   \n",
       "\n",
       "                                            Concepts  \n",
       "0  Cloning (programming); Computational biology; ...  \n",
       "1  Statistical power; Power analysis; Statistical...  \n",
       "2  Systematic review; Statement (logic); Computer...  \n",
       "3              Plug-in; Scripting language; Software  \n",
       "4            Checklist; Systematic review; Guideline  "
      ]
     },
     "execution_count": 14,
     "metadata": {},
     "output_type": "execute_result"
    }
   ],
   "source": [
    "# Đọc lại file CSV để kiểm tra\n",
    "df = pd.read_csv(\"Project_1_dataset_clean.csv\")\n",
    "df.head()"
   ]
  },
  {
   "cell_type": "code",
   "execution_count": 15,
   "id": "4e176523",
   "metadata": {},
   "outputs": [
    {
     "name": "stdout",
     "output_type": "stream",
     "text": [
      "Số nodes (tác giả): 9705\n",
      "Số edges (cộng tác): 136267\n"
     ]
    }
   ],
   "source": [
    "import networkx as nx\n",
    "from itertools import combinations\n",
    "\n",
    "\n",
    "# Tạo graph\n",
    "G = nx.Graph()\n",
    "\n",
    "for _, row in df.iterrows():\n",
    "    # Lấy danh sách tên tác giả\n",
    "    authors = str(row[\"Authors\"]).split(\";\")\n",
    "    authors = [a.strip() for a in authors if a.strip()]\n",
    "    \n",
    "    # Lấy danh sách Author_IDs (đã được làm sạch, chỉ còn Axxxxx)\n",
    "    author_ids = str(row[\"Author_IDs\"]).split(\";\")\n",
    "    author_ids = [a.strip() for a in author_ids if a.strip()]\n",
    "    \n",
    "    # Ghép ID và tên -> đảm bảo node là duy nhất theo ID\n",
    "    author_nodes = []\n",
    "    for aid, aname in zip(author_ids, authors):\n",
    "        if aid:  \n",
    "            node_id = aid  # sử dụng ID làm khóa chính\n",
    "            G.add_node(node_id, name=aname)  # thêm thuộc tính 'name' để lưu tên hiển thị\n",
    "            author_nodes.append(node_id)\n",
    "    \n",
    "    # Thêm cạnh đồng tác giả (nếu >=2 tác giả trong 1 bài)\n",
    "    for a, b in combinations(author_nodes, 2):\n",
    "        if G.has_edge(a, b):\n",
    "            G[a][b][\"weight\"] += 1\n",
    "        else:\n",
    "            G.add_edge(a, b, weight=1)\n",
    "\n",
    "# Kết quả\n",
    "print(\"Số nodes (tác giả):\", G.number_of_nodes())\n",
    "print(\"Số edges (cộng tác):\", G.number_of_edges())\n"
   ]
  },
  {
   "cell_type": "markdown",
   "id": "14d252a7",
   "metadata": {},
   "source": [
    "Từ dữ liệu thu thập được, ta xây dựng được **mạng lưới cộng tác khoa học** giữa các tác giả:\n",
    "\n",
    "* **Số nodes (tác giả):** 9,705\n",
    "  → Mỗi node tương ứng với một tác giả duy nhất (được định danh bằng Author_ID).\n",
    "\n",
    "* **Số edges (cộng tác):** 136,267\n",
    "  → Mỗi cạnh biểu diễn mối quan hệ cộng tác (đồng tác giả trong ít nhất một bài báo). Trọng số (weight) của cạnh phản ánh số lần hai tác giả cùng xuất hiện trong các công trình.\n",
    "\n",
    "Mạng lưới thu được có **quy mô lớn**, cho thấy sự kết nối rộng rãi giữa các nhà nghiên cứu trong lĩnh vực được chọn. Đây là cơ sở để áp dụng các thuật toán phân cụm (Louvain, Leiden, Fast Greedy) và các chỉ số đánh giá nhằm khám phá cấu trúc cộng đồng khoa học trong bộ dữ liệu."
   ]
  },
  {
   "cell_type": "code",
   "execution_count": 19,
   "id": "4ac74a91",
   "metadata": {},
   "outputs": [
    {
     "name": "stdout",
     "output_type": "stream",
     "text": [
      "Đã lưu nodes.csv và edges.csv thành công!\n"
     ]
    }
   ],
   "source": [
    "# ===== Export nodes =====\n",
    "nodes_data = []\n",
    "for node, data in G.nodes(data=True):\n",
    "    nodes_data.append({\n",
    "        \"Id\": node,                 # Author_ID (duy nhất)\n",
    "        \"Label\": data.get(\"name\"),  # Tên tác giả\n",
    "        \"Degree\": G.degree(node)    # Số cộng tác viên\n",
    "    })\n",
    "nodes_df = pd.DataFrame(nodes_data)\n",
    "nodes_df.to_csv(\"Project_1_coauthor_nodes.csv\", index=False, encoding=\"utf-8-sig\")\n",
    "\n",
    "# ===== Export edges =====\n",
    "edges_data = []\n",
    "for u, v, data in G.edges(data=True):\n",
    "    edges_data.append({\n",
    "        \"Author1\": G.nodes[u][\"name\"],   # Xuất bằng TÊN tác giả\n",
    "        \"Author2\": G.nodes[v][\"name\"],\n",
    "        \"Weight\": data[\"weight\"]\n",
    "    })\n",
    "edges_df = pd.DataFrame(edges_data)\n",
    "edges_df.to_csv(\"Project_1_coauthor_edges.csv\", index=False, encoding=\"utf-8-sig\")\n",
    "\n",
    "print(\"Đã lưu nodes.csv và edges.csv thành công!\")"
   ]
  },
  {
   "cell_type": "markdown",
   "id": "9101932d",
   "metadata": {},
   "source": [
    "Ta lưu đồ thị đa tạo ra lại để phục vụ cho các bước tiếp theo"
   ]
  }
 ],
 "metadata": {
  "kernelspec": {
   "display_name": "Python 3",
   "language": "python",
   "name": "python3"
  },
  "language_info": {
   "codemirror_mode": {
    "name": "ipython",
    "version": 3
   },
   "file_extension": ".py",
   "mimetype": "text/x-python",
   "name": "python",
   "nbconvert_exporter": "python",
   "pygments_lexer": "ipython3",
   "version": "3.11.2"
  }
 },
 "nbformat": 4,
 "nbformat_minor": 5
}
