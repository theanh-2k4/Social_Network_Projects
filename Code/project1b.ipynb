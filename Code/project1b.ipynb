{
 "cells": [
  {
   "cell_type": "code",
   "execution_count": 45,
   "id": "7625085d",
   "metadata": {},
   "outputs": [
    {
     "name": "stdout",
     "output_type": "stream",
     "text": [
      "Edges sau lọc: 5378\n"
     ]
    }
   ],
   "source": [
    "import pandas as pd\n",
    "import networkx as nx\n",
    "\n",
    "# Đọc file coauthor\n",
    "df = pd.read_csv(r\"D:\\GitHub\\Social_Network_Projects\\Code\\Project_1_coauthor_edges.csv\")\n",
    "df.columns = [\"Author1\", \"Author2\", \"Weight\"]\n",
    "\n",
    "# Chuyển Weight về int\n",
    "df[\"Weight\"] = df[\"Weight\"].astype(str).str.extract(r\"(\\d+)\").astype(int)\n",
    "\n",
    "# Lọc các cạnh có weight >= 2\n",
    "df_filtered = df[df[\"Weight\"] >= 2].copy()\n",
    "print(\"Edges sau lọc:\", df_filtered.shape[0])\n",
    "\n",
    "# Lưu file mới (tùy chọn)\n",
    "df_filtered.to_csv(\"coauthor_edges_filtered.csv\", index=False, encoding=\"utf-8\")\n"
   ]
  },
  {
   "cell_type": "code",
   "execution_count": 46,
   "id": "3d95232a",
   "metadata": {},
   "outputs": [
    {
     "name": "stdout",
     "output_type": "stream",
     "text": [
      "Số nodes: 1030\n",
      "Số edges: 5378\n"
     ]
    }
   ],
   "source": [
    "# Đọc file\n",
    "df = pd.read_csv(\"coauthor_edges_filtered.csv\")\n",
    "\n",
    "# Tạo graph\n",
    "G = nx.from_pandas_edgelist(df, \"Author1\", \"Author2\", edge_attr=\"Weight\")\n",
    "\n",
    "print(\"Số nodes:\", G.number_of_nodes())\n",
    "print(\"Số edges:\", G.number_of_edges())"
   ]
  },
  {
   "cell_type": "markdown",
   "id": "3693b309",
   "metadata": {},
   "source": [
    "### Step 2: Chia train-test cho Link Prediction\n",
    "-   Trích một phần cạnh (ví dụ 20%) làm test set.\n",
    "-   Xây dựng train graph từ phần còn lại."
   ]
  },
  {
   "cell_type": "code",
   "execution_count": 47,
   "id": "490d0877",
   "metadata": {},
   "outputs": [
    {
     "name": "stdout",
     "output_type": "stream",
     "text": [
      "Số cạnh train: 4303\n",
      "Số cạnh test: 1075\n"
     ]
    }
   ],
   "source": [
    "from networkx.algorithms import approximation as approx\n",
    "import random\n",
    "\n",
    "edges = list(G.edges()) #Lấy tất cả các cạnh (các hợp tác hiện có giữa các tác giả) trong mạng G.\n",
    "random.seed(42) #Đặt seed ngẫu nhiên để kết quả có thể lặp lại mỗi lần chạy.\n",
    "test_size = int(0.2 * len(edges)) #Xác định kích thước tập test bằng 20% tổng số cạnh.\n",
    "test_edges = random.sample(edges, test_size) #Lấy ngẫu nhiên 20% cạnh làm tập test. Đây là những cạnh giả định bị ẩn để kiểm tra khả năng dự đoán sau này.\n",
    "\n",
    "train_G = G.copy() #Tạo bản sao của mạng để làm tập huấn luyện.\n",
    "train_G.remove_edges_from(test_edges)#Xóa các cạnh trong test set khỏi tập train, giả lập rằng chúng chưa tồn tại\n",
    "\n",
    "print(\"Số cạnh train:\", train_G.number_of_edges()) #In ra số cạnh còn lại trong tập huấn luyện.\n",
    "print(\"Số cạnh test:\", len(test_edges))#In ra số cạnh trong tập test.\n"
   ]
  },
  {
   "cell_type": "markdown",
   "id": "ea4b2863",
   "metadata": {},
   "source": [
    "### Step 3: Tính các chỉ số dự đoán liên kết (Link Prediction Scores)\n",
    "\n",
    "-   Một số thuật toán phổ biến:\n",
    "\n",
    "Common Neighbors (CN): số lượng bạn chung giữa hai node.\n",
    "\n",
    "Jaccard Coefficient (JC): tỉ lệ bạn chung / bạn hợp nhất.\n",
    "\n",
    "Adamic-Adar (AA): trọng số cao cho các node hiếm gặp chung.\n",
    "\n",
    "Preferential Attachment (PA): kết hợp dựa vào degree."
   ]
  },
  {
   "cell_type": "code",
   "execution_count": 52,
   "id": "2244f1ba",
   "metadata": {},
   "outputs": [
    {
     "name": "stdout",
     "output_type": "stream",
     "text": [
      "Common Neighbors (top 10):\n",
      "[('Daniel Blankenberg', 'Michael C. Schatz', 63), ('Suzi Aleksander', 'J. Michael Cherry', 61), ('Anton Nekrutenko', 'Jeremy Goecks', 60), ('Daniel Blankenberg', 'Enis Afgan', 59), ('Suzi Aleksander', 'David P. Hill', 59), ('Michael C. Schatz', 'Jeremy Goecks', 57), ('Björn Grüning', 'Jeremy Goecks', 56), ('Pankaj Jaiswal', 'Harold Drabkin', 53), ('J. Michael Cherry', 'Harold Drabkin', 53), ('David P. Hill', 'J. Michael Cherry', 52)]\n",
      "\n",
      "Jaccard Coefficient (top 10):\n",
      "[('Sandra Orchard', 'Rizwan Ishtiaq', 1.0), ('Nancy Cartwright', 'Stephan Hartmann', 1.0), ('Gulsum Gudukbay Akbulut', 'Delphine Larivière', 1.0), ('Gulsum Gudukbay Akbulut', 'Simon Gladman', 1.0), ('Gulsum Gudukbay Akbulut', 'Ruben H.P. Vorderman', 1.0), ('Gulsum Gudukbay Akbulut', 'Catherine J. Bromhead', 1.0), ('Gulsum Gudukbay Akbulut', 'Anne Fouilloux', 1.0), ('Gulsum Gudukbay Akbulut', 'Engy Nasr', 1.0), ('Gulsum Gudukbay Akbulut', 'Simon Bray', 1.0), ('Gulsum Gudukbay Akbulut', 'Assunta D DeSanto', 1.0)]\n",
      "\n",
      "Adamic-Adar Index (top 10):\n",
      "[('Anton Nekrutenko', 'Jeremy Goecks', 34.74749470630821), ('Daniel Blankenberg', 'Michael C. Schatz', 34.729421726194516), ('Michael C. Schatz', 'Jeremy Goecks', 32.51430009259391), ('Daniel Blankenberg', 'Enis Afgan', 31.64766227872723), ('Björn Grüning', 'Jeremy Goecks', 31.601968457147667), ('Suzi Aleksander', 'J. Michael Cherry', 29.56147242914665), ('Suzi Aleksander', 'David P. Hill', 25.678986322416915), ('J. Michael Cherry', 'Harold Drabkin', 24.351265798595914), ('Pankaj Jaiswal', 'Harold Drabkin', 24.244724013932743), ('David P. Hill', 'J. Michael Cherry', 22.49110704696736)]\n",
      "\n",
      "Preferential Attachment (top 10):\n",
      "[('Suzi Aleksander', 'Anton Nekrutenko', 6474), ('Suzi Aleksander', 'Michael C. Schatz', 6391), ('Daniel Blankenberg', 'Suzi Aleksander', 6142), ('Björn Grüning', 'Suzi Aleksander', 6059), ('Vésteinn Thórsson', 'Suzi Aleksander', 6059), ('Suzi Aleksander', 'Jeremy Goecks', 5893), ('Suzi Aleksander', 'J. Michael Cherry', 5810), ('Anton Nekrutenko', 'Harold Drabkin', 5772), ('Suzi Aleksander', 'Enis Afgan', 5727), ('Daniel Blankenberg', 'Michael C. Schatz', 5698)]\n"
     ]
    }
   ],
   "source": [
    "from networkx.algorithms.link_prediction import jaccard_coefficient, adamic_adar_index, preferential_attachment\n",
    "\n",
    "# Common Neighbors\n",
    "cn_scores = [(u, v, len(list(nx.common_neighbors(train_G, u, v)))) \n",
    "             for u, v in nx.non_edges(train_G)]\n",
    "# In top 10 kết quả Common Neighbors\n",
    "print(\"Common Neighbors (top 10):\")\n",
    "print(sorted(cn_scores, key=lambda x: x[2], reverse=True)[:10])\n",
    "\n",
    "# Jaccard\n",
    "jc_scores = list(jaccard_coefficient(train_G))\n",
    "# In top 10 Jaccard Coefficient\n",
    "print(\"\\nJaccard Coefficient (top 10):\")\n",
    "print(sorted(jc_scores, key=lambda x: x[2], reverse=True)[:10])\n",
    "\n",
    "# Adamic-Adar\n",
    "aa_scores = list(adamic_adar_index(train_G))\n",
    "# In top 10 Adamic-Adar Index\n",
    "print(\"\\nAdamic-Adar Index (top 10):\")\n",
    "print(sorted(aa_scores, key=lambda x: x[2], reverse=True)[:10])\n",
    "\n",
    "# Preferential Attachment\n",
    "pa_scores = list(preferential_attachment(train_G))\n",
    "# In top 10 Preferential Attachment\n",
    "print(\"\\nPreferential Attachment (top 10):\")\n",
    "print(sorted(pa_scores, key=lambda x: x[2], reverse=True)[:10])\n",
    "\n"
   ]
  },
  {
   "cell_type": "markdown",
   "id": "6131f5e8",
   "metadata": {},
   "source": [
    "### Step 4: Lấy top dự đoán\n"
   ]
  },
  {
   "cell_type": "code",
   "execution_count": null,
   "id": "73dbc37f",
   "metadata": {},
   "outputs": [
    {
     "name": "stdout",
     "output_type": "stream",
     "text": [
      "Top 10 dự đoán hợp tác (Common Neighbors):\n",
      "Daniel Blankenberg - Michael C. Schatz : 63\n",
      "Suzi Aleksander - J. Michael Cherry : 61\n",
      "Anton Nekrutenko - Jeremy Goecks : 60\n",
      "Daniel Blankenberg - Enis Afgan : 59\n",
      "Suzi Aleksander - David P. Hill : 59\n",
      "Michael C. Schatz - Jeremy Goecks : 57\n",
      "Björn Grüning - Jeremy Goecks : 56\n",
      "Pankaj Jaiswal - Harold Drabkin : 53\n",
      "J. Michael Cherry - Harold Drabkin : 53\n",
      "David P. Hill - J. Michael Cherry : 52\n"
     ]
    }
   ],
   "source": [
    "#  Common Neighbors\n",
    "cn_scores_sorted = sorted(cn_scores, key=lambda x: x[2], reverse=True)\n",
    "top_pred = cn_scores_sorted[:10]  # Top 10 cặp tác giả dự đoán\n",
    "print(\"Top 10 dự đoán hợp tác (Common Neighbors):\")\n",
    "for u, v, score in top_pred:\n",
    "    print(u, \"-\", v, \":\", score)\n"
   ]
  },
  {
   "cell_type": "code",
   "execution_count": 50,
   "id": "13814ef8",
   "metadata": {},
   "outputs": [
    {
     "name": "stdout",
     "output_type": "stream",
     "text": [
      "Top 10 dự đoán hợp tác (Jaccard Coefficient):\n",
      "Sandra Orchard - Rizwan Ishtiaq : 1.0\n",
      "Nancy Cartwright - Stephan Hartmann : 1.0\n",
      "Gulsum Gudukbay Akbulut - Delphine Larivière : 1.0\n",
      "Gulsum Gudukbay Akbulut - Simon Gladman : 1.0\n",
      "Gulsum Gudukbay Akbulut - Ruben H.P. Vorderman : 1.0\n",
      "Gulsum Gudukbay Akbulut - Catherine J. Bromhead : 1.0\n",
      "Gulsum Gudukbay Akbulut - Anne Fouilloux : 1.0\n",
      "Gulsum Gudukbay Akbulut - Engy Nasr : 1.0\n",
      "Gulsum Gudukbay Akbulut - Simon Bray : 1.0\n",
      "Gulsum Gudukbay Akbulut - Assunta D DeSanto : 1.0\n"
     ]
    }
   ],
   "source": [
    "#  Jaccard Coefficient\n",
    "jc_scores_sorted = sorted(jc_scores, key=lambda x: x[2], reverse=True)\n",
    "top_pred = jc_scores_sorted[:10]  # Top 10 cặp tác giả dự đoán\n",
    "print(\"Top 10 dự đoán hợp tác (Jaccard Coefficient):\")\n",
    "for u, v, score in top_pred:\n",
    "    print(u, \"-\", v, \":\", score)\n"
   ]
  },
  {
   "cell_type": "code",
   "execution_count": null,
   "id": "b4801596",
   "metadata": {},
   "outputs": [
    {
     "name": "stdout",
     "output_type": "stream",
     "text": [
      "Top 10 dự đoán hợp tác (Preferential Attachment):\n",
      "Suzi Aleksander - Anton Nekrutenko : 6474\n",
      "Suzi Aleksander - Michael C. Schatz : 6391\n",
      "Daniel Blankenberg - Suzi Aleksander : 6142\n",
      "Björn Grüning - Suzi Aleksander : 6059\n",
      "Vésteinn Thórsson - Suzi Aleksander : 6059\n",
      "Suzi Aleksander - Jeremy Goecks : 5893\n",
      "Suzi Aleksander - J. Michael Cherry : 5810\n",
      "Anton Nekrutenko - Harold Drabkin : 5772\n",
      "Suzi Aleksander - Enis Afgan : 5727\n",
      "Daniel Blankenberg - Michael C. Schatz : 5698\n"
     ]
    }
   ],
   "source": [
    "#  Preferential Attachment\n",
    "pa_scores_sorted = sorted(pa_scores, key=lambda x: x[2], reverse=True)\n",
    "top_pred = pa_scores_sorted[:10]  # Top 10 cặp tác giả dự đoán\n",
    "print(\"Top 10 dự đoán hợp tác (Preferential Attachment):\")\n",
    "for u, v, score in top_pred:\n",
    "    print(u, \"-\", v, \":\", score)\n"
   ]
  },
  {
   "cell_type": "code",
   "execution_count": 43,
   "id": "7fd3d820",
   "metadata": {},
   "outputs": [
    {
     "name": "stdout",
     "output_type": "stream",
     "text": [
      "Top 10 dự đoán hợp tác (Adamic-Adar):\n",
      "Anton Nekrutenko - Jeremy Goecks : 34.74749470630821\n",
      "Daniel Blankenberg - Michael C. Schatz : 34.729421726194516\n",
      "Michael C. Schatz - Jeremy Goecks : 32.51430009259391\n",
      "Daniel Blankenberg - Enis Afgan : 31.64766227872723\n",
      "Björn Grüning - Jeremy Goecks : 31.601968457147667\n",
      "Suzi Aleksander - J. Michael Cherry : 29.56147242914665\n",
      "Suzi Aleksander - David P. Hill : 25.678986322416915\n",
      "J. Michael Cherry - Harold Drabkin : 24.351265798595914\n",
      "Pankaj Jaiswal - Harold Drabkin : 24.244724013932743\n",
      "David P. Hill - J. Michael Cherry : 22.49110704696736\n"
     ]
    }
   ],
   "source": [
    "#  Adamic-Adar\n",
    "aa_scores_sorted = sorted(aa_scores, key=lambda x: x[2], reverse=True)\n",
    "top_pred = aa_scores_sorted[:10]  # Top 10 cặp tác giả dự đoán\n",
    "print(\"Top 10 dự đoán hợp tác (Adamic-Adar):\")\n",
    "for u, v, score in top_pred:\n",
    "    print(u, \"-\", v, \":\", score)\n"
   ]
  },
  {
   "cell_type": "markdown",
   "id": "42dce8f9",
   "metadata": {},
   "source": [
    "### Step 5: Xuất file nodes / edges cho Gephi\n",
    "Nodes: danh sách tác giả + các centrality \n",
    "\n",
    "Edges: toàn bộ cạnh + weight "
   ]
  },
  {
   "cell_type": "code",
   "execution_count": 49,
   "id": "4d2b1d1d",
   "metadata": {},
   "outputs": [],
   "source": [
    "# Centrality\n",
    "deg_c = nx.degree_centrality(G)\n",
    "bet_c = nx.betweenness_centrality(G)\n",
    "close_c = nx.closeness_centrality(G)\n",
    "largest_cc = max(nx.connected_components(G), key=len)\n",
    "G_sub = G.subgraph(largest_cc)\n",
    "eig_c_sub = nx.eigenvector_centrality(G_sub, max_iter=5000)\n",
    "eig_c = {n: eig_c_sub.get(n, 0.0) for n in G.nodes()}\n",
    "\n",
    "# Nodes\n",
    "nodes = pd.DataFrame({\n",
    "    \"Id\": list(G.nodes()),\n",
    "    \"Degree\": [deg_c[n] for n in G.nodes()],\n",
    "    \"Betweenness\": [bet_c[n] for n in G.nodes()],\n",
    "    \"Closeness\": [close_c[n] for n in G.nodes()],\n",
    "    \"Eigenvector\": [eig_c[n] for n in G.nodes()]\n",
    "})\n",
    "nodes.to_csv(\"nodes_1B_gephi.csv\", index=False, encoding=\"utf-8\")\n",
    "\n",
    "# Edges\n",
    "edges = pd.DataFrame(list(G.edges(data=True)), columns=[\"Source\", \"Target\", \"Weight\"])\n",
    "edges[\"Weight\"] = edges[\"Weight\"].apply(lambda x: x if isinstance(x, (int,float)) else x.get(\"Weight\",1))\n",
    "edges.to_csv(\"edges_1B_gephi.csv\", index=False, encoding=\"utf-8\")\n"
   ]
  },
  {
   "cell_type": "markdown",
   "id": "6a0969eb",
   "metadata": {},
   "source": [
    "### Step 6: Trực quan trên Gephi\n",
    "\n",
    "Import nodes → Nodes table\n",
    "\n",
    "Import edges → Edges table\n",
    "\n",
    "Partition theo community (nếu tính được)\n",
    "\n",
    "Size theo Degree / Eigenvector / Betweenness\n",
    "\n",
    "Layout ForceAtlas2 hoặc Fruchterman-Reingold"
   ]
  }
 ],
 "metadata": {
  "kernelspec": {
   "display_name": "Python 3",
   "language": "python",
   "name": "python3"
  },
  "language_info": {
   "name": "python",
   "version": "3.11.2"
  }
 },
 "nbformat": 4,
 "nbformat_minor": 5
}
