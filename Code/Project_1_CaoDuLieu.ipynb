{
 "cells": [
  {
   "cell_type": "code",
   "execution_count": null,
   "id": "b1fa96d3",
   "metadata": {},
   "outputs": [
    {
     "name": "stdout",
     "output_type": "stream",
     "text": [
      "Saved 2400 records to Project_1_dataset.xlsx\n"
     ]
    }
   ],
   "source": [
    "import requests, time, json\n",
    "import pandas as pd\n",
    "\n",
    "BASE = \"https://api.openalex.org/works\"\n",
    "\n",
    "def fetch_works_by_concept(concept_id=\"C2522767166\", per_page=200, max_works=500, delay=0.5):\n",
    "    works = []\n",
    "    page = 1\n",
    "    collected = 0\n",
    "    while collected < max_works:\n",
    "        params = {\n",
    "            \"filter\": f\"concepts.id:{concept_id}\",\n",
    "            \"per_page\": per_page,\n",
    "            \"page\": page\n",
    "        }\n",
    "        resp = requests.get(BASE, params=params)\n",
    "        if resp.status_code != 200:\n",
    "            print(\"HTTP error\", resp.status_code, resp.text)\n",
    "            break\n",
    "        data = resp.json()\n",
    "        items = data.get(\"results\", [])\n",
    "        if not items:\n",
    "            break\n",
    "        works.extend(items)\n",
    "        collected += len(items)\n",
    "        page += 1\n",
    "        time.sleep(delay)\n",
    "        if len(items) < per_page:\n",
    "            break\n",
    "    return works\n",
    "\n",
    "def works_to_excel(works, filename=\"works.xlsx\"):\n",
    "    rows = []\n",
    "    for w in works:\n",
    "        work_id = w.get(\"id\")\n",
    "        title = w.get(\"title\")\n",
    "        year = w.get(\"publication_year\")\n",
    "        cited = w.get(\"cited_by_count\")\n",
    "        \n",
    "        # Tác giả (lấy tên ghép lại)\n",
    "        authorships = w.get(\"authorships\", [])\n",
    "        authors = [a[\"author\"][\"display_name\"] for a in authorships if \"author\" in a]\n",
    "        authors_str = \"; \".join(authors)\n",
    "        \n",
    "        # Concept (chỉ lấy top-level hoặc top-3)\n",
    "        concepts = w.get(\"concepts\", [])\n",
    "        top_concepts = [c[\"display_name\"] for c in concepts[:3]]\n",
    "        concepts_str = \"; \".join(top_concepts)\n",
    "        \n",
    "        rows.append({\n",
    "            \"ID\": work_id,\n",
    "            \"Title\": title,\n",
    "            \"Year\": year,\n",
    "            \"Cited_by\": cited,\n",
    "            \"Authors\": authors_str,\n",
    "            \"Concepts\": concepts_str\n",
    "        })\n",
    "    \n",
    "    df = pd.DataFrame(rows)\n",
    "    df.to_excel(filename, index=False)\n",
    "    print(f\"Saved {len(df)} records to {filename}\")\n",
    "\n",
    "if __name__ == \"__main__\":\n",
    "    #concept id = C2522767166\n",
    "    works = fetch_works_by_concept(\"C2522767166\", max_works=2400)\n",
    "    works_to_excel(works, \"Project_1_dataset.xlsx\")"
   ]
  },
  {
   "cell_type": "code",
   "execution_count": 7,
   "id": "4e176523",
   "metadata": {},
   "outputs": [
    {
     "name": "stdout",
     "output_type": "stream",
     "text": [
      "Số nodes (tác giả): 9648\n",
      "Số edges (cộng tác): 136197\n"
     ]
    }
   ],
   "source": [
    "import pandas as pd\n",
    "import networkx as nx\n",
    "from itertools import combinations\n",
    "\n",
    "# Đọc file Excel\n",
    "df = pd.read_excel(\"Project_1_dataset.xlsx\")\n",
    "\n",
    "# Tạo graph\n",
    "G = nx.Graph()\n",
    "\n",
    "for _, row in df.iterrows():\n",
    "    # Tách tác giả theo dấu \";\"\n",
    "    authors = str(row[\"Authors\"]).split(\";\")\n",
    "    authors = [a.strip() for a in authors if a.strip()]  # xóa khoảng trắng thừa\n",
    "    \n",
    "    # Thêm node cho mỗi tác giả\n",
    "    for author in authors:\n",
    "        G.add_node(author)\n",
    "    \n",
    "    # Thêm cạnh đồng tác giả (nếu >=2 tác giả trong 1 bài)\n",
    "    for a, b in combinations(authors, 2):\n",
    "        if G.has_edge(a, b):\n",
    "            G[a][b][\"weight\"] += 1\n",
    "        else:\n",
    "            G.add_edge(a, b, weight=1)\n",
    "\n",
    "# Kết quả\n",
    "print(\"Số nodes (tác giả):\", G.number_of_nodes())\n",
    "print(\"Số edges (cộng tác):\", G.number_of_edges())\n"
   ]
  },
  {
   "cell_type": "code",
   "execution_count": 5,
   "id": "4ac74a91",
   "metadata": {},
   "outputs": [],
   "source": [
    "nx.write_gexf(G, \"Project_1_coauthor_network.gexf\")   # mở bằng Gephi\n",
    "nx.write_edgelist(G, \"Project_1_coauthor_edges.csv\", delimiter=\",\")\n"
   ]
  }
 ],
 "metadata": {
  "kernelspec": {
   "display_name": "Python 3",
   "language": "python",
   "name": "python3"
  },
  "language_info": {
   "codemirror_mode": {
    "name": "ipython",
    "version": 3
   },
   "file_extension": ".py",
   "mimetype": "text/x-python",
   "name": "python",
   "nbconvert_exporter": "python",
   "pygments_lexer": "ipython3",
   "version": "3.11.2"
  }
 },
 "nbformat": 4,
 "nbformat_minor": 5
}
