{
 "cells": [
  {
   "cell_type": "markdown",
   "id": "1ce50d26",
   "metadata": {},
   "source": [
    "# Xử lý Text"
   ]
  },
  {
   "cell_type": "code",
   "execution_count": null,
   "id": "650aadcf",
   "metadata": {},
   "outputs": [
    {
     "name": "stdout",
     "output_type": "stream",
     "text": [
      "Saved: stage1_desc_clean.csv | Rows: 7819\n"
     ]
    }
   ],
   "source": [
    "import re, html, unicodedata\n",
    "import pandas as pd\n",
    "from tqdm import tqdm\n",
    "\n",
    "INPUT_CSV = \"P2_Youtube_VideosVI.csv\"\n",
    "OUT_CSV   = \"stage1_desc_clean.csv\"\n",
    "\n",
    "# Options\n",
    "USE_UNDERthesea = True     \n",
    "DROP_STOPWORDS  = True\n",
    "KEEP_NUMBERS    = True\n",
    "\n",
    "try:\n",
    "    import underthesea\n",
    "    HAS_UNDER = True\n",
    "except Exception:\n",
    "    HAS_UNDER = False\n",
    "\n",
    "# Regex\n",
    "URL_RE    = re.compile(r\"https?://\\S+|www\\.\\S+\")\n",
    "EMAIL_RE  = re.compile(r\"\\b[\\w\\.-]+@[\\w\\.-]+\\.\\w+\\b\")\n",
    "HTML_TAGS = re.compile(r\"<[^>]+>\")\n",
    "PUNC_RE   = re.compile(r\"[“”‘’\\\"'`.,;:!?(){}\\[\\]<>*#@~+=/\\\\|^$%]+\")\n",
    "KEEP_LATIN_VI = re.compile(r\"[^0-9A-Za-zÀ-ỹ_\\s]\")\n",
    "\n",
    "# Giữ hashtag, chuyển thành token `tag_*`\n",
    "HASHTAG_RE = re.compile(r'(?<!\\w)#([A-Za-z0-9_À-ỹ]+)', flags=re.UNICODE)\n",
    "\n",
    "VN_STOPWORDS = {\n",
    "    \"và\",\"hoặc\",\"là\",\"của\",\"cho\",\"các\",\"những\",\"một\",\"được\",\"trong\",\"khi\",\"với\",\n",
    "    \"đã\",\"sẽ\",\"tại\",\"theo\",\"này\",\"kia\",\"đó\",\"thì\",\"như\",\"về\",\"đến\",\"từ\",\"rằng\",\n",
    "    \"đi\",\"lên\",\"xuống\",\"nữa\",\"nhiều\",\"ít\",\"rất\",\"hơi\",\"tôi\",\"mình\",\"bạn\",\"chúng\",\n",
    "    \"này\",\"kia\",\"đấy\",\"ấy\",\"vậy\",\"nhé\",\"nhỉ\"\n",
    "}\n",
    "\n",
    "def clean_desc(s: str) -> str:\n",
    "    if not isinstance(s, str): return \"\"\n",
    "    s = html.unescape(s)\n",
    "    s = URL_RE.sub(\" \", s)\n",
    "    s = EMAIL_RE.sub(\" \", s)\n",
    "    s = HTML_TAGS.sub(\" \", s)\n",
    "    s = HASHTAG_RE.sub(lambda m: \" tag_\" + m.group(1).lower() + \" \", s)\n",
    "    s = s.lower()\n",
    "    s = PUNC_RE.sub(\" \", s)\n",
    "    if not KEEP_NUMBERS:\n",
    "        s = re.sub(r\"\\d+\", \" \", s)\n",
    "    s = KEEP_LATIN_VI.sub(\" \", s)\n",
    "    s = re.sub(r\"\\s{2,}\", \" \", s).strip()\n",
    "    if USE_UNDERthesea and HAS_UNDER:\n",
    "        s = underthesea.word_tokenize(s, format=\"text\")\n",
    "    if DROP_STOPWORDS:\n",
    "        s = \" \".join(w for w in s.split() if w not in VN_STOPWORDS)\n",
    "    return s\n",
    "\n",
    "# --- RUN ---\n",
    "df = pd.read_csv(INPUT_CSV, dtype=str)\n",
    "df[\"description\"] = df[\"description\"].fillna(\"\").apply(clean_desc)\n",
    "df = df[df[\"description\"].apply(lambda x: len(x) >= 30 and len(x.split()) >= 4)].reset_index(drop=True)\n",
    "df = df[[\"video_id\", \"description\"]]\n",
    "df.to_csv(OUT_CSV, index=False, encoding=\"utf-8-sig\")\n",
    "print(\"Saved:\", OUT_CSV, \"| Rows:\", len(df))"
   ]
  },
  {
   "cell_type": "markdown",
   "id": "d9407582",
   "metadata": {},
   "source": [
    "# Load SupSimCSE–PhoBERT model"
   ]
  },
  {
   "cell_type": "code",
   "execution_count": 28,
   "id": "ceeb7abe",
   "metadata": {},
   "outputs": [
    {
     "name": "stderr",
     "output_type": "stream",
     "text": [
      "SupSimCSE encode: 100%|████████████████████████████████████████████████████████████████| 31/31 [26:51<00:00, 51.99s/it]"
     ]
    },
    {
     "name": "stdout",
     "output_type": "stream",
     "text": [
      "Saved: embeddings_desc_phobert.npy | Shape: (7819, 768)\n"
     ]
    },
    {
     "name": "stderr",
     "output_type": "stream",
     "text": [
      "\n"
     ]
    }
   ],
   "source": [
    "from sentence_transformers import SentenceTransformer, models\n",
    "import numpy as np, pandas as pd\n",
    "from tqdm import tqdm\n",
    "\n",
    "MODEL_PATH = r\"C:\\Users\\DELL\\.cache\\huggingface\\hub\\models--VoVanPhuc--sup-SimCSE-VietNamese-phobert-base\\snapshots\\608779b86741a8acd8c8d38132974ff04086b138\"\n",
    "INPUT_CSV = \"stage1_desc_clean.csv\"\n",
    "EMB_FILE  = \"embeddings_desc_phobert.npy\"\n",
    "\n",
    "df = pd.read_csv(INPUT_CSV, dtype=str)\n",
    "texts = df[\"description\"].fillna(\"\").tolist()\n",
    "\n",
    "word_emb = models.Transformer(MODEL_PATH, max_seq_length=256)\n",
    "pooling = models.Pooling(word_emb.get_word_embedding_dimension(), pooling_mode_mean_tokens=True)\n",
    "normalize = models.Normalize()\n",
    "model = SentenceTransformer(modules=[word_emb, pooling, normalize])\n",
    "\n",
    "BATCH = 256\n",
    "emb_list = []\n",
    "\n",
    "for i in tqdm(range(0, len(texts), BATCH), desc=\"SupSimCSE encode\"):\n",
    "    emb_batch = model.encode(texts[i:i+BATCH], normalize_embeddings=True, show_progress_bar=False)\n",
    "    emb_list.append(emb_batch)\n",
    "\n",
    "emb = np.vstack(emb_list)\n",
    "np.save(EMB_FILE, emb)\n",
    "print(f\"Saved: {EMB_FILE} | Shape: {emb.shape}\")"
   ]
  },
  {
   "cell_type": "markdown",
   "id": "53e3131e",
   "metadata": {},
   "source": [
    "# Xây dựng mô hình BERTopic (sử dụng embedding SupSimCSE–PhoBERT)"
   ]
  },
  {
   "cell_type": "code",
   "execution_count": 29,
   "id": "8e2929d4",
   "metadata": {},
   "outputs": [
    {
     "name": "stdout",
     "output_type": "stream",
     "text": [
      "Loaded embeddings: (7819, 768)\n"
     ]
    },
    {
     "name": "stderr",
     "output_type": "stream",
     "text": [
      "2025-10-12 17:56:55,607 - BERTopic - Dimensionality - Fitting the dimensionality reduction algorithm\n",
      "2025-10-12 17:57:14,728 - BERTopic - Dimensionality - Completed ✓\n",
      "2025-10-12 17:57:14,732 - BERTopic - Cluster - Start clustering the reduced embeddings\n",
      "2025-10-12 17:57:17,821 - BERTopic - Cluster - Completed ✓\n",
      "2025-10-12 17:57:17,844 - BERTopic - Representation - Fine-tuning topics using representation models.\n",
      "2025-10-12 17:57:18,578 - BERTopic - Representation - Completed ✓\n",
      "2025-10-12 17:57:19,182 - BERTopic - Topic reduction - Reducing number of topics\n",
      "2025-10-12 17:57:19,209 - BERTopic - Representation - Fine-tuning topics using representation models.\n",
      "2025-10-12 17:57:19,808 - BERTopic - Representation - Completed ✓\n",
      "2025-10-12 17:57:19,812 - BERTopic - Topic reduction - Reduced number of topics from 72 to 46\n",
      "2025-10-12 17:57:20,355 - BERTopic - WARNING: When you use `pickle` to save/load a BERTopic model,please make sure that the environments in which you saveand load the model are **exactly** the same. The version of BERTopic,its dependencies, and python need to remain the same.\n"
     ]
    },
    {
     "name": "stdout",
     "output_type": "stream",
     "text": [
      "Saved refined result: stage3_desc_bertopic.csv | Topics detected: 71\n",
      "BERTopic model saved: bertopic_desc_supSimCSE_phobert\n"
     ]
    }
   ],
   "source": [
    "from bertopic import BERTopic\n",
    "import pandas as pd, numpy as np, umap, hdbscan\n",
    "\n",
    "IN_CSV   = \"stage1_desc_clean.csv\"\n",
    "EMB_FILE = \"embeddings_desc_phobert.npy\"\n",
    "OUT_CSV  = \"stage3_desc_bertopic.csv\"\n",
    "\n",
    "df = pd.read_csv(IN_CSV, dtype=str)\n",
    "texts = df[\"description\"].tolist()\n",
    "emb = np.load(EMB_FILE)\n",
    "print(\"Loaded embeddings:\", emb.shape)\n",
    "\n",
    "umap_model = umap.UMAP(n_neighbors=25, n_components=15, metric='cosine', random_state=42)\n",
    "hdb_model = hdbscan.HDBSCAN(min_cluster_size=18, metric='euclidean', cluster_selection_method='eom', prediction_data=True)\n",
    "\n",
    "topic_model = BERTopic(\n",
    "    language=\"multilingual\",\n",
    "    umap_model=umap_model,\n",
    "    hdbscan_model=hdb_model,\n",
    "    calculate_probabilities=True,\n",
    "    min_topic_size=18,\n",
    "    verbose=True\n",
    ")\n",
    "\n",
    "topics, probs = topic_model.fit_transform(texts, embeddings=emb)\n",
    "df[\"topic_id\"] = topics\n",
    "df[\"topic_prob\"] = np.max(probs, axis=1)\n",
    "\n",
    "topic_model.reduce_topics(texts, nr_topics=\"auto\")\n",
    "\n",
    "topic_info = topic_model.get_topic_info()\n",
    "topic_map = {row[\"Topic\"]: row[\"Name\"] for _, row in topic_info.iterrows()}\n",
    "df[\"topic_name\"] = df[\"topic_id\"].map(topic_map)\n",
    "\n",
    "df = df[df[\"topic_id\"] != -1].copy()\n",
    "df = df[[\"video_id\", \"description\", \"topic_id\", \"topic_name\"]]\n",
    "\n",
    "df.to_csv(OUT_CSV, index=False, encoding=\"utf-8-sig\")\n",
    "print(f\"Saved refined result: {OUT_CSV} | Topics detected: {df['topic_id'].nunique()}\")\n",
    "topic_model.save(\"bertopic_desc_supSimCSE_phobert\")\n",
    "print(\"BERTopic model saved: bertopic_desc_supSimCSE_phobert\")"
   ]
  },
  {
   "cell_type": "code",
   "execution_count": 30,
   "id": "14e18830",
   "metadata": {},
   "outputs": [
    {
     "data": {
      "application/vnd.microsoft.datawrangler.viewer.v0+json": {
       "columns": [
        {
         "name": "index",
         "rawType": "int64",
         "type": "integer"
        },
        {
         "name": "Topic",
         "rawType": "int64",
         "type": "integer"
        },
        {
         "name": "Count",
         "rawType": "int64",
         "type": "integer"
        },
        {
         "name": "Name",
         "rawType": "object",
         "type": "string"
        },
        {
         "name": "Representation",
         "rawType": "object",
         "type": "unknown"
        },
        {
         "name": "Representative_Docs",
         "rawType": "object",
         "type": "unknown"
        }
       ],
       "ref": "9a446ddc-54ec-47e7-afc3-84010ff4209b",
       "rows": [
        [
         "0",
         "-1",
         "2712",
         "-1_video_để_kênh_người",
         "['video', 'để', 'kênh', 'người', 'xem', 'không', 'đăng_ký', 'bản_quyền', 'có', 'mới']",
         "['tag_tin tức 24 h_tag_tintuc toàn_cảnh tin_tức an_ninh trật_tự nóng thời_sự việt_nam mới nhất 24 h tối_ngày 2 8 cả chục ông vây đánh 3 cô gái ở karaoke phantom bãi cháy tạm giữ hình_sự 6 người dàn_cảnh bắt_cóc dọa bán qua campuchia để tống_tiền gia_đình đồng_nai công_an xác_minh xe_khách xả rác xuống_đường dừng đèn_đỏ công_an tphcm lập tổ công_tác đặc_biệt xử_lý nạn bắt_cóc online bắt_giữ 10 con_bạc sát_phạt nhau tầng hầm căn nhà ở phú_thọ công_ty ma tiệm vàng vận_chuyển hơn 4 150 tỷ đồng tội_phạm thế_nào người khác dùng dữ_liệu cá_nhân để phạm_tội có_thể bị tù_tin24h kênh youtube chia_sẻ nội_dung tin_tức thời_sự thời_sự 19 h tin_tức mới tin mới thời_sự quốc_tế tin_tức 24 h mới nhất nga ukraine mới nhất tin_tức nga ukraine mới nhất nga ukraine tin biển đông tin nóng nội_dung giải_trí hấp_dẫn phát_sóng trên kênh chương_trình đài_truyền_hình tin_tức cập_nhật chương_trình truyền_hình trực_tiếp chương_trình thể_thao bóng_đá giải_trí game show showbiz mong_muốn cập_nhật thông_tin chính_xác nhanh nhất trên nền_tảng số quý_vị cảm_ơn xem video đừng quên nhấn vào đăng_ký kênh biểu_tượng phía dưới góc phải video để không bỏ lỡ video mới nhất đăng_ký kênh miễn_phí đây xem clip mới hấp_dẫn nhất thể_thao an_ninh ngày mới hôm_nay tin_tức mới nhất 24 h hôm_nay tin_tức công_nghệ tổng_hợp bản tin thời_sự tổng_hợp hàng ngày vòng loại world_cup 2020 đội_tuyển việt_nam tổng_hợp theo_dõi kênh tin_tức 24 h online trên facebook twitter fair use for news reporting_and mọi vấn_đề video vi_phạm bản_quyền chính_sách nguyên_tắc cộng_đồng chúng_tôi xóa xin liên_hệ trực_tiếp qua email if there are any copyright issues with any videos posted here we will remove them please contact our email', 'tag_tin tức 24 h tag_tintuc cập_nhật tin_tức an_ninh trật_tự nóng thời_sự việt_nam mới nhất 24 h sáng ngày 23 9 diễn_biến mới nhất vụ xây nhà nhầm trên đất người khác ở hải_phòng chủ đất gửi đơn tố_cáo công_an vụ máy hỏng vẫn kê_khai tán_sỏi hàng trăm ca khởi_tố bắt 2 bác_sĩ hà_nội nửa_đêm khủng_bố tổng_đài 113 114 báo cháy giả_lừa người_nhà hơn 5 4 tỷ đồng_bằng dự_án ai giả xác_minh việc cụ ông ở hà_nội bị lục_soát người trộm ví tiền giữa đường chủ_tịch đà_nẵng kêu_gọi đấu_tranh chống tội_phạm trên không_gian mạng tìm bị hại vụ tài_xế chặt chém 2 5 triệu đồng cuốc xe 70 km thực_hư thông_tin xe_máy du_khách bị nhân_viên xô ngã bãi biển đà_nẵng hai tân sinh_viên bị lừa_đảo dụ_dỗ tìm thấy ở tây_ninh tin24h kênh youtube chia_sẻ nội_dung tin_tức thời_sự thời_sự 19 h tin_tức mới tin mới thời_sự quốc_tế tin_tức 24 h mới nhất nga ukraine mới nhất tin_tức nga ukraine mới nhất nga ukraine tin biển đông tin nóng nội_dung giải_trí hấp_dẫn phát_sóng trên kênh chương_trình đài_truyền_hình tin_tức cập_nhật chương_trình truyền_hình trực_tiếp chương_trình thể_thao bóng_đá giải_trí game show showbiz mong_muốn cập_nhật thông_tin chính_xác nhanh nhất trên nền_tảng số quý_vị cảm_ơn xem video đừng quên nhấn vào đăng_ký kênh biểu_tượng phía dưới góc phải video để không bỏ lỡ video mới nhất đăng_ký kênh miễn_phí đây xem clip mới hấp_dẫn nhất thể_thao an_ninh ngày mới hôm_nay tin_tức mới nhất 24 h hôm_nay tin_tức công_nghệ tổng_hợp bản tin thời_sự tổng_hợp hàng ngày vòng loại world_cup 2020 đội_tuyển việt_nam tổng_hợp theo_dõi kênh tin_tức 24 h online trên facebook twitter fair use for news reporting_and mọi vấn_đề video vi_phạm bản_quyền chính_sách nguyên_tắc cộng_đồng chúng_tôi xóa xin liên_hệ trực_tiếp qua email if there are any copyright issues with any videos posted here we will remove them please contact our email', 'tag_tin tức 24 h tag_tintuc cập_nhật tin_tức an_ninh trật_tự nóng thời_sự việt_nam mới nhất 24 h trưa ngày 3 7 tài_xế ô_tô ngược chiều đòi đánh người quay video ở tphcm nói gì công_an vào_cuộc vụ hiệu_trưởng rút_ruột tiền ngân_sách ở ninh_bình bắt giam giám_đốc công_ty athena việt_nam sản_xuất kem chống nắng giả bắt người phụ_nữ livestream chửi_bới tòa_án ở tuyên_quang cơm_bình_dân 400 000 đồng ở hạ long du_lịch nên phải chấp_nhận giá cao tin24h kênh youtube chia_sẻ nội_dung tin_tức thời_sự thời_sự 19 h tin_tức mới tin mới thời_sự quốc_tế tin_tức 24 h mới nhất nga ukraine mới nhất tin_tức nga ukraine mới nhất nga ukraine tin biển đông tin nóng nội_dung giải_trí hấp_dẫn phát_sóng trên kênh chương_trình đài_truyền_hình tin_tức cập_nhật chương_trình truyền_hình trực_tiếp chương_trình thể_thao bóng_đá giải_trí game show showbiz mong_muốn cập_nhật thông_tin chính_xác nhanh nhất trên nền_tảng số quý_vị cảm_ơn xem video đừng quên nhấn vào đăng_ký kênh biểu_tượng phía dưới góc phải video để không bỏ lỡ video mới nhất đăng_ký kênh miễn_phí đây xem clip mới hấp_dẫn nhất thể_thao an_ninh ngày mới hôm_nay tin_tức mới nhất 24 h hôm_nay tin_tức công_nghệ tổng_hợp bản tin thời_sự tổng_hợp hàng ngày vòng loại world_cup 2020 đội_tuyển việt_nam tổng_hợp theo_dõi kênh tin_tức 24 h online trên facebook twitter fair use for news reporting_and mọi vấn_đề video vi_phạm bản_quyền chính_sách nguyên_tắc cộng_đồng chúng_tôi xóa xin liên_hệ trực_tiếp qua email if there are any copyright issues with any videos posted here we will remove them please contact our email']"
        ],
        [
         "1",
         "0",
         "1734",
         "0_bóng_đá_phim_kênh_việt_nam",
         "['bóng_đá', 'phim', 'kênh', 'việt_nam', 'hay', 'nhất', 'nhạc', 'không', 'trực_tiếp', 'bản_quyền']",
         "['chính_thức tv360 có bản_quyền champions_league trọn_vẹn 3 mùa giải_cúp châu_âu 2024 2027 độc_quyền 74 trận hay nhất mỗi mùa chỉ có trên tv360 chính_thức độc_quyền phát_sóng bundesliga trên tv360 trọn_vẹn 3 mùa giải 2025 2028 uefa champions league 25 26 uefa europa league 25 26 uefa conference league 25 26 uefa youth league 25 26 bundesliga 25 26 uefa super cup 25 26 trải_nghiệm trọn_vẹn trên app tv360 tag_yosport tag_tv360 tag_tv360dinhcaobongda tag_tv360thethao tag_bongda tag_highlight tag_highlights kênh youtube vận_hành bảo_trợ truyền_thông bởi yosport liên_hệ booking quảng_cáo 037 967 6666 bản_quyền thuộc tv360 copyright by_tv360 and_partner do not reup copyright all rights reserved tag yosport tv360 tv360 thể_thao tv360 football news_highlight bóng_đá bong da_bong da truc tiep hom nay bóng_đá đá bóng truc tiep bong da hom nay fpt bóng_đá highlight bóng_đá trực_tiếp hôm_nay da bong đá bóng trực_tiếp hôm_nay trực_tiếp bóng_đá hôm_nay bóng_đá hôm_nay đá banh bóng_đá ngoại_hạng anh highlight bóng_đá mới nhất_bóng_đá châu_âu_k trực_tiếp bóng_đá kplus sport k sports xem bóng_đá video_bong da moi nhat ket qua bong da hom nay c1 cúp c1 champions league c1 đêm qua highlight c1 cup c1 2025 ngoại_hạng anh bong da ngoai hang anh 2025 c2_highlight bóng_đá c1 c1 highlight europa league uefa champions league cúp c1 châu_âu cup c1_ucl bóng_đá cúp c1 c1 châu_âu đá bóng ngoại_hạng anh bóng_đá c1 mu manchester united real madrid chelsea arsenal tottenham mu vs barca_man city psg liverpool barcelona inter milan bayern munich highlight mu mc_man utd real barca vs manchester city chelsea vs mc vs tottenham vs real vs_bồ đào_nha bồ đào_nha vs_tây ban nha_tây ban nha_tây ban_nha vs_pháp đội_tuyển anh bo dao_nha ronaldo bundesliga bundesliga 25 26', 'chính_thức tv360 có bản_quyền champions_league trọn_vẹn 3 mùa giải_cúp châu_âu 2024 2027 độc_quyền 74 trận hay nhất mỗi mùa chỉ có trên tv360 chính_thức độc_quyền phát_sóng bundesliga trên tv360 trọn_vẹn 3 mùa giải 2025 2028 uefa champions league 25 26 uefa europa league 25 26 uefa conference league 25 26 uefa youth league 25 26 bundesliga 25 26 uefa super cup 25 26 trải_nghiệm trọn_vẹn trên app tv360 tag_yosport tag_tv360 tag_tv360dinhcaobongda tag_tv360thethao tag_bongda tag_highlight tag_highlights kênh youtube vận_hành bảo_trợ truyền_thông bởi yosport liên_hệ booking quảng_cáo 037 967 6666 bản_quyền thuộc tv360 copyright by_tv360 and_partner do not reup copyright all rights reserved tag yosport tv360 tv360 thể_thao tv360 football news_highlight bóng_đá bong da_bong da truc tiep hom nay bóng_đá đá bóng truc tiep bong da hom nay fpt bóng_đá highlight bóng_đá trực_tiếp hôm_nay da bong đá bóng trực_tiếp hôm_nay trực_tiếp bóng_đá hôm_nay bóng_đá hôm_nay đá banh bóng_đá ngoại_hạng anh highlight bóng_đá mới nhất_bóng_đá châu_âu_k trực_tiếp bóng_đá kplus sport k sports xem bóng_đá video_bong da moi nhat ket qua bong da hom nay c1 cúp c1 champions league c1 đêm qua highlight c1 cup c1 2025 ngoại_hạng anh bong da ngoai hang anh 2025 c2_highlight bóng_đá c1 c1 highlight europa league uefa champions league cúp c1 châu_âu cup c1_ucl bóng_đá cúp c1 c1 châu_âu đá bóng ngoại_hạng anh bóng_đá c1 mu manchester united real madrid chelsea arsenal tottenham mu vs barca_man city psg liverpool barcelona inter milan bayern munich highlight mu mc_man utd real barca vs manchester city chelsea vs mc vs tottenham vs real vs_bồ đào_nha bồ đào_nha vs_tây ban nha_tây ban nha_tây ban_nha vs_pháp đội_tuyển anh bo dao_nha ronaldo bundesliga bundesliga 25 26', 'chính_thức tv360 có bản_quyền champions_league trọn_vẹn 3 mùa giải_cúp châu_âu 2024 2027 độc_quyền 74 trận hay nhất mỗi mùa chỉ có trên tv360 chính_thức độc_quyền phát_sóng bundesliga trên tv360 trọn_vẹn 3 mùa giải 2025 2028 uefa champions league 25 26 uefa europa league 25 26 uefa conference league 25 26 uefa youth league 25 26 bundesliga 25 26 uefa super cup 25 26 trải_nghiệm trọn_vẹn trên app tv360 tag_yosport tag_tv360 tag_tv360nhandinhbongda tag_tv360thethao tag_highlights subscribe kênh kênh youtube vận_hành bảo_trợ truyền_thông bởi yosport liên_hệ booking quảng_cáo 037 967 6666 bản_quyền thuộc tv360 copyright by_tv360 and_partner do not reup copyright all rights reserved yosport tv360 tv360 thể_thao tv360 football news_highlight bóng_đá bong da_bong da truc tiep hom nay bóng_đá đá bóng truc tiep bong da hom nay fpt bóng_đá highlight bóng_đá trực_tiếp hôm_nay da bong đá bóng trực_tiếp hôm_nay trực_tiếp bóng_đá hôm_nay bóng_đá hôm_nay đá banh bóng_đá ngoại_hạng anh highlight bóng_đá mới nhất_bóng_đá châu_âu_k trực_tiếp bóng_đá kplus sport k sports xem bóng_đá video_bong da moi nhat ket qua bong da hom nay c1 cúp c1 champions league c1 đêm qua highlight c1 cup c1 2025 ngoại_hạng anh bong da ngoai hang anh 2025 c2_highlight bóng_đá c1 c1 highlight europa league uefa champions league cúp c1 châu_âu cup c1_ucl bóng_đá cúp c1 c1 châu_âu đá bóng ngoại_hạng anh bóng_đá c1 mu manchester united real madrid chelsea arsenal tottenham mu vs barca_man city psg liverpool barcelona inter milan bayern munich highlight mu mc_man utd real barca vs manchester city chelsea vs mc vs tottenham vs real vs_bồ đào_nha bồ đào_nha vs_tây ban nha_tây ban nha_tây ban_nha vs_pháp đội_tuyển anh bo dao_nha ronaldo']"
        ],
        [
         "2",
         "1",
         "360",
         "1_điện_thoại_giá_sản_phẩm_vật_vờ",
         "['điện_thoại', 'giá', 'sản_phẩm', 'vật_vờ', 'iphone', 'mua', 'studio', 'pro', 'xiaomi', 'đánh_giá']",
         "['đánh_giá nhanh iphone 17 pro iphone 17 pro max mua iphone 17 series chính hãng topzone tham_khảo iphone 17 series chính hãng thegioididong xin chào video chúng_ta cùng khám_phá chi_tiết hai siêu_phẩm mới nhất apple iphone 17 pro iphone 17 pro max_liệu nâng_cấp cụm camera thiết_kế khung nhôm nguyên_khối hệ_thống tản_nhiệt chất_lỏng màn_hình có tần_số quét 120 hz cùng độ sáng 3000 nits có thực_sự mang trải_nghiệm đột_phá đặc_biệt iphone 17 pro max còn gây ấn_tượng thời_lượng pin cực khủng khả_năng sạc nhanh vượt_trội hãy cùng xem iphone 17 pro iphone 17 pro max có xứng_đáng mức giá kỳ_vọng mà người dùng đặt ra không data thỏa thích cùng wintel x vật_vờ studio combo_gói cước độc_quyền bốc_túi mù nhận ngay data không giới_hạn mỗi tháng tham_gia group cộng_đồng gacha data vật_vờ studio tag_vinhxo tag_review tag_iphone17promax sang kênh vinh_xxx xem thêm video mà trải_nghiệm mẫu xe đỉnh_cao tham_gia cộng_đồng ai việt_nam trên group facebook cùng vật_vờ studio tham_gia làm hội_viên vinh_xô để hưởng đặc_quyền tham_gia group kèo_thơm để mua sản_phẩm công_nghệ giá tốt theo_dõi fanpage vinh_vật_vờ theo_dõi instagram vinh_vật_vờ email liên_hệ hợp_tác', 'đánh_giá iphone 17 sau 36 2 giờ sử_dụng mua iphone 17 series chính hãng topzone tham_khảo iphone 17 series chính hãng thegioididong_video đưa anh_em đi_sâu vào cải_tiến đáng chú_ý iphone 17 phiên_bản hứa_hẹn mang sự vượt_trội mọi mặt dù thiết_kế tổng_thể vẫn giữ nét quen_thuộc nhưng bên chiếc điện_thoại cả sự nâng_cấp toàn_diện hiệu_năng mạnh_mẽ khả_năng hiển_thị ấn_tượng đặc_biệt hãy cùng khám_phá điểm nhấn thú_vị camera thời_lượng pin cải_thiện_liệu iphone 17 có phải lựa_chọn xứng_đáng năm nay data thỏa thích cùng wintel x vật_vờ studio combo_gói cước độc_quyền bốc_túi mù nhận ngay data không giới_hạn mỗi tháng tham_gia group cộng_đồng gacha data vật_vờ studio tag_vinhxo tag_review sang kênh vinh_xxx xem thêm video mà trải_nghiệm mẫu xe đỉnh_cao tham_gia cộng_đồng ai việt_nam trên group facebook cùng vật_vờ studio tham_gia làm hội_viên vinh_xô để hưởng đặc_quyền tham_gia group kèo_thơm để mua sản_phẩm công_nghệ giá tốt theo_dõi fanpage vinh_vật_vờ theo_dõi instagram vinh_vật_vờ email liên_hệ hợp_tác', 'đánh_giá nhanh xiaomi 17 pro max sửa_chữa điện_thoại tới fastcare tham_khảo anh_em xiaomi 17 pro max chiếc điện_thoại xách tay nhận sự quan_tâm lớn chiếc máy không_chỉ sở_hữu thiết_kế độc_đáo màn_hình phụ ở mặt lưng mà_còn mang trải_nghiệm sử_dụng thú_vị hiệu_năng mạnh_mẽ video chúng_ta cùng khám_phá điểm nổi_bật xiaomi 17 pro max màn_hình hiệu_năng thời_lượng pin ấn_tượng chất_lượng camera xuất_sắc bên cạnh video cũng giải_đáp thắc_mắc thường gặp xiaomi 17 pro max ngôn_ngữ thông_báo khả_năng ghi_âm cuộc_gọi cài_đặt ứng_dụng ngân_hàng hãy cùng tìm_hiểu xem_liệu chiếc điện_thoại có phù_hợp nhu_cầu không data thỏa thích cùng wintel x vật_vờ studio combo_gói cước độc_quyền bốc_túi mù nhận ngay data không giới_hạn mỗi tháng tham_gia group cộng_đồng gacha data vật_vờ studio tag_vinhxo tag_review tag_vatvostudio tag_vtmedia sang kênh vinh_xxx xem thêm video mà trải_nghiệm mẫu xe đỉnh_cao tham_gia cộng_đồng ai việt_nam trên group facebook cùng vật_vờ studio tham_gia làm hội_viên vinh_xô để hưởng đặc_quyền tham_gia group kèo_thơm để mua sản_phẩm công_nghệ giá tốt theo_dõi fanpage vinh_vật_vờ theo_dõi instagram vinh_vật_vờ email liên_hệ hợp_tác 0 00 mở_đầu 1 05 thiết_kế 2 30 cầm nắm 3 30 hiệu_năng phần_mềm 6 02 pin phụ_kiện 6 33 camera quay chụp 8 28 tổng_kết']"
        ],
        [
         "3",
         "2",
         "333",
         "2_tin_tức_an_ninh_tin_mới",
         "['tin_tức', 'an_ninh', 'tin', 'mới', 'antv', 'nhất', '24', 'thời_sự', 'trật_tự', 'quốc_tế']",
         "['antv tin an_ninh trật_tự nóng mới nhất 24 h sáng 7 9 cập_nhật tin_tức an_ninh trật_tự 24 h mới nhất vụ án hình_sự nóng nhất ngày thông_tin pháp_luật đời_sống xã_hội mời quý_vị khán_giả xem thêm tin_tức hoạt_động tổng_bí_thư tô_lâm tin_tức hoạt_động đại_tướng lương tam_quang ủy_viên bộ chính_trị bộ_trưởng bộ công_an nghị_quyết số 12 nq tw xây_dựng lực_lượng cand hành_trình phá_án vụ án kinh_điển đăng_ký an_ninh tv_tải ứng_dụng antv go trên app store google play antv truyền_hình cand kênh tin_tức thời_sự an_ninh trật_tự chuyên_biệt tin_tức mới nhất cập_nhật liên_tục hàng ngày nguyên_tắc thông_tin nhân_văn tin_cậy kịp_thời hấp_dẫn có ý_kiến xây_dựng đề_nghị vui_lòng để lại comment phía dưới video website chính_thức fanpage chính_thức mong mọi người ủng_hộ subscribe kênh cũng đừng quên bấm like share bạn_bè xin cảm_ơn xin chào_chúc mọi người xem vui_vẻ tag_antv tag_truyenhinhcongannhandan tag_tintuc24h', 'antv tin an_ninh trật_tự nóng mới nhất 24 h sáng 3 9 cập_nhật tin_tức an_ninh trật_tự 24 h mới nhất vụ án hình_sự nóng nhất ngày thông_tin pháp_luật đời_sống xã_hội mời quý_vị khán_giả xem thêm tin_tức hoạt_động tổng_bí_thư tô_lâm tin_tức hoạt_động đại_tướng lương tam_quang ủy_viên bộ chính_trị bộ_trưởng bộ công_an nghị_quyết số 12 nq tw xây_dựng lực_lượng cand hành_trình phá_án vụ án kinh_điển đăng_ký an_ninh tv_tải ứng_dụng antv go trên app store google play antv truyền_hình cand kênh tin_tức thời_sự an_ninh trật_tự chuyên_biệt tin_tức mới nhất cập_nhật liên_tục hàng ngày nguyên_tắc thông_tin nhân_văn tin_cậy kịp_thời hấp_dẫn có ý_kiến xây_dựng đề_nghị vui_lòng để lại comment phía dưới video website chính_thức fanpage chính_thức mong mọi người ủng_hộ subscribe kênh cũng đừng quên bấm like share bạn_bè xin cảm_ơn xin chào_chúc mọi người xem vui_vẻ tag_antv tag_truyenhinhcongannhandan tag_tintuc24h', 'antv tin an_ninh trật_tự nóng mới nhất 24 h sáng 24 9 cập_nhật tin_tức an_ninh trật_tự 24 h mới nhất vụ án hình_sự nóng nhất ngày thông_tin pháp_luật đời_sống xã_hội mời quý_vị khán_giả xem thêm tin_tức hoạt_động tổng_bí_thư tô_lâm tin_tức hoạt_động đại_tướng lương tam_quang ủy_viên bộ chính_trị bộ_trưởng bộ công_an nghị_quyết số 12 nq tw xây_dựng lực_lượng cand hành_trình phá_án vụ án kinh_điển đăng_ký an_ninh tv_tải ứng_dụng antv go trên app store google play antv truyền_hình cand kênh tin_tức thời_sự an_ninh trật_tự chuyên_biệt tin_tức mới nhất cập_nhật liên_tục hàng ngày nguyên_tắc thông_tin nhân_văn tin_cậy kịp_thời hấp_dẫn có ý_kiến xây_dựng đề_nghị vui_lòng để lại comment phía dưới video website chính_thức fanpage chính_thức mong mọi người ủng_hộ subscribe kênh cũng đừng quên bấm like share bạn_bè xin cảm_ơn xin chào_chúc mọi người xem vui_vẻ tag_antv tag_truyenhinhcongannhandan tag_tintuc24h']"
        ],
        [
         "4",
         "3",
         "312",
         "3_khỏe_sức_sức_khỏe_bác_sĩ",
         "['khỏe', 'sức', 'sức_khỏe', 'bác_sĩ', 'bệnh', 'giúp', 'sống', 'tốt', 'khớp', 'chăm_sóc']",
         "['mô_tả chung video bí_quyết giữ_gìn sức_khỏe toàn_diện sức khỏe vàng tag_chămsócsứckhỏe tag_bảovệsứckhỏe tag_sốngkhỏemỗingày trên kênh sức khỏe vàng video bí_quyết giữ_gìn sức_khỏe toàn_diện sức khỏe vàng tag_chămsócsứckhỏe tag_bảovệsứckhỏe tag_sốngkhỏemỗingày chuyên chia_sẻ kiến_thức hữu_ích chăm_sóc sức_khỏe phòng_ngừa bệnh_tật một_cách tự_nhiên nội_dung chúng_tôi bao_gồm bài thuốc_nam phương_pháp chữa bệnh tự_nhiên cung_cấp bài thuốc_nam hiệu_quả mẹo chữa bệnh dân_gian giúp chăm_sóc sức_khỏe một_cách an_toàn bền_vững thực_phẩm tốt sức khỏe giới_thiệu thực_phẩm dinh_dưỡng giúp cơ_thể khỏe mạnh tăng sức đề_kháng hỗ_trợ điều_trị bệnh bài_tập tốt sức khỏe hướng_dẫn bài_tập_thể_dục giúp duy_trì vóc_dáng cải_thiện sức khỏe tim_mạch giảm căng_thẳng tăng_cường thể_lực mẹo chăm_sóc sức khỏe hàng ngày thói_quen tốt giúp sống khỏe mạnh hơn mỗi ngày dinh_dưỡng sức khỏe cách xây_dựng chế_độ ăn_uống hợp_lý cân_bằng dinh_dưỡng để duy_trì cơ_thể khỏe mạnh chăm_sóc sức khỏe mùa hướng_dẫn cách bảo_vệ sức khỏe vào từng mùa năm phòng_tránh bệnh thời_tiết chăm_sóc sức khỏe người cao_tuổi bí_quyết giúp người cao_tuổi có cuộc_sống lành_mạnh vui_vẻ vấn_đề sức khỏe thường gặp tìm_hiểu nguyên_nhân cách phòng_tránh bệnh_lý phổ_biến tiểu_đường huyết_áp cao_đau nhức xương khớp mất_ngủ đau_đầu viêm xoang lời khuyên chuyên_gia sức_khỏe thông_tin hữu_ích bác_sĩ chuyên_gia y_tế giúp hiểu rõ hơn cách chăm_sóc cơ_thể hãy theo_dõi kênh để cập_nhật kiến_thức mới nhất áp_dụng vào cuộc_sống hàng ngày để luôn có cơ_thể khỏe mạnh tràn_đầy năng_lượng', 'mô_tả chung video bí_quyết giữ_gìn sức_khỏe toàn_diện sức khỏe vàng tag_chămsócsứckhỏe tag_bảovệsứckhỏe tag_sốngkhỏemỗingày trên kênh sức khỏe vàng video bí_quyết giữ_gìn sức_khỏe toàn_diện sức khỏe vàng tag_chămsócsứckhỏe tag_bảovệsứckhỏe tag_sốngkhỏemỗingày chuyên chia_sẻ kiến_thức hữu_ích chăm_sóc sức_khỏe phòng_ngừa bệnh_tật một_cách tự_nhiên nội_dung chúng_tôi bao_gồm bài thuốc_nam phương_pháp chữa bệnh tự_nhiên cung_cấp bài thuốc_nam hiệu_quả mẹo chữa bệnh dân_gian giúp chăm_sóc sức_khỏe một_cách an_toàn bền_vững thực_phẩm tốt sức khỏe giới_thiệu thực_phẩm dinh_dưỡng giúp cơ_thể khỏe mạnh tăng sức đề_kháng hỗ_trợ điều_trị bệnh bài_tập tốt sức khỏe hướng_dẫn bài_tập_thể_dục giúp duy_trì vóc_dáng cải_thiện sức khỏe tim_mạch giảm căng_thẳng tăng_cường thể_lực mẹo chăm_sóc sức khỏe hàng ngày thói_quen tốt giúp sống khỏe mạnh hơn mỗi ngày dinh_dưỡng sức khỏe cách xây_dựng chế_độ ăn_uống hợp_lý cân_bằng dinh_dưỡng để duy_trì cơ_thể khỏe mạnh chăm_sóc sức khỏe mùa hướng_dẫn cách bảo_vệ sức khỏe vào từng mùa năm phòng_tránh bệnh thời_tiết chăm_sóc sức khỏe người cao_tuổi bí_quyết giúp người cao_tuổi có cuộc_sống lành_mạnh vui_vẻ vấn_đề sức khỏe thường gặp tìm_hiểu nguyên_nhân cách phòng_tránh bệnh_lý phổ_biến tiểu_đường huyết_áp cao_đau nhức xương khớp mất_ngủ đau_đầu viêm xoang lời khuyên chuyên_gia sức_khỏe thông_tin hữu_ích bác_sĩ chuyên_gia y_tế giúp hiểu rõ hơn cách chăm_sóc cơ_thể hãy theo_dõi kênh để cập_nhật kiến_thức mới nhất áp_dụng vào cuộc_sống hàng ngày để luôn có cơ_thể khỏe mạnh tràn_đầy năng_lượng', 'mô_tả chung video bí_quyết giữ_gìn sức_khỏe toàn_diện sức khỏe vàng tag_chămsócsứckhỏe tag_bảovệsứckhỏe tag_sốngkhỏemỗingày trên kênh sức khỏe vàng video bí_quyết giữ_gìn sức_khỏe toàn_diện sức khỏe vàng tag_chămsócsứckhỏe tag_bảovệsứckhỏe tag_sốngkhỏemỗingày chuyên chia_sẻ kiến_thức hữu_ích chăm_sóc sức_khỏe phòng_ngừa bệnh_tật một_cách tự_nhiên nội_dung chúng_tôi bao_gồm bài thuốc_nam phương_pháp chữa bệnh tự_nhiên cung_cấp bài thuốc_nam hiệu_quả mẹo chữa bệnh dân_gian giúp chăm_sóc sức_khỏe một_cách an_toàn bền_vững thực_phẩm tốt sức khỏe giới_thiệu thực_phẩm dinh_dưỡng giúp cơ_thể khỏe mạnh tăng sức đề_kháng hỗ_trợ điều_trị bệnh bài_tập tốt sức khỏe hướng_dẫn bài_tập_thể_dục giúp duy_trì vóc_dáng cải_thiện sức khỏe tim_mạch giảm căng_thẳng tăng_cường thể_lực mẹo chăm_sóc sức khỏe hàng ngày thói_quen tốt giúp sống khỏe mạnh hơn mỗi ngày dinh_dưỡng sức khỏe cách xây_dựng chế_độ ăn_uống hợp_lý cân_bằng dinh_dưỡng để duy_trì cơ_thể khỏe mạnh chăm_sóc sức khỏe mùa hướng_dẫn cách bảo_vệ sức khỏe vào từng mùa năm phòng_tránh bệnh thời_tiết chăm_sóc sức khỏe người cao_tuổi bí_quyết giúp người cao_tuổi có cuộc_sống lành_mạnh vui_vẻ vấn_đề sức khỏe thường gặp tìm_hiểu nguyên_nhân cách phòng_tránh bệnh_lý phổ_biến tiểu_đường huyết_áp cao_đau nhức xương khớp mất_ngủ đau_đầu viêm xoang lời khuyên chuyên_gia sức_khỏe thông_tin hữu_ích bác_sĩ chuyên_gia y_tế giúp hiểu rõ hơn cách chăm_sóc cơ_thể hãy theo_dõi kênh để cập_nhật kiến_thức mới nhất áp_dụng vào cuộc_sống hàng ngày để luôn có cơ_thể khỏe mạnh tràn_đầy năng_lượng']"
        ],
        [
         "5",
         "4",
         "188",
         "4_xe_đánh_giá_tipcar_tv",
         "['xe', 'đánh_giá', 'tipcar', 'tv', 'toyota', 'xehay', 'xe_máy', 'ô_tô', 'hybrid', 'tag_danhgiaxe']",
         "['đánh_giá volkswagen viloran mpv nhà giàu đúng nó phải thế xehay vn mục_lục 00 00 intro 00 54 giới_thiệu xe 02 23 động_cơ 03 12 thân xe 04 06 đuôi xe 05 06 nội_thất 07 16 khả_năng vận_hành 11 00 khả_năng cách âm 12 15 trang_bị an_toàn đủ dùng 13 48 hàng ghế thứ 2 17 45 hàng ghế thứ 3 cảm_ơn quý_vị đồng_hành cùng xehay chúng_tôi luôn cố_gắng mang tới quý_vị thước_phim hình_ảnh đẹp nhất nội_dung trau_chuốt nhất đừng tiếc chúng_tôi like share để lại comment để chúng_tôi có thêm động_lực làm video hay hơn_nữa đừng quên đăng_ký kênh để xem thêm video hấp_dẫn xe hay kênh tiktok chính_thức xe hay fanpage xe hay fanpage_hùng lâm_cộng_đồng xe hay liên_hệ bản_quyền thuộc xehay copyright by xehay do not reup tag_volkswagen tag_danhgiaxe', 'đánh_giá gac m6 pro giá 699 triệu đồng liệu có làm_khó toyota innova cross xehay vn mục_lục 00 00 intro 00 30 giới_thiệu xe 01 09 kích_thước 01 49 thiết_kế xe 02 43 động_cơ 03 20 thân xe 03 47 đuôi xe 05 04 nội_thất 07 13 hàng ghế thứ 2 08 00 hàng ghế thứ 3 cảm_ơn quý_vị đồng_hành cùng xehay chúng_tôi luôn cố_gắng mang tới quý_vị thước_phim hình_ảnh đẹp nhất nội_dung trau_chuốt nhất đừng tiếc chúng_tôi like share để lại comment để chúng_tôi có thêm động_lực làm video hay hơn_nữa đừng quên đăng_ký kênh để xem thêm video hấp_dẫn xe hay kênh tiktok chính_thức xe hay fanpage xe hay fanpage_hùng lâm_cộng_đồng xe hay liên_hệ bản_quyền thuộc xehay copyright by xehay do not reup tag_gac tag_gacm6 tag_danhgiaxe', 'tăng trang_bị giảm_giá bán diện_mạo thay_đổi chỉ còn 2 phiên_bản toyota corolla cross 2024 liệu đủ hấp_dẫn người dùng sau 3 năm xuất_hiện video mời anh_em cùng đánh_giá chi_tiết toyota corolla cross 2024 bản hev để xem ngần sự nâng_cấp có xứng_đáng để anh_em lựa_chọn liệu mẫu xe có_thể trở_lại cuộc đua top xe bán_chạy hay không mời anh_em cùng xem video tag_mexe tag_toyota tag_corollacross2024 timeline anh_em tiện theo_dõi 0 00 mở 0 50 ngoại thất 6 16 nội_thất 7 28 điểm nhỏ cần thay_đổi 11 59 thông_số động_cơ 20 08 toyota safety sense 23 58 tại_sao cross không lọt_top bán_chạy 27 20 kết tham_gia làm hội_viên mê xe để hưởng đặc_quyền nếu thấy video hay quý_vị đừng ngần_ngại bấm like nhớ subscribe kênh youtube_mê xe bấm chuông để không bỏ_lỡ bất_kì video nào tiếp_tục theo_dõi nội_dung hấp_dẫn khác trên mê xe chủ xe chia_sẻ đánh_giá xe so_sánh xe podcast tin_tức xe phụ kiện xe đánh_giá 2 bánh_fanpage mê xe group anh_em mê xe tiktok mạnh linh_mê xe liên_hệ hợp_tác my email to corporate phone 0948120136 email chỉ để liên_hệ hợp_tác không trả_lời thắc_mắc tư_vấn xin cảm_ơn bản_quyền thuộc mêxe copyright by mêxe please do not reup']"
        ],
        [
         "6",
         "5",
         "176",
         "5_ẩm_thực_khoai_đồng_quê_ăn",
         "['ẩm_thực', 'khoai', 'đồng_quê', 'ăn', 'ăn_uống', 'món', 'quê', 'du_lịch', 'đây', 'trấn_thành']",
         "['trận đấu quá khủng_khiếp người 200 k mua 7 món nước thắng 4 tr ôi trời ăn thấy sợ atđq không khuyến_khích làm chào_mừng ghé thăm ẩm_thực đồng_quê để cùng trải_nghiệm điều thú_vị hãy nhấn subscribe đăng_ký ngay để theo_dõi video mới nhất ẩm_thực đồng_quê đừng quên comment like subcribe kênh tag_amthucdongque tag_ẩmthựcđồngquê tag_atdq link kênh ẩm_thực đồng quê trang_fanpage ẩm_thực_đồng quê kênh tiktok chính_thức ẩm_thực đồng_quê bản_quyền thuộc sơn râu_vlogs đối_tác điền_quân network copyright by sơn râu vlogs_channel do not reup tag_sonrauvlog tag_amthuc', 'thử_thách 25 phút ăn 2 cái đầu heo khổng_lồ hết 3 tr thú_vị bất_ngờ atđq không khuyến_khích làm chào_mừng ghé thăm ẩm_thực đồng_quê để cùng trải_nghiệm điều thú_vị hãy nhấn subscribe đăng_ký ngay để theo_dõi video mới nhất ẩm_thực đồng_quê đừng quên comment like subcribe kênh tag_amthucdongque tag_ẩmthựcđồngquê tag_atdq link kênh ẩm_thực đồng quê trang_fanpage ẩm_thực_đồng quê kênh tiktok chính_thức ẩm_thực đồng_quê bản_quyền thuộc sơn râu_vlogs đối_tác điền_quân network copyright by sơn râu vlogs_channel do not reup tag_sonrauvlog tag_amthuc', 'trận đấu người 200 k mua 7 món đồ khô thắng 4 tr cái kết thú_vị khó tin atđq không khuyến_khích làm chào_mừng ghé thăm ẩm_thực đồng_quê để cùng trải_nghiệm điều thú_vị hãy nhấn subscribe đăng_ký ngay để theo_dõi video mới nhất ẩm_thực đồng_quê đừng quên comment like subcribe kênh tag_amthucdongque tag_ẩmthựcđồngquê tag_atdq link kênh ẩm_thực đồng quê trang_fanpage ẩm_thực_đồng quê kênh tiktok chính_thức ẩm_thực đồng_quê bản_quyền thuộc sơn râu_vlogs đối_tác điền_quân network copyright by sơn râu vlogs_channel do not reup tag_sonrauvlog tag_amthuc']"
        ],
        [
         "7",
         "6",
         "171",
         "6_tag_reviewphim_phim_review_tag_tomtatphim",
         "['tag_reviewphim', 'phim', 'review', 'tag_tomtatphim', 'tag_phimle', 'tag_phimhay', 'tóm_tắt', 'tag_reviewphimhay', 'tag_phimchieurap', 'hay']",
         "['tag_reviewphim tag_tomtatphim tag_phimle tóm_tắt phim hay review review phim sát_thủ hàng_đầu bị cả thế_giới ngầm truy_lùng tag tag_phimhay tag_reviewphim tag_reviewphimhay tag_phimchieurap tag_phimle tag_nguyenreview', 'tag_reviewphim tag_tomtatphim tag_phimle tóm_tắt phim hay review review phim nữ đặc_vụ đối_đầu tổ_chức ngầm nguy_hiểm nhất thế_giới tag tag_phimhay tag_reviewphim tag_reviewphimhay tag_phimchieurap tag_phimle tag_nguyenreview', 'tag_reviewphim tag_tomtatphim tag_phimle tóm_tắt phim hay review review phim anh phụ hồ không ngờ lại sát_thủ số 1 tag tag_phimhay tag_reviewphim tag_reviewphimhay tag_phimchieurap tag_phimle tag_nguyenreview']"
        ],
        [
         "8",
         "7",
         "167",
         "7_du_lịch_tàu_biển_khám_phá",
         "['du_lịch', 'tàu', 'biển', 'khám_phá', 'nhật_ký', 'bãi', 'xe_lửa', 'khu', 'đảo', 'đà_lạt']",
         "['hè phải du_lịch biển chí_ít tìm địa_điểm du_lịch nào mát_mẻ một_chút để xua_tan cái nóng oi_bức mùa hè nếu_như chưa biết phải đâu hãy xem ngay danh_sách 16 bãi biển đẹp nhất việt_nam xem chi_tiết tag_blogdulich tag_biển_đẹp_nhất_việt_nam 1 bãi sao phú_quốc nếu nói bãi biển đẹp nhất việt_nam cũng thu_hút khách du_lịch tắm biển bãi sao nổi_bật làn nước trong_vắt mát_lạnh bờ cát trắng cực_kỳ mịn nếu muốn tìm 1 bãi biển yên_bình sóng nước dập_dìu gió thổi vi_vu bãi biển đẹp nhất việt_nam nơi cực_kỳ thích_hợp để có phút_giây thật_sự bình_yên 2 bãi biển vầng_trăng khuyết_quy_nhơn đây không phải cái tên quá nổi_tiếng vì thực_ra bãi biển đẹp nhất việt_nam còn có tên gọi khác bãi biển quy_nhơn bãi biển thành_phố quy_nhơn bãi biển vầng_trăng khuyết_quy_nhơn nếu biết ở miền trung việt_nam có bãi biển đẹp bãi biển cũng cái tên khách tìm 3 bãi trào hòn thơm_phú_quốc chơi phú_quốc thường mọi người chỉ nhăm nhăm xem có chỗ nào địa_điểm nào đẹp để tới check in chụp hình sống ảo bãi_trào bãi biển nằm ở phía tây đảo hòn thơm_hòn thơm hòn đảo lớn nằm quần_đảo ở phía nam đảo chính_phú_quốc dạo gần đây bãi_trào cũng đánh_giá 1 bãi biển đẹp nhất việt_nam 4 bãi biển mỹ_khê đà_nẵng đà_nẵng địa_điểm tuyệt_đối không_thể bỏ_qua chính mỹ_khê 6 bãi biển quyến_rũ nhất hành_tinh do tạp_chí forbes_bình chọn mỹ_khê đà_nẵng nổi_tiếng bãi cát dài trắng mịn sóng biển ôn_hòa cùng làn nước ấm quanh_năm đặc_biệt thiên_nhiên xinh_đẹp suốt 4 mùa cùng dịch_vụ du_lịch đa_dạng nơi đây cũng điểm chưa bao_giờ_hết hot đối_với du_khách thập_phương thành_phố biển 5 bãi biển trần_phú nha_trang vị_trí trung_tâm thành_phố cùng cảnh biển xanh bãi biển trần_phú địa_điểm tuyệt_vời nhất_định phải ghé thăm phố biển nha_trang thời_điểm tuyệt_vời nhất có thời_tiết thích_hợp việc nghỉ_dưỡng chính tháng 7 tháng 9 vì_vậy nên chọn mùa để nha_trang vui_chơi biển trần_phú 6 hòn mây rút phú_quốc thật_ra thì_có 2 hòn mây_rút ở nam đảo phú_quốc hòn mây rút hòn mây rút ngoài nhưng đẹp nhất vẫn hòn mây rút blog du_lịch biết hòn mây rút ngoài có bãi biển nhưng chỉ khoảng nhỏ khá đá cũng chủ_yếu chỉ lặn ngắm san_hô thôi còn đẹp nhất vẫn hòn mây rút bãi biển siêu_đẹp khá dài cực hoang_sơ thậm_chí có điểm còn thú_vị hơn cả hòn móng tay ở nam đảo phú_quốc cơ 7 bãi tranh nha_trang nói nha_trang gần ai cũng nhớ tới bãi biển xinh_đẹp trải dài dọc dải đất miền trung bãi_tranh cũng bãi biển như_thế không_chỉ tắm biển thỏa thích nơi làn nước mát mà còn trải_nghiệm cảm_giác cực thích_thú hoạt_động giải_trí nổi_tiếng nơi đây_đó 8 bãi biển kỳ_co quy_nhơn thiên_nhiên ưu_ái kỳ_co dải cát_vàng ôm lấy biển bọc thành hình_cung mềm_mại dải_lụa uốn_lượn ôm trọn lấy làn nước xanh tận đáy du_khách choáng_ngợp bởi vẻ đẹp hoang_sơ trẻo kỳ_vĩ mà tạo hóa ban tặng nơi đây 9 bãi trường phú_quốc bãi trường bãi biển đẹp nằm ở phía tây_nam đảo phú_quốc trải rộng hình vòng_cung ở đây có bãi cát_vàng óng cùng làn nước_biển xanh gam màu khác nhau lúc xanh_lơ màu ngọc thạch_tùy độ sâu biển đồi cây_dương hệ_thống rừng dừa tự_nhiên đa_dạng 10 hòn mun nha_trang hòn mun cách bờ khoảng 12 km tàu khoảng 50 phút cảng cầu đá diện_tích chừng 1 2 km2 đây khu bảo_tồn biển đầu_tiên cả nước đặc_biệt nơi đây có sự pha_trộn hai dòng nước nóng lạnh nên hòn mun nơi tập_trung phát_triển hàng nghìn loài san_hô loài cá_cảnh quý_hiếm trên thế_giới 11 vịnh vĩnh_hy_ninh thuận điểm du_lịch nổi_tiếng ở phan_rang_ninh_thuận mà hầu_như ai cũng muốn lần để thỏa_sức đam_mê không đâu khác chính vịnh vĩnh_hy vịnh biển nổi_tiếng ninh_thuận mệnh_danh bức tranh_thủy mặc thắng_cảnh sơn_thủy địa_trung_hải miền trung_blog du_lịch chuyên_trang tổng_hợp tin_tức du_lịch chia_sẻ kinh_nghiệm du_lịch bổ_ích cập_nhật liên_tục để cung_cấp thông_tin có_ích chuyến du_lịch hãy nhấn like share subcribe để blog du_lịch có thêm động_lực để ra video hấp_dẫn hơn xem thêm video khác blog du_lịch fanpage kênh thông_tin du_lịch sđt 0914 122 071', 'cù_lao chàm quần_đảo tuyệt đẹp nằm ngoài khơi bờ biển miền trung việt_nam thuộc xã tân_hiệp thành_phố hội_an nơi đây nổi_tiếng thiên_nhiên hoang_sơ_hệ_sinh_thái biển đa_dạng cùng bãi biển xanh bãi cát trắng mịn cách bờ biển cửa đại_hội an khoảng 15 km gồm 8 đảo lớn_nhỏ hòn lao đảo lớn nhất có người sinh_sống nơi unesco công_nhận khu dự_trữ sinh_quyển thế_giới vào năm 2009 video nhật_ký du_lịch hướng_dẫn cách đặt vé tàu điểm tham_quan trên đảo đừng quên để lại nhật_ký du_lịch 1 đăng_ký kênh 1 like share để tạo động_lực nhật_ký du_lịch ra video du_lịch khám_phá hấp_dẫn hơn gửi cả nhà chân_thành cảm_ơn cả nhà bản_quyền thuộc nhật_ký du_lịch tag_nhatkydulich tag_culaocham tag_dulichhoian', 'hòn mun hòn đảo nổi_tiếng đẹp nhất vịnh nha_trang mệnh_danh thiên_đường lặn biển việt_nam nằm cách cảng cầu đá nha_trang khoảng 10 km phía đông nam thuộc hệ_thống vịnh nha_trang nơi unesco công_nhận vịnh đẹp nhất thế_giới hòn mun khu bảo_tồn biển đầu_tiên việt_nam thành_lập năm 2001 mini beach bãi biển đẹp nổi_tiếng nằm vịnh nha_trang thường chọn điểm dừng tour du_lịch 3 4 đảo đây nơi kết_hợp giữa cảnh đẹp thiên_nhiên dịch_vụ giải_trí biển phù_hợp du_khách nghỉ_ngơi tắm biển vui_chơi video hãy cùng nhật_ký du_lịch khám_phá tour 3 đảo có gì hấp_dẫn đừng quên để lại nhật_ký du_lịch 1 đăng_ký kênh 1 like share để tạo động_lực nhật_ký du_lịch ra video du_lịch khám_phá hấp_dẫn hơn gửi cả nhà chân_thành cảm_ơn cả nhà bản_quyền thuộc nhật_ký du_lịch tag_nhatkydulich tag_dulichnhatrang tag_daohonmun']"
        ],
        [
         "9",
         "8",
         "160",
         "8_máy_tính_cách_hướng_dẫn_laptop",
         "['máy_tính', 'cách', 'hướng_dẫn', 'laptop', 'surface', 'win', 'thủ_thuật', 'solidworks', 'video', 'mật_khẩu']",
         "['hướng_dẫn cách kết_nối wifi máy_tính laptop kết_nối wifi vô_cùng dễ_dàng tuy_nhiên một_số trường_hợp chưa biết cách để kết_nối wifi máy_tính video xin hướng_dẫn mọi người ai chưa bật xem video hướng_dẫn chi_tiết nếu thấy video hay đừng ngần_ngại hãy click nút like đăng_kí theo_dõi để có thêm động_lực ra video hay hơn cám_ơn mọi người kênh hướng_dẫn nơi chia_sẻ nhũng thông_tin hữu_ích máy_tính phần_mềm word_excel đăng_ký kênh miễn hoàn_toàn phí', 'hướng_dẫn cách tải roblox trên máy_tính pc laptop thích chơi game roblox trên máy_tính có_thể pc hay laptop tuy_nhiên không biết tải roblox trên máy_tính kiểu gì video hướng_dẫn mọi người nếu thấy video hay đừng ngần_ngại hãy click nút like đăng_kí theo_dõi để có thêm động_lực ra video hay hơn cám_ơn mọi người kênh hướng_dẫn nơi chia_sẻ nhũng thông_tin hữu_ích máy_tính phần_mềm word excel', 'top 10 thủ_thuật máy_tính cực hay không_thể bỏ_qua p1 mẹo sử_dụng máy_tính hữu_ích bất_kỳ ai dùng máy_tính laptop cả pc thủ_thuật máy_tính hay nhất full đăng_ký nhận video hữu_ích ủng_hộ đỗ bảo_nam blog cách sử_dụng hàm excel cơ_bản thông_dụng download full style proshow producer đẹp nhất miễn_phí xin cảm_ơn tất_cả danh_sách 10 thủ_thuật máy_tính hay nhất phần 1 chia_sẻ video 1 đặt mật_khẩu file nén file word excel powerpoint 2 chụp màn_hình máy_tính không dùng phần_mềm 3 ghi_âm trên máy_tính win 10 không dùng phần_mềm 4 tắt ứng_dụng đang mở bị đơ bằng task manager 5 hiện file_ẩn usb máy_tính 6 kiểm_tra ổ cứng đang dùng hdd hay ssd siêu nhanh 7 gỡ ứng_dụng khỏi máy_tính nhanh 8 xóa lịch_sử tìm_kiếm trên trình_duyệt 9 đổi hình nền máy_tính 10 cách phóng to màn_hình máy_tính nội_dung tóm_tắt thủ_thuật máy_tính chia_sẻ video thủ_thuật máy_tính hay 01 đặt mật_khẩu file folder hãy nén file lại bằng winrar sau đặt mật_khẩu file winrar có_thể xem chi_tiết cách đặt mật_khẩu file winrar đối_với file word excel click vào file trên menu chọn info sau thiết_lập mật_khẩu video tham_khảo trên word video tham_khảo trên excel thủ_thuật sử_dụng máy_tính hay 02 chỉ cần nhấn phím chụp màn_hình sau có_thể dán hình_ảnh vào bất_kỳ đâu muốn có_thể facebook hay phần_mềm word excel word hay ứng_dụng chát zalo_viber cũng dễ_dàng lưu lại file ảnh chụp màn_hình ra máy_tính video hướng_dẫn chi_tiết thủ_thuật máy_tính hay 03 ghi_âm trên máy_tính win 10 không dùng phần_mềm trên thanh taskbar seach khóa voice recorder biểu_tượng search sau click vào ứng_dụng voice recorder windows_video tham_khảo thủ_thuật máy_tính hay 04 tắt ứng_dụng đang mở bị đơ bằng task manager chỉ cần click chuột phải vào thanh_taskbar sau chọn task manager đây tắt ứng_dụng bị đơ nhanh_chóng thủ_thuật máy_tính 05 hiện file_ẩn usb máy_tính bước 1 cửa_sổ file explorer bất_kỳ click vào view trên menu chọn options bước 2 cửa_sổ folder options hiện ra click vào tab view tab nếu muốn hiện_video tham_khảo thủ_thuật máy_tính hay 06 kiểm_tra ổ cứng đang dùng hdd hay ssd bước 01 click chuột phải vào ổ c chọn properties bước 02 click sang tab tools chọn optimize bước 03 kiểm_tra nhìn vào phần media type biết ổ_cứng ssd hay hdd nếu có ổ_ssd công_cụ liệt_kê solid state drive ổ cứng cơ_học thông_thường liệt_kê hard disk drive video tham_khảo thủ_thuật máy_tính hay 07 gỡ ứng_dụng khỏi máy_tính nhanh có cách để gỡ ứng_dụng ví_dụ có_thể gỡ ứng_dụng thông_qua control panel qua windows_setting win 10 gỡ ứng_dụng trực_tiếp trên menu start cũng có_thể dùng phần_mềm gỡ ứng_dụng chuyên_dụng video tham_khảo thủ_thuật máy_tính 08 xóa lịch_sử trình_duyệt đây nội_dung quan_tâm ví_dụ đơn_giản vừa xem web 18 nào nhưng không để_ý xóa lịch_sử mà truy_cập vào nó sau người_yêu hay sếp lại dùng máy_tính mà vừa truy_cập vô_tình gõ địa_chỉ trên thanh_trình đơn họ thấy ngay web đen vừa truy_cập nếu có_mặt ở cảm_giác lúc quả_thật khó tả tại_sao không xóa ngay lịch_sử trình_duyệt thao_tác thực_hiện đơn_giản có_thể tham_khảo video dưới đây video tham_khảo thủ_thuật sử_dụng máy_tính hay 09 đổi hình nền máy_tính bước 1 click chuột phải vào vị_trí trống ở ngoài desktop sau chọn personalize bước 2 tìm thư_mục chứa ảnh muốn đặt làm ảnh nền sau chọn ảnh click choose picture video tham_khảo thủ_thuật máy_tính hay 10 phóng to màn_hình máy_tính bước 1 click chuột phải vào deskop chọn display settings bước 2 click vào display menu cửa_sổ setting sau tìm phần change the size of text_apps and_other items phần chọn 125 video tham_khảo cảm_ơn theo_dõi video tag_dobaonamblog tag_thuthuatmaytinh tag_win10']"
        ],
        [
         "10",
         "9",
         "116",
         "9_use_is_for_copyright",
         "['use', 'is', 'for', 'copyright', 'the', 'that', 'fair', 'in', 'this', 'as']",
         "['review phim kẻ săn_iq tội_phạm review phim hàn_link phim tag_reviewphim tag_tomtatphim_tag_phim mọi vấn_đề vi_phạm chính_sách luật bản_quyền hay nguyên_tắc cộng_đồng xin hãy liên_hệ all music pictures_videos and_sounds that appear in this video are owned by their respective owners copyright disclaimer under section 107 of_the copyright act 1976 allowance is made for fair use for purposes such as criticism comment news reporting teaching_scholarship and_research fair use is a use permitted by copyright statute that might otherwise be infringing non profit educational or personal use tips the balance in favor of_fair use bản_quyền thuộc mèo review phim vui_lòng không reup dưới mọi hình_thức all rights reserved on mèo review phim channel do not reup cám_ơn theo_dõi đăng_ký kênh mèo review phim', 'review phim anh_chàng chuyên phá_án tội_phạm iq 300 review phim hàn hay link phim video hay nhất kênh review phim hàn hay tag_reviewphim tag_tomtatphim tag_phimhay hình_ảnh tiếng_nói video đều diễn có kịch_bản sẵn tất_cả đều minh_hoa tạo phim_ảnh mọi vấn_đề vi_phạm chính_sách luật bản_quyền hay nguyên_tắc cộng_đồng xin hãy liên_hệ all music pictures_videos and_sounds that appear in this video are owned by their respective owners copyright disclaimer under section 107 of_the copyright act 1976 allowance is made for fair use for purposes such as criticism comment news reporting teaching_scholarship and_research fair use is a use permitted by copyright statute that might otherwise be infringing non profit educational or personal use tips the balance in favor of_fair use bản_quyền thuộc nóc nhà review don t reup video', 'review phim anh_chàng phá_án siêu_iq review phim hàn hay link phim video hay nhất kênh review phim hàn hay tag_reviewphim tag_tomtatphim tag_phimhay hình_ảnh tiếng_nói video đều diễn có kịch_bản sẵn tất_cả đều minh_hoa tạo phim_ảnh mọi vấn_đề vi_phạm chính_sách luật bản_quyền hay nguyên_tắc cộng_đồng xin hãy liên_hệ all music pictures_videos and_sounds that appear in this video are owned by their respective owners copyright disclaimer under section 107 of_the copyright act 1976 allowance is made for fair use for purposes such as criticism comment news reporting teaching_scholarship and_research fair use is a use permitted by copyright statute that might otherwise be infringing non profit educational or personal use tips the balance in favor of_fair use bản_quyền thuộc nóc nhà review don t reup video']"
        ],
        [
         "11",
         "10",
         "109",
         "10_đa_tầng_nóng_hổi_tag_kplussports_tag_ngoaihanganh",
         "['đa_tầng', 'nóng_hổi', 'tag_kplussports', 'tag_ngoaihanganh', 'kho', 'siêu', 'ngoại_hạng', 'nền_tảng', 'tag_premierleague', 'vui']",
         "['tổng_hợp bàn thắng_vòng 5 quỷ đỏ trở_lại the kop duy_trì sức_mạnh ngoại_hạng anh 25 26 tag_ngoaihanganh tag_kplussports tag_premierleague k siêu nền_tảng đa_tầng giải_trí cập_nhật tin_tức bóng_đá nóng_hổi nhất ngay xem kho nội_dung k vui miễn_phí', 'tổng_hợp bàn thắng_vòng 6 thứ_bảy 27 9 ngày buồn ông lớn ngoại_hạng anh 25 26 tag_dayhl tag_ngoaihanganh tag_premierleague tag_kplussports k siêu nền_tảng đa_tầng giải_trí cập_nhật tin_tức bóng_đá nóng_hổi nhất ngay xem kho nội_dung k vui miễn_phí', 'tổng_hợp bàn thắng_vòng 6 chủ_nhật 28 9 bản_lĩnh arsenal ngoại_hạng anh 25 26 tag_ngoaihanganh tag_kplussports k siêu nền_tảng đa_tầng giải_trí cập_nhật tin_tức bóng_đá nóng_hổi nhất ngay xem kho nội_dung k vui miễn_phí']"
        ],
        [
         "12",
         "11",
         "75",
         "11_tag_hàihước_hãy_thuồng_mọi_khi",
         "['tag_hàihước', 'hãy', 'thuồng', 'mọi_khi', 'thèm', 'tag_thửthách', 'tag_challenge', 'challenge', 'thử_thách', 'bạn_bè']",
         "['lúc cuộc_chiến ẩm_thực mới bắt_đầu thử_thách thú_vị chúng_tôi hãy chia_sẻ video bạn_bè để khiến họ thèm thuồng mọi_khi hãy chắc_chắn đăng_ký kênh youtube multi do challenge để xem thêm video tuyệt_vời hơn_nữa nha tag_multido tag_challenge tag_thửthách tag_hàihước', 'ai nấu món ăn ngon nhất hãy xem thử_thách ẩm_thực mới chúng_tôi thú_vị hãy chia_sẻ video bạn_bè để khiến họ thèm thuồng mọi_khi hãy chắc_chắn đăng_ký kênh youtube multi do smile challenge để xem thêm video tuyệt_vời hơn_nữa nha tag_multidosmile tag_challenge tag_thửthách tag_hàihước', 'ai có_thể nấu món ăn ngon nhất tham_gia thử_thách ẩm_thực mới thú_vị hãy chia_sẻ video bạn_bè để khiến họ thèm thuồng mọi_khi hãy chắc_chắn đăng_ký kênh youtube multi do challenge để xem thêm video tuyệt_vời hơn_nữa nha tag_multido tag_challenge tag_thửthách tag_hàihước']"
        ],
        [
         "13",
         "12",
         "74",
         "12_bơi_h00_thứ_dance",
         "['bơi', 'h00', 'thứ', 'dance', 'hướng_dẫn', 'nhảy', '16', 'lớp', 'tập_luyện', 'cơ_bản']",
         "['em lại hiện tuyển_sinh lớp nhảy online lớp zumba cơ_bản 18 h00 thứ 2 4 6 trên zoom online chi_phí inbox lớp suffle dance căn_bản lớp zoom thứ 3 16 h00 thứ 5 16 h00 thứ 7 16 h00 nội_dung bước cơ_bản bộ đá t step lùi trượt bay xoay đảm_bảo hiệu_quả rõ_rệt sau 1 tuần tập_luyện uy_tín chất_lượng lớp linedance cha cha thứ 2 16 h00 thứ 4 16 h00 thứ 6 16 h00 chi_phí inbox zalo 0976134046 email link video thực_hành theo_dõi leo qua kênh_mạng xã_hội dưới đây facebook fanpage youtube tiktok mọi liên_hệ booking mọi người vui_lòng liên_lạc số điện_thoại địa_chỉ dưới đây business show bookings ms huyền 0976523999 email mọi vấn_đề liên_quan bản_quyền liên_hệ email đừng quên đăng_ký kênh zumbaleo để đón xem video hướng_dẫn tập_luyện mới hơn_nữa chân_thành cám_ơn chân_thành cám_ơn', 'đây link video bài nhảy_mẫu khớp_nhạc em lại hiện tuyển_sinh lớp nhảy online lớp zumba cơ_bản 18 h00 thứ 2 4 6 trên zoom online chi_phí inbox lớp suffle dance căn_bản lớp zoom thứ 3 16 h00 thứ 5 16 h00 thứ 7 16 h00 nội_dung bước cơ_bản bộ đá t step lùi trượt bay xoay đảm_bảo hiệu_quả rõ_rệt sau 1 tuần tập_luyện uy_tín chất_lượng lớp linedance cha cha thứ 2 16 h00 thứ 4 16 h00 thứ 6 16 h00 chi_phí inbox zalo 0976134046 email theo_dõi leo qua kênh_mạng xã_hội dưới đây facebook fanpage youtube tiktok mọi liên_hệ booking mọi người vui_lòng liên_lạc số điện_thoại địa_chỉ dưới đây business show bookings ms huyền 0976523999 email mọi vấn_đề liên_quan bản_quyền liên_hệ email đừng quên đăng_ký kênh zumbaleo để đón xem video hướng_dẫn tập_luyện mới hơn_nữa chân_thành cám_ơn tag_3tổhợpchachacoban tag_zumbaleo', 'đây link video bài nhảy_mẫu khớp_nhạc biên_đạo leo em lại hiện tuyển_sinh lớp nhảy online lớp zumba cơ_bản 18 h00 thứ 2 4 6 trên zoom online chi_phí inbox lớp suffle dance căn_bản lớp zoom thứ 3 16 h00 thứ 5 16 h00 thứ 7 16 h00 nội_dung bước cơ_bản bộ đá t step lùi trượt bay xoay đảm_bảo hiệu_quả rõ_rệt sau 1 tuần tập_luyện uy_tín chất_lượng lớp linedance cha cha thứ 2 16 h00 thứ 4 16 h00 thứ 6 16 h00 chi_phí inbox zalo 0976134046 email theo_dõi leo qua kênh_mạng xã_hội dưới đây facebook fanpage youtube tiktok mọi liên_hệ booking mọi người vui_lòng liên_lạc số điện_thoại địa_chỉ dưới đây business show bookings 0976134046 email mọi vấn_đề liên_quan bản_quyền liên_hệ email đừng quên đăng_ký kênh zumbaleo để đón xem video hướng_dẫn tập_luyện mới hơn_nữa chân_thành cám_ơn']"
        ],
        [
         "14",
         "13",
         "73",
         "13_bão_tin_tức_cấp_tin",
         "['bão', 'tin_tức', 'cấp', 'tin', 'đông', '24', 'mới', 'biển', 'dự_báo', 'nhất']",
         "['tag_tinyhouse tức 24 h tag_tintuc ông mai_văn_khiêm giám_đốc trung_tâm dự_báo khí_tượng thủy_văn quốc_gia biết sáng sớm nay 6 10 bão số 11 tên quốc_tế matmo vào đất_liền khu_vực phòng thành tỉnh quảng_tây trung_quốc đây khu_vực giáp tỉnh quảng_ninh việt_nam cường_độ bão suy_yếu nhanh xuống_cấp 8 giật cấp 10 dự_báo 12 giờ tới bão di_chuyển hướng tây_tây bắc tiếp_tục suy_yếu tốc_độ 20 km giờ do ảnh_hưởng bão bạch long_vĩ có gió mạnh cấp 8 giật cấp 9 cô tô có gió mạnh cấp 6 giật cấp 8 vùng ven biển quảng_ninh hải_phòng có gió_giật cấp 6 7 tin24h kênh youtube chia_sẻ nội_dung tin_tức thời_sự thời_sự 19 h tin_tức mới tin mới thời_sự quốc_tế tin_tức 24 h mới nhất nga ukraine mới nhất tin_tức nga ukraine mới nhất nga ukraine tin biển đông tin nóng nội_dung giải_trí hấp_dẫn phát_sóng trên kênh chương_trình đài_truyền_hình tin_tức cập_nhật chương_trình truyền_hình trực_tiếp chương_trình thể_thao bóng_đá giải_trí game show showbiz mong_muốn cập_nhật thông_tin chính_xác nhanh nhất trên nền_tảng số quý_vị cảm_ơn xem video đừng quên nhấn vào đăng_ký kênh biểu_tượng phía dưới góc phải video để không bỏ lỡ video mới nhất đăng_ký kênh miễn_phí đây xem clip mới hấp_dẫn nhất thể_thao an_ninh ngày mới hôm_nay tin_tức mới nhất 24 h hôm_nay tin_tức công_nghệ tổng_hợp bản tin thời_sự tổng_hợp hàng ngày vòng loại world_cup 2020 đội_tuyển việt_nam tổng_hợp theo_dõi kênh tin_tức 24 h online trên facebook twitter fair use for news reporting_and mọi vấn_đề video vi_phạm bản_quyền chính_sách nguyên_tắc cộng_đồng chúng_tôi xóa xin liên_hệ trực_tiếp qua email if there are any copyright issues with any videos posted here we will remove them please contact our email', 'tag_tin tức 24 h tag_tintuc tin mới nhất bão_số 11 matmo 4 10 cách đặc_khu hoàng_sa khoảng 500 km tăng cấp nhanh bão số 11 matmo mạnh cấp 11 103 117 km h giật cấp 14 dự_báo hôm_nay 4 10 bão nhanh cường_độ có khả_năng mạnh thêm 2 cấp trung_tâm dự_báo khí_tượng thủy_văn quốc_gia 7 h sáng nay 4 10 vị_trí tâm_bão số 11 matmo cách đặc_khu hoàng_sa khoảng 510 km phía đông đông_bắc cường_độ cấp 11 103 117 km h giật cấp 14 bão di_chuyển hướng tây tây_bắc tốc_độ khoảng 25 km h dự_báo 24 giờ tới bão_số 11 vẫn di_chuyển hướng tây_tây bắc tốc_độ 20 25 km h có khả_năng mạnh thêm 4 h ngày 5 10 vị_trí tâm_bão trên khu_vực bắc biển đông cách bán_đảo lôi_châu trung_quốc khoảng 130 km phía đông cường_độ khả_năng đạt cực đại_cấp 13 giật cấp 16 24 giờ tiếp_theo bão giữ nguyên hướng di_chuyển tốc_độ khoảng 20 km h vào vùng_biển phía đông khu_vực bắc vịnh bắc_bộ suy_yếu dần 4 h ngày 6 10 vị_trí tâm_bão trên vùng ven biển phía đông bắc tỉnh quảng_ninh cường_độ cấp 10 giật cấp 13 24 giờ sau bão tiếp_tục di_chuyển hướng tây tây bắc 15 20 km h vào đất_liền phía đông bắc khu_vực bắc_bộ suy_yếu dần thành áp_thấp_nhiệt_đới sau vùng áp_thấp chuyên_gia khí_tượng nhận_định thời_điểm bão di_chuyển vào khu_vực vùng_biển tỉnh quảng_đông trung_quốc lưỡi_áp cao_cận nhiệt_đới có xu_hướng suy_yếu lúc có 2 kịch_bản di_chuyển bão số 11 tin24h kênh youtube chia_sẻ nội_dung tin_tức thời_sự thời_sự 19 h tin_tức mới tin mới thời_sự quốc_tế tin_tức 24 h mới nhất nga ukraine mới nhất tin_tức nga ukraine mới nhất nga ukraine tin biển đông tin nóng nội_dung giải_trí hấp_dẫn phát_sóng trên kênh chương_trình đài_truyền_hình tin_tức cập_nhật chương_trình truyền_hình trực_tiếp chương_trình thể_thao bóng_đá giải_trí game show showbiz mong_muốn cập_nhật thông_tin chính_xác nhanh nhất trên nền_tảng số quý_vị cảm_ơn xem video đừng quên nhấn vào đăng_ký kênh biểu_tượng phía dưới góc phải video để không bỏ lỡ video mới nhất đăng_ký kênh miễn_phí đây xem clip mới hấp_dẫn nhất thể_thao an_ninh ngày mới hôm_nay tin_tức mới nhất 24 h hôm_nay tin_tức công_nghệ tổng_hợp bản tin thời_sự tổng_hợp hàng ngày vòng loại world_cup 2020 đội_tuyển việt_nam tổng_hợp theo_dõi kênh tin_tức 24 h online trên facebook twitter fair use for news reporting_and mọi vấn_đề video vi_phạm bản_quyền chính_sách nguyên_tắc cộng_đồng chúng_tôi xóa xin liên_hệ trực_tiếp qua email if there are any copyright issues with any videos posted here we will remove them please contact our email', 'tag_tin tức 24 h tag_tintuc tin_tức 24 h mới nhất trưa 3 10 bão số 11 matmo nhanh_gió có_thể giật cấp 15 phương_án ứng_phódự báo sau vào biển đông_bão matmo nhanh hướng vịnh bắc_bộ cường_độ cực_đại bão có_thể đạt cấp 12 118 133 km h giật cấp 15 dự_báo ngày hôm_nay 24 giờ tới bão matmo đổ_bộ vào đảo luzon khoảng chiều_tối đêm nay bão vào biển đông cường_độ có khả_năng mạnh thêm khả_năng đây cơn bão số 11 năm nay 7 h sáng_mai 4 10 tâm_bão ở trên vùng_biển phía bắc khu_vực bắc biển đông cách bán_đảo lôi_châu trung_quốc khoảng 750 km phía đông nam cường_độ bão lúc mạnh cấp 10 11 89 117 km h giật cấp 14 24 48 giờ tiếp_theo bão nhanh hướng tây tây_bắc tốc_độ 20 25 km h tiếp_tục có khả_năng mạnh thêm 7 h sáng 5 10 tâm_bão ở trên vùng_biển phía tây bắc khu_vực bắc biển đông cách bán_đảo lôi_châu trung_quốc khoảng 200 km phía đông nam cường_độ bão lúc mạnh cấp 12 giật cấp 15 tin24h kênh youtube chia_sẻ nội_dung tin_tức thời_sự thời_sự 19 h tin_tức mới tin mới thời_sự quốc_tế tin_tức 24 h mới nhất nga ukraine mới nhất tin_tức nga ukraine mới nhất nga ukraine tin biển đông tin nóng nội_dung giải_trí hấp_dẫn phát_sóng trên kênh chương_trình đài_truyền_hình tin_tức cập_nhật chương_trình truyền_hình trực_tiếp chương_trình thể_thao bóng_đá giải_trí game show showbiz mong_muốn cập_nhật thông_tin chính_xác nhanh nhất trên nền_tảng số quý_vị cảm_ơn xem video đừng quên nhấn vào đăng_ký kênh biểu_tượng phía dưới góc phải video để không bỏ lỡ video mới nhất đăng_ký kênh miễn_phí đây xem clip mới hấp_dẫn nhất thể_thao an_ninh ngày mới hôm_nay tin_tức mới nhất 24 h hôm_nay tin_tức công_nghệ tổng_hợp bản tin thời_sự tổng_hợp hàng ngày vòng loại world_cup 2020 đội_tuyển việt_nam tổng_hợp theo_dõi kênh tin_tức 24 h online trên facebook twitter fair use for news reporting_and mọi vấn_đề video vi_phạm bản_quyền chính_sách nguyên_tắc cộng_đồng chúng_tôi xóa xin liên_hệ trực_tiếp qua email if there are any copyright issues with any videos posted here we will remove them please contact our email']"
        ]
       ],
       "shape": {
        "columns": 5,
        "rows": 15
       }
      },
      "text/html": [
       "<div>\n",
       "<style scoped>\n",
       "    .dataframe tbody tr th:only-of-type {\n",
       "        vertical-align: middle;\n",
       "    }\n",
       "\n",
       "    .dataframe tbody tr th {\n",
       "        vertical-align: top;\n",
       "    }\n",
       "\n",
       "    .dataframe thead th {\n",
       "        text-align: right;\n",
       "    }\n",
       "</style>\n",
       "<table border=\"1\" class=\"dataframe\">\n",
       "  <thead>\n",
       "    <tr style=\"text-align: right;\">\n",
       "      <th></th>\n",
       "      <th>Topic</th>\n",
       "      <th>Count</th>\n",
       "      <th>Name</th>\n",
       "      <th>Representation</th>\n",
       "      <th>Representative_Docs</th>\n",
       "    </tr>\n",
       "  </thead>\n",
       "  <tbody>\n",
       "    <tr>\n",
       "      <th>0</th>\n",
       "      <td>-1</td>\n",
       "      <td>2712</td>\n",
       "      <td>-1_video_để_kênh_người</td>\n",
       "      <td>[video, để, kênh, người, xem, không, đăng_ký, ...</td>\n",
       "      <td>[tag_tin tức 24 h_tag_tintuc toàn_cảnh tin_tức...</td>\n",
       "    </tr>\n",
       "    <tr>\n",
       "      <th>1</th>\n",
       "      <td>0</td>\n",
       "      <td>1734</td>\n",
       "      <td>0_bóng_đá_phim_kênh_việt_nam</td>\n",
       "      <td>[bóng_đá, phim, kênh, việt_nam, hay, nhất, nhạ...</td>\n",
       "      <td>[chính_thức tv360 có bản_quyền champions_leagu...</td>\n",
       "    </tr>\n",
       "    <tr>\n",
       "      <th>2</th>\n",
       "      <td>1</td>\n",
       "      <td>360</td>\n",
       "      <td>1_điện_thoại_giá_sản_phẩm_vật_vờ</td>\n",
       "      <td>[điện_thoại, giá, sản_phẩm, vật_vờ, iphone, mu...</td>\n",
       "      <td>[đánh_giá nhanh iphone 17 pro iphone 17 pro ma...</td>\n",
       "    </tr>\n",
       "    <tr>\n",
       "      <th>3</th>\n",
       "      <td>2</td>\n",
       "      <td>333</td>\n",
       "      <td>2_tin_tức_an_ninh_tin_mới</td>\n",
       "      <td>[tin_tức, an_ninh, tin, mới, antv, nhất, 24, t...</td>\n",
       "      <td>[antv tin an_ninh trật_tự nóng mới nhất 24 h s...</td>\n",
       "    </tr>\n",
       "    <tr>\n",
       "      <th>4</th>\n",
       "      <td>3</td>\n",
       "      <td>312</td>\n",
       "      <td>3_khỏe_sức_sức_khỏe_bác_sĩ</td>\n",
       "      <td>[khỏe, sức, sức_khỏe, bác_sĩ, bệnh, giúp, sống...</td>\n",
       "      <td>[mô_tả chung video bí_quyết giữ_gìn sức_khỏe t...</td>\n",
       "    </tr>\n",
       "    <tr>\n",
       "      <th>5</th>\n",
       "      <td>4</td>\n",
       "      <td>188</td>\n",
       "      <td>4_xe_đánh_giá_tipcar_tv</td>\n",
       "      <td>[xe, đánh_giá, tipcar, tv, toyota, xehay, xe_m...</td>\n",
       "      <td>[đánh_giá volkswagen viloran mpv nhà giàu đúng...</td>\n",
       "    </tr>\n",
       "    <tr>\n",
       "      <th>6</th>\n",
       "      <td>5</td>\n",
       "      <td>176</td>\n",
       "      <td>5_ẩm_thực_khoai_đồng_quê_ăn</td>\n",
       "      <td>[ẩm_thực, khoai, đồng_quê, ăn, ăn_uống, món, q...</td>\n",
       "      <td>[trận đấu quá khủng_khiếp người 200 k mua 7 mó...</td>\n",
       "    </tr>\n",
       "    <tr>\n",
       "      <th>7</th>\n",
       "      <td>6</td>\n",
       "      <td>171</td>\n",
       "      <td>6_tag_reviewphim_phim_review_tag_tomtatphim</td>\n",
       "      <td>[tag_reviewphim, phim, review, tag_tomtatphim,...</td>\n",
       "      <td>[tag_reviewphim tag_tomtatphim tag_phimle tóm_...</td>\n",
       "    </tr>\n",
       "    <tr>\n",
       "      <th>8</th>\n",
       "      <td>7</td>\n",
       "      <td>167</td>\n",
       "      <td>7_du_lịch_tàu_biển_khám_phá</td>\n",
       "      <td>[du_lịch, tàu, biển, khám_phá, nhật_ký, bãi, x...</td>\n",
       "      <td>[hè phải du_lịch biển chí_ít tìm địa_điểm du_l...</td>\n",
       "    </tr>\n",
       "    <tr>\n",
       "      <th>9</th>\n",
       "      <td>8</td>\n",
       "      <td>160</td>\n",
       "      <td>8_máy_tính_cách_hướng_dẫn_laptop</td>\n",
       "      <td>[máy_tính, cách, hướng_dẫn, laptop, surface, w...</td>\n",
       "      <td>[hướng_dẫn cách kết_nối wifi máy_tính laptop k...</td>\n",
       "    </tr>\n",
       "    <tr>\n",
       "      <th>10</th>\n",
       "      <td>9</td>\n",
       "      <td>116</td>\n",
       "      <td>9_use_is_for_copyright</td>\n",
       "      <td>[use, is, for, copyright, the, that, fair, in,...</td>\n",
       "      <td>[review phim kẻ săn_iq tội_phạm review phim hà...</td>\n",
       "    </tr>\n",
       "    <tr>\n",
       "      <th>11</th>\n",
       "      <td>10</td>\n",
       "      <td>109</td>\n",
       "      <td>10_đa_tầng_nóng_hổi_tag_kplussports_tag_ngoaih...</td>\n",
       "      <td>[đa_tầng, nóng_hổi, tag_kplussports, tag_ngoai...</td>\n",
       "      <td>[tổng_hợp bàn thắng_vòng 5 quỷ đỏ trở_lại the ...</td>\n",
       "    </tr>\n",
       "    <tr>\n",
       "      <th>12</th>\n",
       "      <td>11</td>\n",
       "      <td>75</td>\n",
       "      <td>11_tag_hàihước_hãy_thuồng_mọi_khi</td>\n",
       "      <td>[tag_hàihước, hãy, thuồng, mọi_khi, thèm, tag_...</td>\n",
       "      <td>[lúc cuộc_chiến ẩm_thực mới bắt_đầu thử_thách ...</td>\n",
       "    </tr>\n",
       "    <tr>\n",
       "      <th>13</th>\n",
       "      <td>12</td>\n",
       "      <td>74</td>\n",
       "      <td>12_bơi_h00_thứ_dance</td>\n",
       "      <td>[bơi, h00, thứ, dance, hướng_dẫn, nhảy, 16, lớ...</td>\n",
       "      <td>[em lại hiện tuyển_sinh lớp nhảy online lớp zu...</td>\n",
       "    </tr>\n",
       "    <tr>\n",
       "      <th>14</th>\n",
       "      <td>13</td>\n",
       "      <td>73</td>\n",
       "      <td>13_bão_tin_tức_cấp_tin</td>\n",
       "      <td>[bão, tin_tức, cấp, tin, đông, 24, mới, biển, ...</td>\n",
       "      <td>[tag_tinyhouse tức 24 h tag_tintuc ông mai_văn...</td>\n",
       "    </tr>\n",
       "  </tbody>\n",
       "</table>\n",
       "</div>"
      ],
      "text/plain": [
       "    Topic  Count                                               Name  \\\n",
       "0      -1   2712                             -1_video_để_kênh_người   \n",
       "1       0   1734                       0_bóng_đá_phim_kênh_việt_nam   \n",
       "2       1    360                   1_điện_thoại_giá_sản_phẩm_vật_vờ   \n",
       "3       2    333                          2_tin_tức_an_ninh_tin_mới   \n",
       "4       3    312                         3_khỏe_sức_sức_khỏe_bác_sĩ   \n",
       "5       4    188                            4_xe_đánh_giá_tipcar_tv   \n",
       "6       5    176                        5_ẩm_thực_khoai_đồng_quê_ăn   \n",
       "7       6    171        6_tag_reviewphim_phim_review_tag_tomtatphim   \n",
       "8       7    167                        7_du_lịch_tàu_biển_khám_phá   \n",
       "9       8    160                   8_máy_tính_cách_hướng_dẫn_laptop   \n",
       "10      9    116                             9_use_is_for_copyright   \n",
       "11     10    109  10_đa_tầng_nóng_hổi_tag_kplussports_tag_ngoaih...   \n",
       "12     11     75                  11_tag_hàihước_hãy_thuồng_mọi_khi   \n",
       "13     12     74                               12_bơi_h00_thứ_dance   \n",
       "14     13     73                             13_bão_tin_tức_cấp_tin   \n",
       "\n",
       "                                       Representation  \\\n",
       "0   [video, để, kênh, người, xem, không, đăng_ký, ...   \n",
       "1   [bóng_đá, phim, kênh, việt_nam, hay, nhất, nhạ...   \n",
       "2   [điện_thoại, giá, sản_phẩm, vật_vờ, iphone, mu...   \n",
       "3   [tin_tức, an_ninh, tin, mới, antv, nhất, 24, t...   \n",
       "4   [khỏe, sức, sức_khỏe, bác_sĩ, bệnh, giúp, sống...   \n",
       "5   [xe, đánh_giá, tipcar, tv, toyota, xehay, xe_m...   \n",
       "6   [ẩm_thực, khoai, đồng_quê, ăn, ăn_uống, món, q...   \n",
       "7   [tag_reviewphim, phim, review, tag_tomtatphim,...   \n",
       "8   [du_lịch, tàu, biển, khám_phá, nhật_ký, bãi, x...   \n",
       "9   [máy_tính, cách, hướng_dẫn, laptop, surface, w...   \n",
       "10  [use, is, for, copyright, the, that, fair, in,...   \n",
       "11  [đa_tầng, nóng_hổi, tag_kplussports, tag_ngoai...   \n",
       "12  [tag_hàihước, hãy, thuồng, mọi_khi, thèm, tag_...   \n",
       "13  [bơi, h00, thứ, dance, hướng_dẫn, nhảy, 16, lớ...   \n",
       "14  [bão, tin_tức, cấp, tin, đông, 24, mới, biển, ...   \n",
       "\n",
       "                                  Representative_Docs  \n",
       "0   [tag_tin tức 24 h_tag_tintuc toàn_cảnh tin_tức...  \n",
       "1   [chính_thức tv360 có bản_quyền champions_leagu...  \n",
       "2   [đánh_giá nhanh iphone 17 pro iphone 17 pro ma...  \n",
       "3   [antv tin an_ninh trật_tự nóng mới nhất 24 h s...  \n",
       "4   [mô_tả chung video bí_quyết giữ_gìn sức_khỏe t...  \n",
       "5   [đánh_giá volkswagen viloran mpv nhà giàu đúng...  \n",
       "6   [trận đấu quá khủng_khiếp người 200 k mua 7 mó...  \n",
       "7   [tag_reviewphim tag_tomtatphim tag_phimle tóm_...  \n",
       "8   [hè phải du_lịch biển chí_ít tìm địa_điểm du_l...  \n",
       "9   [hướng_dẫn cách kết_nối wifi máy_tính laptop k...  \n",
       "10  [review phim kẻ săn_iq tội_phạm review phim hà...  \n",
       "11  [tổng_hợp bàn thắng_vòng 5 quỷ đỏ trở_lại the ...  \n",
       "12  [lúc cuộc_chiến ẩm_thực mới bắt_đầu thử_thách ...  \n",
       "13  [em lại hiện tuyển_sinh lớp nhảy online lớp zu...  \n",
       "14  [tag_tinyhouse tức 24 h tag_tintuc ông mai_văn...  "
      ]
     },
     "metadata": {},
     "output_type": "display_data"
    }
   ],
   "source": [
    "# Xem nhanh 15 topic đầu\n",
    "display(topic_model.get_topic_info().head(15))"
   ]
  },
  {
   "cell_type": "code",
   "execution_count": 31,
   "id": "d1eba2c7",
   "metadata": {},
   "outputs": [
    {
     "name": "stdout",
     "output_type": "stream",
     "text": [
      "Loaded model & data: 5107\n"
     ]
    }
   ],
   "source": [
    "from bertopic import BERTopic\n",
    "import pandas as pd\n",
    "\n",
    "# Load mô hình và dữ liệu\n",
    "topic_model = BERTopic.load(\"./bertopic_desc_supSimCSE_phobert/\")\n",
    "df = pd.read_csv(\"stage3_desc_bertopic.csv\", dtype=str)\n",
    "print(\"Loaded model & data:\", len(df))"
   ]
  },
  {
   "cell_type": "markdown",
   "id": "53a5a805",
   "metadata": {},
   "source": [
    "# Loại bỏ cụm -1 (noise)"
   ]
  },
  {
   "cell_type": "code",
   "execution_count": 32,
   "id": "56138fb7",
   "metadata": {},
   "outputs": [
    {
     "name": "stdout",
     "output_type": "stream",
     "text": [
      "Removed noise: 0 rows | Final: 5107\n",
      "\n",
      "Top 10 topics:\n",
      "topic_name\n",
      "0_bóng_đá_phim_kênh_việt_nam                            321\n",
      "1_điện_thoại_giá_sản_phẩm_vật_vờ                        312\n",
      "2_tin_tức_an_ninh_tin_mới                               275\n",
      "3_khỏe_sức_sức_khỏe_bác_sĩ                              272\n",
      "4_xe_đánh_giá_tipcar_tv                                 188\n",
      "5_ẩm_thực_khoai_đồng_quê_ăn                             185\n",
      "6_tag_reviewphim_phim_review_tag_tomtatphim             171\n",
      "7_du_lịch_tàu_biển_khám_phá                             167\n",
      "8_máy_tính_cách_hướng_dẫn_laptop                        160\n",
      "10_đa_tầng_nóng_hổi_tag_kplussports_tag_ngoaihanganh    148\n",
      "Name: count, dtype: int64\n"
     ]
    }
   ],
   "source": [
    "# Loại bỏ các dòng có topic_id = -1 (noise)\n",
    "clean_df = df[df[\"topic_id\"] != -1].copy()\n",
    "\n",
    "print(\"Removed noise:\", len(df) - len(clean_df), \"rows | Final:\", len(clean_df))\n",
    "print(\"\\nTop 10 topics:\")\n",
    "print(clean_df[\"topic_name\"].value_counts().head(10))"
   ]
  },
  {
   "cell_type": "markdown",
   "id": "366f2438",
   "metadata": {},
   "source": [
    "# Xem top từ khóa của cụm"
   ]
  },
  {
   "cell_type": "code",
   "execution_count": 33,
   "id": "45686c73",
   "metadata": {},
   "outputs": [
    {
     "data": {
      "text/plain": [
       "[('điện_thoại', np.float64(0.03293992885063342)),\n",
       " ('giá', np.float64(0.02694568483935517)),\n",
       " ('sản_phẩm', np.float64(0.025491086578221748)),\n",
       " ('vật_vờ', np.float64(0.02297878233356635)),\n",
       " ('iphone', np.float64(0.02223995788225809)),\n",
       " ('mua', np.float64(0.021665817470229703)),\n",
       " ('studio', np.float64(0.021398184397014866)),\n",
       " ('pro', np.float64(0.02048833780518794)),\n",
       " ('xiaomi', np.float64(0.019379543969474295)),\n",
       " ('đánh_giá', np.float64(0.01761446681640535))]"
      ]
     },
     "execution_count": 33,
     "metadata": {},
     "output_type": "execute_result"
    }
   ],
   "source": [
    "topic_model.get_topic(1)"
   ]
  },
  {
   "cell_type": "markdown",
   "id": "67b508f2",
   "metadata": {},
   "source": [
    "# Biểu đồ tần suất chủ đề và Intertopic Distance Map"
   ]
  },
  {
   "cell_type": "code",
   "execution_count": null,
   "id": "f01f0ecc",
   "metadata": {},
   "outputs": [
    {
     "name": "stdout",
     "output_type": "stream",
     "text": [
      "Final topics: 71 | Rows: 5107\n"
     ]
    },
    {
     "data": {
      "application/vnd.plotly.v1+json": {
       "config": {
        "plotlyServerURL": "https://plot.ly"
       },
       "data": [
        {
         "marker": {
          "color": "#D55E00"
         },
         "orientation": "h",
         "type": "bar",
         "x": [
          0.01190399040913249,
          0.012373517672934794,
          0.013243522010794116,
          0.017101091712247395,
          0.018735160043423574
         ],
         "xaxis": "x",
         "y": [
          "hay  ",
          "việt_nam  ",
          "kênh  ",
          "phim  ",
          "bóng_đá  "
         ],
         "yaxis": "y"
        },
        {
         "marker": {
          "color": "#0072B2"
         },
         "orientation": "h",
         "type": "bar",
         "x": [
          0.02223995788225809,
          0.02297878233356635,
          0.025491086578221748,
          0.02694568483935517,
          0.03293992885063342
         ],
         "xaxis": "x2",
         "y": [
          "iphone  ",
          "vật_vờ  ",
          "sản_phẩm  ",
          "giá  ",
          "điện_thoại  "
         ],
         "yaxis": "y2"
        },
        {
         "marker": {
          "color": "#CC79A7"
         },
         "orientation": "h",
         "type": "bar",
         "x": [
          0.034972640927810404,
          0.03738510539187268,
          0.038489984715292226,
          0.04276755415596638,
          0.05888051830750049
         ],
         "xaxis": "x3",
         "y": [
          "antv  ",
          "mới  ",
          "tin  ",
          "an_ninh  ",
          "tin_tức  "
         ],
         "yaxis": "y3"
        },
        {
         "marker": {
          "color": "#E69F00"
         },
         "orientation": "h",
         "type": "bar",
         "x": [
          0.02459223244361301,
          0.031284510170784395,
          0.03260938916139283,
          0.03925747927003214,
          0.04933882783667273
         ],
         "xaxis": "x4",
         "y": [
          "bệnh  ",
          "bác_sĩ  ",
          "sức_khỏe  ",
          "sức  ",
          "khỏe  "
         ],
         "yaxis": "y4"
        },
        {
         "marker": {
          "color": "#56B4E9"
         },
         "orientation": "h",
         "type": "bar",
         "x": [
          0.02254327420567525,
          0.024083128633401087,
          0.03649911559215095,
          0.039022367613034833,
          0.08302148597085336
         ],
         "xaxis": "x5",
         "y": [
          "toyota  ",
          "tv  ",
          "tipcar  ",
          "đánh_giá  ",
          "xe  "
         ],
         "yaxis": "y5"
        },
        {
         "marker": {
          "color": "#009E73"
         },
         "orientation": "h",
         "type": "bar",
         "x": [
          0.02696090819894927,
          0.0335978650928506,
          0.03475667462215206,
          0.03959879323462641,
          0.06359719781666384
         ],
         "xaxis": "x6",
         "y": [
          "ăn_uống  ",
          "ăn  ",
          "đồng_quê  ",
          "khoai  ",
          "ẩm_thực  "
         ],
         "yaxis": "y6"
        },
        {
         "marker": {
          "color": "#F0E442"
         },
         "orientation": "h",
         "type": "bar",
         "x": [
          0.10770316781371138,
          0.11448017159467545,
          0.14728896493350316,
          0.16951972548018057,
          0.1734197856046084
         ],
         "xaxis": "x7",
         "y": [
          "tag_phimle  ",
          "tag_tomtatphim  ",
          "review  ",
          "phim  ",
          "tag_reviewphim  "
         ],
         "yaxis": "y7"
        },
        {
         "marker": {
          "color": "#D55E00"
         },
         "orientation": "h",
         "type": "bar",
         "x": [
          0.02109600989381127,
          0.02157175172235477,
          0.021637041100329404,
          0.023567272289637457,
          0.06565045381562606
         ],
         "xaxis": "x8",
         "y": [
          "nhật_ký  ",
          "khám_phá  ",
          "biển  ",
          "tàu  ",
          "du_lịch  "
         ],
         "yaxis": "y8"
        },
        {
         "marker": {
          "color": "#0072B2"
         },
         "orientation": "h",
         "type": "bar",
         "x": [
          0.022881579276642014,
          0.026555374262783805,
          0.03616096021174952,
          0.04224727221504892,
          0.07221772684865521
         ],
         "xaxis": "x9",
         "y": [
          "surface  ",
          "laptop  ",
          "hướng_dẫn  ",
          "cách  ",
          "máy_tính  "
         ],
         "yaxis": "y9"
        },
        {
         "marker": {
          "color": "#CC79A7"
         },
         "orientation": "h",
         "type": "bar",
         "x": [
          0.03645899650564321,
          0.03791818825378123,
          0.03903061365275163,
          0.04172295442173556,
          0.06555191520031851
         ],
         "xaxis": "x10",
         "y": [
          "the  ",
          "copyright  ",
          "for  ",
          "is  ",
          "use  "
         ],
         "yaxis": "y10"
        },
        {
         "marker": {
          "color": "#E69F00"
         },
         "orientation": "h",
         "type": "bar",
         "x": [
          0.11908024531865621,
          0.12176610607287412,
          0.12729322858998668,
          0.1281448317171159,
          0.14276722896354424
         ],
         "xaxis": "x11",
         "y": [
          "kho  ",
          "tag_ngoaihanganh  ",
          "tag_kplussports  ",
          "nóng_hổi  ",
          "đa_tầng  "
         ],
         "yaxis": "y11"
        },
        {
         "marker": {
          "color": "#56B4E9"
         },
         "orientation": "h",
         "type": "bar",
         "x": [
          0.1018650797472338,
          0.10220768514386701,
          0.10327745428957244,
          0.1193658605036931,
          0.12046674516773986
         ],
         "xaxis": "x12",
         "y": [
          "thèm  ",
          "mọi_khi  ",
          "thuồng  ",
          "hãy  ",
          "tag_hàihước  "
         ],
         "yaxis": "y12"
        },
        {
         "marker": {
          "color": "#009E73"
         },
         "orientation": "h",
         "type": "bar",
         "x": [
          0.040111600521917694,
          0.045061573687896025,
          0.04790286487698708,
          0.05776199115023725,
          0.06403133955986186
         ],
         "xaxis": "x13",
         "y": [
          "hướng_dẫn  ",
          "dance  ",
          "thứ  ",
          "h00  ",
          "bơi  "
         ],
         "yaxis": "y13"
        },
        {
         "marker": {
          "color": "#F0E442"
         },
         "orientation": "h",
         "type": "bar",
         "x": [
          0.03787824123134909,
          0.03944055108355127,
          0.04109060369843466,
          0.0480475828140256,
          0.06526383259435657
         ],
         "xaxis": "x14",
         "y": [
          "đông  ",
          "tin  ",
          "cấp  ",
          "tin_tức  ",
          "bão  "
         ],
         "yaxis": "y14"
        },
        {
         "marker": {
          "color": "#D55E00"
         },
         "orientation": "h",
         "type": "bar",
         "x": [
          0.04143437648366635,
          0.049444969813082766,
          0.05136728341155317,
          0.06728921694229674,
          0.07103574904118504
         ],
         "xaxis": "x15",
         "y": [
          "ăn  ",
          "nấu  ",
          "ngon  ",
          "thịt  ",
          "món  "
         ],
         "yaxis": "y15"
        },
        {
         "marker": {
          "color": "#0072B2"
         },
         "orientation": "h",
         "type": "bar",
         "x": [
          0.017801691985647218,
          0.018058140087032597,
          0.020739606080733,
          0.020941745066603283,
          0.021584975789570734
         ],
         "xaxis": "x16",
         "y": [
          "tag_xuhuong  ",
          "cầu_lông  ",
          "sumo  ",
          "nga  ",
          "kỷ_yếu  "
         ],
         "yaxis": "y16"
        },
        {
         "marker": {
          "color": "#CC79A7"
         },
         "orientation": "h",
         "type": "bar",
         "x": [
          0.03606891008820376,
          0.038219906365917725,
          0.040542427543152494,
          0.04364543761040732,
          0.055686611636596765
         ],
         "xaxis": "x17",
         "y": [
          "hợp_tác  ",
          "vui_lòng  ",
          "email  ",
          "so  ",
          "tony  "
         ],
         "yaxis": "y17"
        },
        {
         "marker": {
          "color": "#E69F00"
         },
         "orientation": "h",
         "type": "bar",
         "x": [
          0.2409583140548027,
          0.30983815605157966,
          0.34347851193243917,
          0.4359548732593414,
          0.44571275405698196
         ],
         "xaxis": "x18",
         "y": [
          "max  ",
          "pro  ",
          "giá  ",
          "iphone  ",
          "tr  "
         ],
         "yaxis": "y18"
        },
        {
         "marker": {
          "color": "#56B4E9"
         },
         "orientation": "h",
         "type": "bar",
         "x": [
          0.05133356562363321,
          0.052775033689027945,
          0.05316116021916787,
          0.05316116021916787,
          0.08103583626412914
         ],
         "xaxis": "x19",
         "y": [
          "comment  ",
          "facebook_fanpage  ",
          "đăng_nha  ",
          "tag_haidangreview  ",
          "hải_đăng  "
         ],
         "yaxis": "y19"
        },
        {
         "marker": {
          "color": "#009E73"
         },
         "orientation": "h",
         "type": "bar",
         "x": [
          0.040312290467003145,
          0.04542757011962693,
          0.04871697217344738,
          0.05052723155165918,
          0.09488909745274374
         ],
         "xaxis": "x20",
         "y": [
          "trường  ",
          "học  ",
          "máy_tính  ",
          "công_nghệ  ",
          "ngành  "
         ],
         "yaxis": "y20"
        }
       ],
       "layout": {
        "annotations": [
         {
          "font": {
           "size": 16
          },
          "showarrow": false,
          "text": "Topic 0",
          "x": 0.0875,
          "xanchor": "center",
          "xref": "paper",
          "y": 0.9999999999999999,
          "yanchor": "bottom",
          "yref": "paper"
         },
         {
          "font": {
           "size": 16
          },
          "showarrow": false,
          "text": "Topic 1",
          "x": 0.36250000000000004,
          "xanchor": "center",
          "xref": "paper",
          "y": 0.9999999999999999,
          "yanchor": "bottom",
          "yref": "paper"
         },
         {
          "font": {
           "size": 16
          },
          "showarrow": false,
          "text": "Topic 2",
          "x": 0.6375000000000001,
          "xanchor": "center",
          "xref": "paper",
          "y": 0.9999999999999999,
          "yanchor": "bottom",
          "yref": "paper"
         },
         {
          "font": {
           "size": 16
          },
          "showarrow": false,
          "text": "Topic 3",
          "x": 0.9125,
          "xanchor": "center",
          "xref": "paper",
          "y": 0.9999999999999999,
          "yanchor": "bottom",
          "yref": "paper"
         },
         {
          "font": {
           "size": 16
          },
          "showarrow": false,
          "text": "Topic 4",
          "x": 0.0875,
          "xanchor": "center",
          "xref": "paper",
          "y": 0.7839999999999999,
          "yanchor": "bottom",
          "yref": "paper"
         },
         {
          "font": {
           "size": 16
          },
          "showarrow": false,
          "text": "Topic 5",
          "x": 0.36250000000000004,
          "xanchor": "center",
          "xref": "paper",
          "y": 0.7839999999999999,
          "yanchor": "bottom",
          "yref": "paper"
         },
         {
          "font": {
           "size": 16
          },
          "showarrow": false,
          "text": "Topic 6",
          "x": 0.6375000000000001,
          "xanchor": "center",
          "xref": "paper",
          "y": 0.7839999999999999,
          "yanchor": "bottom",
          "yref": "paper"
         },
         {
          "font": {
           "size": 16
          },
          "showarrow": false,
          "text": "Topic 7",
          "x": 0.9125,
          "xanchor": "center",
          "xref": "paper",
          "y": 0.7839999999999999,
          "yanchor": "bottom",
          "yref": "paper"
         },
         {
          "font": {
           "size": 16
          },
          "showarrow": false,
          "text": "Topic 8",
          "x": 0.0875,
          "xanchor": "center",
          "xref": "paper",
          "y": 0.568,
          "yanchor": "bottom",
          "yref": "paper"
         },
         {
          "font": {
           "size": 16
          },
          "showarrow": false,
          "text": "Topic 9",
          "x": 0.36250000000000004,
          "xanchor": "center",
          "xref": "paper",
          "y": 0.568,
          "yanchor": "bottom",
          "yref": "paper"
         },
         {
          "font": {
           "size": 16
          },
          "showarrow": false,
          "text": "Topic 10",
          "x": 0.6375000000000001,
          "xanchor": "center",
          "xref": "paper",
          "y": 0.568,
          "yanchor": "bottom",
          "yref": "paper"
         },
         {
          "font": {
           "size": 16
          },
          "showarrow": false,
          "text": "Topic 11",
          "x": 0.9125,
          "xanchor": "center",
          "xref": "paper",
          "y": 0.568,
          "yanchor": "bottom",
          "yref": "paper"
         },
         {
          "font": {
           "size": 16
          },
          "showarrow": false,
          "text": "Topic 12",
          "x": 0.0875,
          "xanchor": "center",
          "xref": "paper",
          "y": 0.352,
          "yanchor": "bottom",
          "yref": "paper"
         },
         {
          "font": {
           "size": 16
          },
          "showarrow": false,
          "text": "Topic 13",
          "x": 0.36250000000000004,
          "xanchor": "center",
          "xref": "paper",
          "y": 0.352,
          "yanchor": "bottom",
          "yref": "paper"
         },
         {
          "font": {
           "size": 16
          },
          "showarrow": false,
          "text": "Topic 14",
          "x": 0.6375000000000001,
          "xanchor": "center",
          "xref": "paper",
          "y": 0.352,
          "yanchor": "bottom",
          "yref": "paper"
         },
         {
          "font": {
           "size": 16
          },
          "showarrow": false,
          "text": "Topic 15",
          "x": 0.9125,
          "xanchor": "center",
          "xref": "paper",
          "y": 0.352,
          "yanchor": "bottom",
          "yref": "paper"
         },
         {
          "font": {
           "size": 16
          },
          "showarrow": false,
          "text": "Topic 16",
          "x": 0.0875,
          "xanchor": "center",
          "xref": "paper",
          "y": 0.13599999999999998,
          "yanchor": "bottom",
          "yref": "paper"
         },
         {
          "font": {
           "size": 16
          },
          "showarrow": false,
          "text": "Topic 17",
          "x": 0.36250000000000004,
          "xanchor": "center",
          "xref": "paper",
          "y": 0.13599999999999998,
          "yanchor": "bottom",
          "yref": "paper"
         },
         {
          "font": {
           "size": 16
          },
          "showarrow": false,
          "text": "Topic 18",
          "x": 0.6375000000000001,
          "xanchor": "center",
          "xref": "paper",
          "y": 0.13599999999999998,
          "yanchor": "bottom",
          "yref": "paper"
         },
         {
          "font": {
           "size": 16
          },
          "showarrow": false,
          "text": "Topic 19",
          "x": 0.9125,
          "xanchor": "center",
          "xref": "paper",
          "y": 0.13599999999999998,
          "yanchor": "bottom",
          "yref": "paper"
         }
        ],
        "height": 1250,
        "hoverlabel": {
         "bgcolor": "white",
         "font": {
          "family": "Rockwell",
          "size": 16
         }
        },
        "showlegend": false,
        "template": {
         "data": {
          "bar": [
           {
            "error_x": {
             "color": "#2a3f5f"
            },
            "error_y": {
             "color": "#2a3f5f"
            },
            "marker": {
             "line": {
              "color": "white",
              "width": 0.5
             },
             "pattern": {
              "fillmode": "overlay",
              "size": 10,
              "solidity": 0.2
             }
            },
            "type": "bar"
           }
          ],
          "barpolar": [
           {
            "marker": {
             "line": {
              "color": "white",
              "width": 0.5
             },
             "pattern": {
              "fillmode": "overlay",
              "size": 10,
              "solidity": 0.2
             }
            },
            "type": "barpolar"
           }
          ],
          "carpet": [
           {
            "aaxis": {
             "endlinecolor": "#2a3f5f",
             "gridcolor": "#C8D4E3",
             "linecolor": "#C8D4E3",
             "minorgridcolor": "#C8D4E3",
             "startlinecolor": "#2a3f5f"
            },
            "baxis": {
             "endlinecolor": "#2a3f5f",
             "gridcolor": "#C8D4E3",
             "linecolor": "#C8D4E3",
             "minorgridcolor": "#C8D4E3",
             "startlinecolor": "#2a3f5f"
            },
            "type": "carpet"
           }
          ],
          "choropleth": [
           {
            "colorbar": {
             "outlinewidth": 0,
             "ticks": ""
            },
            "type": "choropleth"
           }
          ],
          "contour": [
           {
            "colorbar": {
             "outlinewidth": 0,
             "ticks": ""
            },
            "colorscale": [
             [
              0,
              "#0d0887"
             ],
             [
              0.1111111111111111,
              "#46039f"
             ],
             [
              0.2222222222222222,
              "#7201a8"
             ],
             [
              0.3333333333333333,
              "#9c179e"
             ],
             [
              0.4444444444444444,
              "#bd3786"
             ],
             [
              0.5555555555555556,
              "#d8576b"
             ],
             [
              0.6666666666666666,
              "#ed7953"
             ],
             [
              0.7777777777777778,
              "#fb9f3a"
             ],
             [
              0.8888888888888888,
              "#fdca26"
             ],
             [
              1,
              "#f0f921"
             ]
            ],
            "type": "contour"
           }
          ],
          "contourcarpet": [
           {
            "colorbar": {
             "outlinewidth": 0,
             "ticks": ""
            },
            "type": "contourcarpet"
           }
          ],
          "heatmap": [
           {
            "colorbar": {
             "outlinewidth": 0,
             "ticks": ""
            },
            "colorscale": [
             [
              0,
              "#0d0887"
             ],
             [
              0.1111111111111111,
              "#46039f"
             ],
             [
              0.2222222222222222,
              "#7201a8"
             ],
             [
              0.3333333333333333,
              "#9c179e"
             ],
             [
              0.4444444444444444,
              "#bd3786"
             ],
             [
              0.5555555555555556,
              "#d8576b"
             ],
             [
              0.6666666666666666,
              "#ed7953"
             ],
             [
              0.7777777777777778,
              "#fb9f3a"
             ],
             [
              0.8888888888888888,
              "#fdca26"
             ],
             [
              1,
              "#f0f921"
             ]
            ],
            "type": "heatmap"
           }
          ],
          "histogram": [
           {
            "marker": {
             "pattern": {
              "fillmode": "overlay",
              "size": 10,
              "solidity": 0.2
             }
            },
            "type": "histogram"
           }
          ],
          "histogram2d": [
           {
            "colorbar": {
             "outlinewidth": 0,
             "ticks": ""
            },
            "colorscale": [
             [
              0,
              "#0d0887"
             ],
             [
              0.1111111111111111,
              "#46039f"
             ],
             [
              0.2222222222222222,
              "#7201a8"
             ],
             [
              0.3333333333333333,
              "#9c179e"
             ],
             [
              0.4444444444444444,
              "#bd3786"
             ],
             [
              0.5555555555555556,
              "#d8576b"
             ],
             [
              0.6666666666666666,
              "#ed7953"
             ],
             [
              0.7777777777777778,
              "#fb9f3a"
             ],
             [
              0.8888888888888888,
              "#fdca26"
             ],
             [
              1,
              "#f0f921"
             ]
            ],
            "type": "histogram2d"
           }
          ],
          "histogram2dcontour": [
           {
            "colorbar": {
             "outlinewidth": 0,
             "ticks": ""
            },
            "colorscale": [
             [
              0,
              "#0d0887"
             ],
             [
              0.1111111111111111,
              "#46039f"
             ],
             [
              0.2222222222222222,
              "#7201a8"
             ],
             [
              0.3333333333333333,
              "#9c179e"
             ],
             [
              0.4444444444444444,
              "#bd3786"
             ],
             [
              0.5555555555555556,
              "#d8576b"
             ],
             [
              0.6666666666666666,
              "#ed7953"
             ],
             [
              0.7777777777777778,
              "#fb9f3a"
             ],
             [
              0.8888888888888888,
              "#fdca26"
             ],
             [
              1,
              "#f0f921"
             ]
            ],
            "type": "histogram2dcontour"
           }
          ],
          "mesh3d": [
           {
            "colorbar": {
             "outlinewidth": 0,
             "ticks": ""
            },
            "type": "mesh3d"
           }
          ],
          "parcoords": [
           {
            "line": {
             "colorbar": {
              "outlinewidth": 0,
              "ticks": ""
             }
            },
            "type": "parcoords"
           }
          ],
          "pie": [
           {
            "automargin": true,
            "type": "pie"
           }
          ],
          "scatter": [
           {
            "fillpattern": {
             "fillmode": "overlay",
             "size": 10,
             "solidity": 0.2
            },
            "type": "scatter"
           }
          ],
          "scatter3d": [
           {
            "line": {
             "colorbar": {
              "outlinewidth": 0,
              "ticks": ""
             }
            },
            "marker": {
             "colorbar": {
              "outlinewidth": 0,
              "ticks": ""
             }
            },
            "type": "scatter3d"
           }
          ],
          "scattercarpet": [
           {
            "marker": {
             "colorbar": {
              "outlinewidth": 0,
              "ticks": ""
             }
            },
            "type": "scattercarpet"
           }
          ],
          "scattergeo": [
           {
            "marker": {
             "colorbar": {
              "outlinewidth": 0,
              "ticks": ""
             }
            },
            "type": "scattergeo"
           }
          ],
          "scattergl": [
           {
            "marker": {
             "colorbar": {
              "outlinewidth": 0,
              "ticks": ""
             }
            },
            "type": "scattergl"
           }
          ],
          "scattermap": [
           {
            "marker": {
             "colorbar": {
              "outlinewidth": 0,
              "ticks": ""
             }
            },
            "type": "scattermap"
           }
          ],
          "scattermapbox": [
           {
            "marker": {
             "colorbar": {
              "outlinewidth": 0,
              "ticks": ""
             }
            },
            "type": "scattermapbox"
           }
          ],
          "scatterpolar": [
           {
            "marker": {
             "colorbar": {
              "outlinewidth": 0,
              "ticks": ""
             }
            },
            "type": "scatterpolar"
           }
          ],
          "scatterpolargl": [
           {
            "marker": {
             "colorbar": {
              "outlinewidth": 0,
              "ticks": ""
             }
            },
            "type": "scatterpolargl"
           }
          ],
          "scatterternary": [
           {
            "marker": {
             "colorbar": {
              "outlinewidth": 0,
              "ticks": ""
             }
            },
            "type": "scatterternary"
           }
          ],
          "surface": [
           {
            "colorbar": {
             "outlinewidth": 0,
             "ticks": ""
            },
            "colorscale": [
             [
              0,
              "#0d0887"
             ],
             [
              0.1111111111111111,
              "#46039f"
             ],
             [
              0.2222222222222222,
              "#7201a8"
             ],
             [
              0.3333333333333333,
              "#9c179e"
             ],
             [
              0.4444444444444444,
              "#bd3786"
             ],
             [
              0.5555555555555556,
              "#d8576b"
             ],
             [
              0.6666666666666666,
              "#ed7953"
             ],
             [
              0.7777777777777778,
              "#fb9f3a"
             ],
             [
              0.8888888888888888,
              "#fdca26"
             ],
             [
              1,
              "#f0f921"
             ]
            ],
            "type": "surface"
           }
          ],
          "table": [
           {
            "cells": {
             "fill": {
              "color": "#EBF0F8"
             },
             "line": {
              "color": "white"
             }
            },
            "header": {
             "fill": {
              "color": "#C8D4E3"
             },
             "line": {
              "color": "white"
             }
            },
            "type": "table"
           }
          ]
         },
         "layout": {
          "annotationdefaults": {
           "arrowcolor": "#2a3f5f",
           "arrowhead": 0,
           "arrowwidth": 1
          },
          "autotypenumbers": "strict",
          "coloraxis": {
           "colorbar": {
            "outlinewidth": 0,
            "ticks": ""
           }
          },
          "colorscale": {
           "diverging": [
            [
             0,
             "#8e0152"
            ],
            [
             0.1,
             "#c51b7d"
            ],
            [
             0.2,
             "#de77ae"
            ],
            [
             0.3,
             "#f1b6da"
            ],
            [
             0.4,
             "#fde0ef"
            ],
            [
             0.5,
             "#f7f7f7"
            ],
            [
             0.6,
             "#e6f5d0"
            ],
            [
             0.7,
             "#b8e186"
            ],
            [
             0.8,
             "#7fbc41"
            ],
            [
             0.9,
             "#4d9221"
            ],
            [
             1,
             "#276419"
            ]
           ],
           "sequential": [
            [
             0,
             "#0d0887"
            ],
            [
             0.1111111111111111,
             "#46039f"
            ],
            [
             0.2222222222222222,
             "#7201a8"
            ],
            [
             0.3333333333333333,
             "#9c179e"
            ],
            [
             0.4444444444444444,
             "#bd3786"
            ],
            [
             0.5555555555555556,
             "#d8576b"
            ],
            [
             0.6666666666666666,
             "#ed7953"
            ],
            [
             0.7777777777777778,
             "#fb9f3a"
            ],
            [
             0.8888888888888888,
             "#fdca26"
            ],
            [
             1,
             "#f0f921"
            ]
           ],
           "sequentialminus": [
            [
             0,
             "#0d0887"
            ],
            [
             0.1111111111111111,
             "#46039f"
            ],
            [
             0.2222222222222222,
             "#7201a8"
            ],
            [
             0.3333333333333333,
             "#9c179e"
            ],
            [
             0.4444444444444444,
             "#bd3786"
            ],
            [
             0.5555555555555556,
             "#d8576b"
            ],
            [
             0.6666666666666666,
             "#ed7953"
            ],
            [
             0.7777777777777778,
             "#fb9f3a"
            ],
            [
             0.8888888888888888,
             "#fdca26"
            ],
            [
             1,
             "#f0f921"
            ]
           ]
          },
          "colorway": [
           "#636efa",
           "#EF553B",
           "#00cc96",
           "#ab63fa",
           "#FFA15A",
           "#19d3f3",
           "#FF6692",
           "#B6E880",
           "#FF97FF",
           "#FECB52"
          ],
          "font": {
           "color": "#2a3f5f"
          },
          "geo": {
           "bgcolor": "white",
           "lakecolor": "white",
           "landcolor": "white",
           "showlakes": true,
           "showland": true,
           "subunitcolor": "#C8D4E3"
          },
          "hoverlabel": {
           "align": "left"
          },
          "hovermode": "closest",
          "mapbox": {
           "style": "light"
          },
          "paper_bgcolor": "white",
          "plot_bgcolor": "white",
          "polar": {
           "angularaxis": {
            "gridcolor": "#EBF0F8",
            "linecolor": "#EBF0F8",
            "ticks": ""
           },
           "bgcolor": "white",
           "radialaxis": {
            "gridcolor": "#EBF0F8",
            "linecolor": "#EBF0F8",
            "ticks": ""
           }
          },
          "scene": {
           "xaxis": {
            "backgroundcolor": "white",
            "gridcolor": "#DFE8F3",
            "gridwidth": 2,
            "linecolor": "#EBF0F8",
            "showbackground": true,
            "ticks": "",
            "zerolinecolor": "#EBF0F8"
           },
           "yaxis": {
            "backgroundcolor": "white",
            "gridcolor": "#DFE8F3",
            "gridwidth": 2,
            "linecolor": "#EBF0F8",
            "showbackground": true,
            "ticks": "",
            "zerolinecolor": "#EBF0F8"
           },
           "zaxis": {
            "backgroundcolor": "white",
            "gridcolor": "#DFE8F3",
            "gridwidth": 2,
            "linecolor": "#EBF0F8",
            "showbackground": true,
            "ticks": "",
            "zerolinecolor": "#EBF0F8"
           }
          },
          "shapedefaults": {
           "line": {
            "color": "#2a3f5f"
           }
          },
          "ternary": {
           "aaxis": {
            "gridcolor": "#DFE8F3",
            "linecolor": "#A2B1C6",
            "ticks": ""
           },
           "baxis": {
            "gridcolor": "#DFE8F3",
            "linecolor": "#A2B1C6",
            "ticks": ""
           },
           "bgcolor": "white",
           "caxis": {
            "gridcolor": "#DFE8F3",
            "linecolor": "#A2B1C6",
            "ticks": ""
           }
          },
          "title": {
           "x": 0.05
          },
          "xaxis": {
           "automargin": true,
           "gridcolor": "#EBF0F8",
           "linecolor": "#EBF0F8",
           "ticks": "",
           "title": {
            "standoff": 15
           },
           "zerolinecolor": "#EBF0F8",
           "zerolinewidth": 2
          },
          "yaxis": {
           "automargin": true,
           "gridcolor": "#EBF0F8",
           "linecolor": "#EBF0F8",
           "ticks": "",
           "title": {
            "standoff": 15
           },
           "zerolinecolor": "#EBF0F8",
           "zerolinewidth": 2
          }
         }
        },
        "title": {
         "font": {
          "color": "Black",
          "size": 22
         },
         "text": "Topic Word Scores",
         "x": 0.5,
         "xanchor": "center",
         "yanchor": "top"
        },
        "width": 1000,
        "xaxis": {
         "anchor": "y",
         "domain": [
          0,
          0.175
         ],
         "showgrid": true
        },
        "xaxis10": {
         "anchor": "y10",
         "domain": [
          0.275,
          0.45
         ],
         "showgrid": true
        },
        "xaxis11": {
         "anchor": "y11",
         "domain": [
          0.55,
          0.7250000000000001
         ],
         "showgrid": true
        },
        "xaxis12": {
         "anchor": "y12",
         "domain": [
          0.825,
          1
         ],
         "showgrid": true
        },
        "xaxis13": {
         "anchor": "y13",
         "domain": [
          0,
          0.175
         ],
         "showgrid": true
        },
        "xaxis14": {
         "anchor": "y14",
         "domain": [
          0.275,
          0.45
         ],
         "showgrid": true
        },
        "xaxis15": {
         "anchor": "y15",
         "domain": [
          0.55,
          0.7250000000000001
         ],
         "showgrid": true
        },
        "xaxis16": {
         "anchor": "y16",
         "domain": [
          0.825,
          1
         ],
         "showgrid": true
        },
        "xaxis17": {
         "anchor": "y17",
         "domain": [
          0,
          0.175
         ],
         "showgrid": true
        },
        "xaxis18": {
         "anchor": "y18",
         "domain": [
          0.275,
          0.45
         ],
         "showgrid": true
        },
        "xaxis19": {
         "anchor": "y19",
         "domain": [
          0.55,
          0.7250000000000001
         ],
         "showgrid": true
        },
        "xaxis2": {
         "anchor": "y2",
         "domain": [
          0.275,
          0.45
         ],
         "showgrid": true
        },
        "xaxis20": {
         "anchor": "y20",
         "domain": [
          0.825,
          1
         ],
         "showgrid": true
        },
        "xaxis3": {
         "anchor": "y3",
         "domain": [
          0.55,
          0.7250000000000001
         ],
         "showgrid": true
        },
        "xaxis4": {
         "anchor": "y4",
         "domain": [
          0.825,
          1
         ],
         "showgrid": true
        },
        "xaxis5": {
         "anchor": "y5",
         "domain": [
          0,
          0.175
         ],
         "showgrid": true
        },
        "xaxis6": {
         "anchor": "y6",
         "domain": [
          0.275,
          0.45
         ],
         "showgrid": true
        },
        "xaxis7": {
         "anchor": "y7",
         "domain": [
          0.55,
          0.7250000000000001
         ],
         "showgrid": true
        },
        "xaxis8": {
         "anchor": "y8",
         "domain": [
          0.825,
          1
         ],
         "showgrid": true
        },
        "xaxis9": {
         "anchor": "y9",
         "domain": [
          0,
          0.175
         ],
         "showgrid": true
        },
        "yaxis": {
         "anchor": "x",
         "domain": [
          0.8639999999999999,
          0.9999999999999999
         ],
         "showgrid": true
        },
        "yaxis10": {
         "anchor": "x10",
         "domain": [
          0.43199999999999994,
          0.568
         ],
         "showgrid": true
        },
        "yaxis11": {
         "anchor": "x11",
         "domain": [
          0.43199999999999994,
          0.568
         ],
         "showgrid": true
        },
        "yaxis12": {
         "anchor": "x12",
         "domain": [
          0.43199999999999994,
          0.568
         ],
         "showgrid": true
        },
        "yaxis13": {
         "anchor": "x13",
         "domain": [
          0.21599999999999997,
          0.352
         ],
         "showgrid": true
        },
        "yaxis14": {
         "anchor": "x14",
         "domain": [
          0.21599999999999997,
          0.352
         ],
         "showgrid": true
        },
        "yaxis15": {
         "anchor": "x15",
         "domain": [
          0.21599999999999997,
          0.352
         ],
         "showgrid": true
        },
        "yaxis16": {
         "anchor": "x16",
         "domain": [
          0.21599999999999997,
          0.352
         ],
         "showgrid": true
        },
        "yaxis17": {
         "anchor": "x17",
         "domain": [
          0,
          0.13599999999999998
         ],
         "showgrid": true
        },
        "yaxis18": {
         "anchor": "x18",
         "domain": [
          0,
          0.13599999999999998
         ],
         "showgrid": true
        },
        "yaxis19": {
         "anchor": "x19",
         "domain": [
          0,
          0.13599999999999998
         ],
         "showgrid": true
        },
        "yaxis2": {
         "anchor": "x2",
         "domain": [
          0.8639999999999999,
          0.9999999999999999
         ],
         "showgrid": true
        },
        "yaxis20": {
         "anchor": "x20",
         "domain": [
          0,
          0.13599999999999998
         ],
         "showgrid": true
        },
        "yaxis3": {
         "anchor": "x3",
         "domain": [
          0.8639999999999999,
          0.9999999999999999
         ],
         "showgrid": true
        },
        "yaxis4": {
         "anchor": "x4",
         "domain": [
          0.8639999999999999,
          0.9999999999999999
         ],
         "showgrid": true
        },
        "yaxis5": {
         "anchor": "x5",
         "domain": [
          0.6479999999999999,
          0.7839999999999999
         ],
         "showgrid": true
        },
        "yaxis6": {
         "anchor": "x6",
         "domain": [
          0.6479999999999999,
          0.7839999999999999
         ],
         "showgrid": true
        },
        "yaxis7": {
         "anchor": "x7",
         "domain": [
          0.6479999999999999,
          0.7839999999999999
         ],
         "showgrid": true
        },
        "yaxis8": {
         "anchor": "x8",
         "domain": [
          0.6479999999999999,
          0.7839999999999999
         ],
         "showgrid": true
        },
        "yaxis9": {
         "anchor": "x9",
         "domain": [
          0.43199999999999994,
          0.568
         ],
         "showgrid": true
        }
       }
      }
     },
     "metadata": {},
     "output_type": "display_data"
    },
    {
     "name": "stdout",
     "output_type": "stream",
     "text": [
      "Saved: topic_word_scores.html\n"
     ]
    },
    {
     "data": {
      "application/vnd.plotly.v1+json": {
       "config": {
        "plotlyServerURL": "https://plot.ly"
       },
       "data": [
        {
         "customdata": [
          [
           0,
           "bóng_đá | phim | kênh | việt_nam | hay",
           1734
          ],
          [
           1,
           "điện_thoại | giá | sản_phẩm | vật_vờ | iphone",
           360
          ],
          [
           2,
           "tin_tức | an_ninh | tin | mới | antv",
           333
          ],
          [
           3,
           "khỏe | sức | sức_khỏe | bác_sĩ | bệnh",
           312
          ],
          [
           4,
           "xe | đánh_giá | tipcar | tv | toyota",
           188
          ],
          [
           5,
           "ẩm_thực | khoai | đồng_quê | ăn | ăn_uống",
           176
          ],
          [
           6,
           "tag_reviewphim | phim | review | tag_tomtatphim | tag_phimle",
           171
          ],
          [
           7,
           "du_lịch | tàu | biển | khám_phá | nhật_ký",
           167
          ],
          [
           8,
           "máy_tính | cách | hướng_dẫn | laptop | surface",
           160
          ],
          [
           9,
           "use | is | for | copyright | the",
           116
          ],
          [
           10,
           "đa_tầng | nóng_hổi | tag_kplussports | tag_ngoaihanganh | kho",
           109
          ],
          [
           11,
           "tag_hàihước | hãy | thuồng | mọi_khi | thèm",
           75
          ],
          [
           12,
           "bơi | h00 | thứ | dance | hướng_dẫn",
           74
          ],
          [
           13,
           "bão | tin_tức | cấp | tin | đông",
           73
          ],
          [
           14,
           "món | thịt | ngon | nấu | ăn",
           70
          ],
          [
           15,
           "kỷ_yếu | nga | sumo | cầu_lông | tag_xuhuong",
           61
          ],
          [
           16,
           "tony | so | email | vui_lòng | hợp_tác",
           56
          ],
          [
           17,
           "tr | iphone | giá | pro | max",
           48
          ],
          [
           18,
           "hải_đăng | tag_haidangreview | đăng_nha | facebook_fanpage | comment",
           47
          ],
          [
           19,
           "ngành | công_nghệ | máy_tính | học | trường",
           42
          ],
          [
           20,
           "muse | anime | tập | sakura | ani",
           41
          ],
          [
           21,
           "công_nghệ | tên_lửa | việt_nam | quân_sự | chiến_lược",
           38
          ],
          [
           22,
           "báo_điện_tử | vtv24news | vtv_digital | tag_vtvdigital | chuyên_trang",
           38
          ],
          [
           23,
           "đánh_giá | relab | smartphone | ______________________________ | review",
           36
          ],
          [
           24,
           "truyền_hình_cáp | online | vtvcab_truyền_hình_cáp | tin_tức_là | ngọc_khánh",
           36
          ],
          [
           25,
           "excel | surfaceprovn | tag_tinhocvanphong | tag_thuthuatexcel | tag_excel",
           35
          ],
          [
           26,
           "quốc_tế | viettimes | tạp_chí | thời_sự | nga",
           35
          ],
          [
           27,
           "trách_nhiệm | chịu | bất_kỳ | phải | nào",
           35
          ],
          [
           28,
           "tag_maytinhbangcugiare | tag_ipadcugiare | tag_dienthoaibinhdan | tag_oppo | tag_samsungs25ultra",
           35
          ],
          [
           29,
           "tiktok | douyin | tik | tag_tiktok | tag_tiktoktrungquoc",
           34
          ],
          [
           30,
           "danh_sách | bài | tri_thức | cô | kết_nối",
           31
          ],
          [
           31,
           "tuổi_trẻ | 84 | báo | tag_tinnong | nóng",
           30
          ],
          [
           32,
           "game | funny | game_thủ | afkmobi | bựa",
           29
          ],
          [
           33,
           "tag_okvip | tag_okvipbepnhaminh | téc_rốn | tag_hài | ấn_độ",
           27
          ],
          [
           34,
           "audio | truyện | tag_truyenaudio | nấu_ăn | tag_audio",
           26
          ],
          [
           35,
           "tag_dailyvlog | hà_an | xiuling | tag_study | quay",
           26
          ],
          [
           36,
           "review | momo | nam | cũ | chợ",
           26
          ],
          [
           37,
           "by | music | commons | attribution | promoted",
           25
          ],
          [
           38,
           "redmi | note | tecno | xt | galaxy",
           25
          ],
          [
           39,
           "facebook | instagram | fb | tiktok | cá_nhân",
           23
          ],
          [
           40,
           "chợ_phiên | thắng | hải_bảo | bắc | vùng_cao",
           23
          ],
          [
           41,
           "liên_quân | exe | quyen | le | aov",
           23
          ],
          [
           42,
           "xê_dịch | tôn_trọng | chọn | you | thế_gian",
           20
          ],
          [
           43,
           "mục_đích | bác_sĩ | tư_vấn | củai | công_chúng",
           20
          ],
          [
           44,
           "sangtraan | paypal | á_đù | ăng_seng | banking",
           18
          ]
         ],
         "hovertemplate": "<b>Topic %{customdata[0]}</b><br>%{customdata[1]}<br>Size: %{customdata[2]}",
         "legendgroup": "",
         "marker": {
          "color": "#B0BEC5",
          "line": {
           "color": "DarkSlateGrey",
           "width": 2
          },
          "size": {
           "bdata": "xgZoAU0BOAG8ALAAqwCnAKAAdABtAEsASgBJAEYAPQA4ADAALwAqACkAJgAmACQAJAAjACMAIwAjACIAHwAeAB0AGwAaABoAGgAZABkAFwAXABcAFAAUABIA",
           "dtype": "i2"
          },
          "sizemode": "area",
          "sizeref": 1.08375,
          "symbol": "circle"
         },
         "mode": "markers",
         "name": "",
         "orientation": "v",
         "showlegend": false,
         "type": "scatter",
         "x": {
          "bdata": "a0l/P+Hx20CL5lNAjNYBvsQE6EDZ9KA/hwbBPb5KgD8kYrlA/zBOP4VXgT9V864+ttxRPldXWkDchK0/hOuPwFc+MkGTH9dARpABQTDwvkAsvqq+P46eP4aAQT/xl9hALDuXPqjctT7mIWxAIb6PPs7rj8Bj1QZBGVHAQFGvPkDoCjU/BQ1hPsxFgT/fA0y+6Vz7QPhLcT9+D+JA2cADQTeJYj9YPjJBaeMQP0pto74ti0Y/",
          "dtype": "f4"
         },
         "xaxis": "x",
         "y": {
          "bdata": "/jyXQIcUBcEqlEFAp/2EQHxgBcHXyJZBIeGpQLfOmEEduMpAD4ebQP3+kkAw/51B3juQQMS0PEBOAZZBkWdnwEL/jkFycQzBirYSwSFG0EDzZ6pAvb2iQCgojkAATQTBK8uZQAyCqEAlIy1ALkykQCJpZ8BSxRjB66LRQLU6U0ARxq1AvvaeQTH9W0DfnpdAgIQPwRaGZUBqHQnBfuMUwZm4mUFF/45B7E6LQC/bfUDECqBA",
          "dtype": "f4"
         },
         "yaxis": "y"
        }
       ],
       "layout": {
        "annotations": [
         {
          "showarrow": false,
          "text": "D1",
          "x": -5.1721649169921875,
          "y": 5.935325622558594,
          "yshift": 10
         },
         {
          "showarrow": false,
          "text": "D2",
          "x": 3.8195443153381348,
          "xshift": 10,
          "y": 22.851051330566406
         }
        ],
        "height": 650,
        "hoverlabel": {
         "bgcolor": "white",
         "font": {
          "family": "Rockwell",
          "size": 16
         }
        },
        "legend": {
         "itemsizing": "constant",
         "tracegroupgap": 0
        },
        "margin": {
         "t": 60
        },
        "shapes": [
         {
          "line": {
           "color": "#CFD8DC",
           "width": 2
          },
          "type": "line",
          "x0": 3.8195443153381348,
          "x1": 3.8195443153381348,
          "y0": -10.980400085449219,
          "y1": 22.851051330566406
         },
         {
          "line": {
           "color": "#9E9E9E",
           "width": 2
          },
          "type": "line",
          "x0": -5.1721649169921875,
          "x1": 12.811253547668457,
          "y0": 5.935325622558594,
          "y1": 5.935325622558594
         }
        ],
        "sliders": [
         {
          "active": 0,
          "pad": {
           "t": 50
          },
          "steps": [
           {
            "args": [
             {
              "marker.color": [
               [
                "red",
                "#B0BEC5",
                "#B0BEC5",
                "#B0BEC5",
                "#B0BEC5",
                "#B0BEC5",
                "#B0BEC5",
                "#B0BEC5",
                "#B0BEC5",
                "#B0BEC5",
                "#B0BEC5",
                "#B0BEC5",
                "#B0BEC5",
                "#B0BEC5",
                "#B0BEC5",
                "#B0BEC5",
                "#B0BEC5",
                "#B0BEC5",
                "#B0BEC5",
                "#B0BEC5",
                "#B0BEC5",
                "#B0BEC5",
                "#B0BEC5",
                "#B0BEC5",
                "#B0BEC5",
                "#B0BEC5",
                "#B0BEC5",
                "#B0BEC5",
                "#B0BEC5",
                "#B0BEC5",
                "#B0BEC5",
                "#B0BEC5",
                "#B0BEC5",
                "#B0BEC5",
                "#B0BEC5",
                "#B0BEC5",
                "#B0BEC5",
                "#B0BEC5",
                "#B0BEC5",
                "#B0BEC5",
                "#B0BEC5",
                "#B0BEC5",
                "#B0BEC5",
                "#B0BEC5",
                "#B0BEC5"
               ]
              ]
             }
            ],
            "label": "Topic 0",
            "method": "update"
           },
           {
            "args": [
             {
              "marker.color": [
               [
                "#B0BEC5",
                "red",
                "#B0BEC5",
                "#B0BEC5",
                "#B0BEC5",
                "#B0BEC5",
                "#B0BEC5",
                "#B0BEC5",
                "#B0BEC5",
                "#B0BEC5",
                "#B0BEC5",
                "#B0BEC5",
                "#B0BEC5",
                "#B0BEC5",
                "#B0BEC5",
                "#B0BEC5",
                "#B0BEC5",
                "#B0BEC5",
                "#B0BEC5",
                "#B0BEC5",
                "#B0BEC5",
                "#B0BEC5",
                "#B0BEC5",
                "#B0BEC5",
                "#B0BEC5",
                "#B0BEC5",
                "#B0BEC5",
                "#B0BEC5",
                "#B0BEC5",
                "#B0BEC5",
                "#B0BEC5",
                "#B0BEC5",
                "#B0BEC5",
                "#B0BEC5",
                "#B0BEC5",
                "#B0BEC5",
                "#B0BEC5",
                "#B0BEC5",
                "#B0BEC5",
                "#B0BEC5",
                "#B0BEC5",
                "#B0BEC5",
                "#B0BEC5",
                "#B0BEC5",
                "#B0BEC5"
               ]
              ]
             }
            ],
            "label": "Topic 1",
            "method": "update"
           },
           {
            "args": [
             {
              "marker.color": [
               [
                "#B0BEC5",
                "#B0BEC5",
                "red",
                "#B0BEC5",
                "#B0BEC5",
                "#B0BEC5",
                "#B0BEC5",
                "#B0BEC5",
                "#B0BEC5",
                "#B0BEC5",
                "#B0BEC5",
                "#B0BEC5",
                "#B0BEC5",
                "#B0BEC5",
                "#B0BEC5",
                "#B0BEC5",
                "#B0BEC5",
                "#B0BEC5",
                "#B0BEC5",
                "#B0BEC5",
                "#B0BEC5",
                "#B0BEC5",
                "#B0BEC5",
                "#B0BEC5",
                "#B0BEC5",
                "#B0BEC5",
                "#B0BEC5",
                "#B0BEC5",
                "#B0BEC5",
                "#B0BEC5",
                "#B0BEC5",
                "#B0BEC5",
                "#B0BEC5",
                "#B0BEC5",
                "#B0BEC5",
                "#B0BEC5",
                "#B0BEC5",
                "#B0BEC5",
                "#B0BEC5",
                "#B0BEC5",
                "#B0BEC5",
                "#B0BEC5",
                "#B0BEC5",
                "#B0BEC5",
                "#B0BEC5"
               ]
              ]
             }
            ],
            "label": "Topic 2",
            "method": "update"
           },
           {
            "args": [
             {
              "marker.color": [
               [
                "#B0BEC5",
                "#B0BEC5",
                "#B0BEC5",
                "red",
                "#B0BEC5",
                "#B0BEC5",
                "#B0BEC5",
                "#B0BEC5",
                "#B0BEC5",
                "#B0BEC5",
                "#B0BEC5",
                "#B0BEC5",
                "#B0BEC5",
                "#B0BEC5",
                "#B0BEC5",
                "#B0BEC5",
                "#B0BEC5",
                "#B0BEC5",
                "#B0BEC5",
                "#B0BEC5",
                "#B0BEC5",
                "#B0BEC5",
                "#B0BEC5",
                "#B0BEC5",
                "#B0BEC5",
                "#B0BEC5",
                "#B0BEC5",
                "#B0BEC5",
                "#B0BEC5",
                "#B0BEC5",
                "#B0BEC5",
                "#B0BEC5",
                "#B0BEC5",
                "#B0BEC5",
                "#B0BEC5",
                "#B0BEC5",
                "#B0BEC5",
                "#B0BEC5",
                "#B0BEC5",
                "#B0BEC5",
                "#B0BEC5",
                "#B0BEC5",
                "#B0BEC5",
                "#B0BEC5",
                "#B0BEC5"
               ]
              ]
             }
            ],
            "label": "Topic 3",
            "method": "update"
           },
           {
            "args": [
             {
              "marker.color": [
               [
                "#B0BEC5",
                "#B0BEC5",
                "#B0BEC5",
                "#B0BEC5",
                "red",
                "#B0BEC5",
                "#B0BEC5",
                "#B0BEC5",
                "#B0BEC5",
                "#B0BEC5",
                "#B0BEC5",
                "#B0BEC5",
                "#B0BEC5",
                "#B0BEC5",
                "#B0BEC5",
                "#B0BEC5",
                "#B0BEC5",
                "#B0BEC5",
                "#B0BEC5",
                "#B0BEC5",
                "#B0BEC5",
                "#B0BEC5",
                "#B0BEC5",
                "#B0BEC5",
                "#B0BEC5",
                "#B0BEC5",
                "#B0BEC5",
                "#B0BEC5",
                "#B0BEC5",
                "#B0BEC5",
                "#B0BEC5",
                "#B0BEC5",
                "#B0BEC5",
                "#B0BEC5",
                "#B0BEC5",
                "#B0BEC5",
                "#B0BEC5",
                "#B0BEC5",
                "#B0BEC5",
                "#B0BEC5",
                "#B0BEC5",
                "#B0BEC5",
                "#B0BEC5",
                "#B0BEC5",
                "#B0BEC5"
               ]
              ]
             }
            ],
            "label": "Topic 4",
            "method": "update"
           },
           {
            "args": [
             {
              "marker.color": [
               [
                "#B0BEC5",
                "#B0BEC5",
                "#B0BEC5",
                "#B0BEC5",
                "#B0BEC5",
                "red",
                "#B0BEC5",
                "#B0BEC5",
                "#B0BEC5",
                "#B0BEC5",
                "#B0BEC5",
                "#B0BEC5",
                "#B0BEC5",
                "#B0BEC5",
                "#B0BEC5",
                "#B0BEC5",
                "#B0BEC5",
                "#B0BEC5",
                "#B0BEC5",
                "#B0BEC5",
                "#B0BEC5",
                "#B0BEC5",
                "#B0BEC5",
                "#B0BEC5",
                "#B0BEC5",
                "#B0BEC5",
                "#B0BEC5",
                "#B0BEC5",
                "#B0BEC5",
                "#B0BEC5",
                "#B0BEC5",
                "#B0BEC5",
                "#B0BEC5",
                "#B0BEC5",
                "#B0BEC5",
                "#B0BEC5",
                "#B0BEC5",
                "#B0BEC5",
                "#B0BEC5",
                "#B0BEC5",
                "#B0BEC5",
                "#B0BEC5",
                "#B0BEC5",
                "#B0BEC5",
                "#B0BEC5"
               ]
              ]
             }
            ],
            "label": "Topic 5",
            "method": "update"
           },
           {
            "args": [
             {
              "marker.color": [
               [
                "#B0BEC5",
                "#B0BEC5",
                "#B0BEC5",
                "#B0BEC5",
                "#B0BEC5",
                "#B0BEC5",
                "red",
                "#B0BEC5",
                "#B0BEC5",
                "#B0BEC5",
                "#B0BEC5",
                "#B0BEC5",
                "#B0BEC5",
                "#B0BEC5",
                "#B0BEC5",
                "#B0BEC5",
                "#B0BEC5",
                "#B0BEC5",
                "#B0BEC5",
                "#B0BEC5",
                "#B0BEC5",
                "#B0BEC5",
                "#B0BEC5",
                "#B0BEC5",
                "#B0BEC5",
                "#B0BEC5",
                "#B0BEC5",
                "#B0BEC5",
                "#B0BEC5",
                "#B0BEC5",
                "#B0BEC5",
                "#B0BEC5",
                "#B0BEC5",
                "#B0BEC5",
                "#B0BEC5",
                "#B0BEC5",
                "#B0BEC5",
                "#B0BEC5",
                "#B0BEC5",
                "#B0BEC5",
                "#B0BEC5",
                "#B0BEC5",
                "#B0BEC5",
                "#B0BEC5",
                "#B0BEC5"
               ]
              ]
             }
            ],
            "label": "Topic 6",
            "method": "update"
           },
           {
            "args": [
             {
              "marker.color": [
               [
                "#B0BEC5",
                "#B0BEC5",
                "#B0BEC5",
                "#B0BEC5",
                "#B0BEC5",
                "#B0BEC5",
                "#B0BEC5",
                "red",
                "#B0BEC5",
                "#B0BEC5",
                "#B0BEC5",
                "#B0BEC5",
                "#B0BEC5",
                "#B0BEC5",
                "#B0BEC5",
                "#B0BEC5",
                "#B0BEC5",
                "#B0BEC5",
                "#B0BEC5",
                "#B0BEC5",
                "#B0BEC5",
                "#B0BEC5",
                "#B0BEC5",
                "#B0BEC5",
                "#B0BEC5",
                "#B0BEC5",
                "#B0BEC5",
                "#B0BEC5",
                "#B0BEC5",
                "#B0BEC5",
                "#B0BEC5",
                "#B0BEC5",
                "#B0BEC5",
                "#B0BEC5",
                "#B0BEC5",
                "#B0BEC5",
                "#B0BEC5",
                "#B0BEC5",
                "#B0BEC5",
                "#B0BEC5",
                "#B0BEC5",
                "#B0BEC5",
                "#B0BEC5",
                "#B0BEC5",
                "#B0BEC5"
               ]
              ]
             }
            ],
            "label": "Topic 7",
            "method": "update"
           },
           {
            "args": [
             {
              "marker.color": [
               [
                "#B0BEC5",
                "#B0BEC5",
                "#B0BEC5",
                "#B0BEC5",
                "#B0BEC5",
                "#B0BEC5",
                "#B0BEC5",
                "#B0BEC5",
                "red",
                "#B0BEC5",
                "#B0BEC5",
                "#B0BEC5",
                "#B0BEC5",
                "#B0BEC5",
                "#B0BEC5",
                "#B0BEC5",
                "#B0BEC5",
                "#B0BEC5",
                "#B0BEC5",
                "#B0BEC5",
                "#B0BEC5",
                "#B0BEC5",
                "#B0BEC5",
                "#B0BEC5",
                "#B0BEC5",
                "#B0BEC5",
                "#B0BEC5",
                "#B0BEC5",
                "#B0BEC5",
                "#B0BEC5",
                "#B0BEC5",
                "#B0BEC5",
                "#B0BEC5",
                "#B0BEC5",
                "#B0BEC5",
                "#B0BEC5",
                "#B0BEC5",
                "#B0BEC5",
                "#B0BEC5",
                "#B0BEC5",
                "#B0BEC5",
                "#B0BEC5",
                "#B0BEC5",
                "#B0BEC5",
                "#B0BEC5"
               ]
              ]
             }
            ],
            "label": "Topic 8",
            "method": "update"
           },
           {
            "args": [
             {
              "marker.color": [
               [
                "#B0BEC5",
                "#B0BEC5",
                "#B0BEC5",
                "#B0BEC5",
                "#B0BEC5",
                "#B0BEC5",
                "#B0BEC5",
                "#B0BEC5",
                "#B0BEC5",
                "red",
                "#B0BEC5",
                "#B0BEC5",
                "#B0BEC5",
                "#B0BEC5",
                "#B0BEC5",
                "#B0BEC5",
                "#B0BEC5",
                "#B0BEC5",
                "#B0BEC5",
                "#B0BEC5",
                "#B0BEC5",
                "#B0BEC5",
                "#B0BEC5",
                "#B0BEC5",
                "#B0BEC5",
                "#B0BEC5",
                "#B0BEC5",
                "#B0BEC5",
                "#B0BEC5",
                "#B0BEC5",
                "#B0BEC5",
                "#B0BEC5",
                "#B0BEC5",
                "#B0BEC5",
                "#B0BEC5",
                "#B0BEC5",
                "#B0BEC5",
                "#B0BEC5",
                "#B0BEC5",
                "#B0BEC5",
                "#B0BEC5",
                "#B0BEC5",
                "#B0BEC5",
                "#B0BEC5",
                "#B0BEC5"
               ]
              ]
             }
            ],
            "label": "Topic 9",
            "method": "update"
           },
           {
            "args": [
             {
              "marker.color": [
               [
                "#B0BEC5",
                "#B0BEC5",
                "#B0BEC5",
                "#B0BEC5",
                "#B0BEC5",
                "#B0BEC5",
                "#B0BEC5",
                "#B0BEC5",
                "#B0BEC5",
                "#B0BEC5",
                "red",
                "#B0BEC5",
                "#B0BEC5",
                "#B0BEC5",
                "#B0BEC5",
                "#B0BEC5",
                "#B0BEC5",
                "#B0BEC5",
                "#B0BEC5",
                "#B0BEC5",
                "#B0BEC5",
                "#B0BEC5",
                "#B0BEC5",
                "#B0BEC5",
                "#B0BEC5",
                "#B0BEC5",
                "#B0BEC5",
                "#B0BEC5",
                "#B0BEC5",
                "#B0BEC5",
                "#B0BEC5",
                "#B0BEC5",
                "#B0BEC5",
                "#B0BEC5",
                "#B0BEC5",
                "#B0BEC5",
                "#B0BEC5",
                "#B0BEC5",
                "#B0BEC5",
                "#B0BEC5",
                "#B0BEC5",
                "#B0BEC5",
                "#B0BEC5",
                "#B0BEC5",
                "#B0BEC5"
               ]
              ]
             }
            ],
            "label": "Topic 10",
            "method": "update"
           },
           {
            "args": [
             {
              "marker.color": [
               [
                "#B0BEC5",
                "#B0BEC5",
                "#B0BEC5",
                "#B0BEC5",
                "#B0BEC5",
                "#B0BEC5",
                "#B0BEC5",
                "#B0BEC5",
                "#B0BEC5",
                "#B0BEC5",
                "#B0BEC5",
                "red",
                "#B0BEC5",
                "#B0BEC5",
                "#B0BEC5",
                "#B0BEC5",
                "#B0BEC5",
                "#B0BEC5",
                "#B0BEC5",
                "#B0BEC5",
                "#B0BEC5",
                "#B0BEC5",
                "#B0BEC5",
                "#B0BEC5",
                "#B0BEC5",
                "#B0BEC5",
                "#B0BEC5",
                "#B0BEC5",
                "#B0BEC5",
                "#B0BEC5",
                "#B0BEC5",
                "#B0BEC5",
                "#B0BEC5",
                "#B0BEC5",
                "#B0BEC5",
                "#B0BEC5",
                "#B0BEC5",
                "#B0BEC5",
                "#B0BEC5",
                "#B0BEC5",
                "#B0BEC5",
                "#B0BEC5",
                "#B0BEC5",
                "#B0BEC5",
                "#B0BEC5"
               ]
              ]
             }
            ],
            "label": "Topic 11",
            "method": "update"
           },
           {
            "args": [
             {
              "marker.color": [
               [
                "#B0BEC5",
                "#B0BEC5",
                "#B0BEC5",
                "#B0BEC5",
                "#B0BEC5",
                "#B0BEC5",
                "#B0BEC5",
                "#B0BEC5",
                "#B0BEC5",
                "#B0BEC5",
                "#B0BEC5",
                "#B0BEC5",
                "red",
                "#B0BEC5",
                "#B0BEC5",
                "#B0BEC5",
                "#B0BEC5",
                "#B0BEC5",
                "#B0BEC5",
                "#B0BEC5",
                "#B0BEC5",
                "#B0BEC5",
                "#B0BEC5",
                "#B0BEC5",
                "#B0BEC5",
                "#B0BEC5",
                "#B0BEC5",
                "#B0BEC5",
                "#B0BEC5",
                "#B0BEC5",
                "#B0BEC5",
                "#B0BEC5",
                "#B0BEC5",
                "#B0BEC5",
                "#B0BEC5",
                "#B0BEC5",
                "#B0BEC5",
                "#B0BEC5",
                "#B0BEC5",
                "#B0BEC5",
                "#B0BEC5",
                "#B0BEC5",
                "#B0BEC5",
                "#B0BEC5",
                "#B0BEC5"
               ]
              ]
             }
            ],
            "label": "Topic 12",
            "method": "update"
           },
           {
            "args": [
             {
              "marker.color": [
               [
                "#B0BEC5",
                "#B0BEC5",
                "#B0BEC5",
                "#B0BEC5",
                "#B0BEC5",
                "#B0BEC5",
                "#B0BEC5",
                "#B0BEC5",
                "#B0BEC5",
                "#B0BEC5",
                "#B0BEC5",
                "#B0BEC5",
                "#B0BEC5",
                "red",
                "#B0BEC5",
                "#B0BEC5",
                "#B0BEC5",
                "#B0BEC5",
                "#B0BEC5",
                "#B0BEC5",
                "#B0BEC5",
                "#B0BEC5",
                "#B0BEC5",
                "#B0BEC5",
                "#B0BEC5",
                "#B0BEC5",
                "#B0BEC5",
                "#B0BEC5",
                "#B0BEC5",
                "#B0BEC5",
                "#B0BEC5",
                "#B0BEC5",
                "#B0BEC5",
                "#B0BEC5",
                "#B0BEC5",
                "#B0BEC5",
                "#B0BEC5",
                "#B0BEC5",
                "#B0BEC5",
                "#B0BEC5",
                "#B0BEC5",
                "#B0BEC5",
                "#B0BEC5",
                "#B0BEC5",
                "#B0BEC5"
               ]
              ]
             }
            ],
            "label": "Topic 13",
            "method": "update"
           },
           {
            "args": [
             {
              "marker.color": [
               [
                "#B0BEC5",
                "#B0BEC5",
                "#B0BEC5",
                "#B0BEC5",
                "#B0BEC5",
                "#B0BEC5",
                "#B0BEC5",
                "#B0BEC5",
                "#B0BEC5",
                "#B0BEC5",
                "#B0BEC5",
                "#B0BEC5",
                "#B0BEC5",
                "#B0BEC5",
                "red",
                "#B0BEC5",
                "#B0BEC5",
                "#B0BEC5",
                "#B0BEC5",
                "#B0BEC5",
                "#B0BEC5",
                "#B0BEC5",
                "#B0BEC5",
                "#B0BEC5",
                "#B0BEC5",
                "#B0BEC5",
                "#B0BEC5",
                "#B0BEC5",
                "#B0BEC5",
                "#B0BEC5",
                "#B0BEC5",
                "#B0BEC5",
                "#B0BEC5",
                "#B0BEC5",
                "#B0BEC5",
                "#B0BEC5",
                "#B0BEC5",
                "#B0BEC5",
                "#B0BEC5",
                "#B0BEC5",
                "#B0BEC5",
                "#B0BEC5",
                "#B0BEC5",
                "#B0BEC5",
                "#B0BEC5"
               ]
              ]
             }
            ],
            "label": "Topic 14",
            "method": "update"
           },
           {
            "args": [
             {
              "marker.color": [
               [
                "#B0BEC5",
                "#B0BEC5",
                "#B0BEC5",
                "#B0BEC5",
                "#B0BEC5",
                "#B0BEC5",
                "#B0BEC5",
                "#B0BEC5",
                "#B0BEC5",
                "#B0BEC5",
                "#B0BEC5",
                "#B0BEC5",
                "#B0BEC5",
                "#B0BEC5",
                "#B0BEC5",
                "red",
                "#B0BEC5",
                "#B0BEC5",
                "#B0BEC5",
                "#B0BEC5",
                "#B0BEC5",
                "#B0BEC5",
                "#B0BEC5",
                "#B0BEC5",
                "#B0BEC5",
                "#B0BEC5",
                "#B0BEC5",
                "#B0BEC5",
                "#B0BEC5",
                "#B0BEC5",
                "#B0BEC5",
                "#B0BEC5",
                "#B0BEC5",
                "#B0BEC5",
                "#B0BEC5",
                "#B0BEC5",
                "#B0BEC5",
                "#B0BEC5",
                "#B0BEC5",
                "#B0BEC5",
                "#B0BEC5",
                "#B0BEC5",
                "#B0BEC5",
                "#B0BEC5",
                "#B0BEC5"
               ]
              ]
             }
            ],
            "label": "Topic 15",
            "method": "update"
           },
           {
            "args": [
             {
              "marker.color": [
               [
                "#B0BEC5",
                "#B0BEC5",
                "#B0BEC5",
                "#B0BEC5",
                "#B0BEC5",
                "#B0BEC5",
                "#B0BEC5",
                "#B0BEC5",
                "#B0BEC5",
                "#B0BEC5",
                "#B0BEC5",
                "#B0BEC5",
                "#B0BEC5",
                "#B0BEC5",
                "#B0BEC5",
                "#B0BEC5",
                "red",
                "#B0BEC5",
                "#B0BEC5",
                "#B0BEC5",
                "#B0BEC5",
                "#B0BEC5",
                "#B0BEC5",
                "#B0BEC5",
                "#B0BEC5",
                "#B0BEC5",
                "#B0BEC5",
                "#B0BEC5",
                "#B0BEC5",
                "#B0BEC5",
                "#B0BEC5",
                "#B0BEC5",
                "#B0BEC5",
                "#B0BEC5",
                "#B0BEC5",
                "#B0BEC5",
                "#B0BEC5",
                "#B0BEC5",
                "#B0BEC5",
                "#B0BEC5",
                "#B0BEC5",
                "#B0BEC5",
                "#B0BEC5",
                "#B0BEC5",
                "#B0BEC5"
               ]
              ]
             }
            ],
            "label": "Topic 16",
            "method": "update"
           },
           {
            "args": [
             {
              "marker.color": [
               [
                "#B0BEC5",
                "#B0BEC5",
                "#B0BEC5",
                "#B0BEC5",
                "#B0BEC5",
                "#B0BEC5",
                "#B0BEC5",
                "#B0BEC5",
                "#B0BEC5",
                "#B0BEC5",
                "#B0BEC5",
                "#B0BEC5",
                "#B0BEC5",
                "#B0BEC5",
                "#B0BEC5",
                "#B0BEC5",
                "#B0BEC5",
                "red",
                "#B0BEC5",
                "#B0BEC5",
                "#B0BEC5",
                "#B0BEC5",
                "#B0BEC5",
                "#B0BEC5",
                "#B0BEC5",
                "#B0BEC5",
                "#B0BEC5",
                "#B0BEC5",
                "#B0BEC5",
                "#B0BEC5",
                "#B0BEC5",
                "#B0BEC5",
                "#B0BEC5",
                "#B0BEC5",
                "#B0BEC5",
                "#B0BEC5",
                "#B0BEC5",
                "#B0BEC5",
                "#B0BEC5",
                "#B0BEC5",
                "#B0BEC5",
                "#B0BEC5",
                "#B0BEC5",
                "#B0BEC5",
                "#B0BEC5"
               ]
              ]
             }
            ],
            "label": "Topic 17",
            "method": "update"
           },
           {
            "args": [
             {
              "marker.color": [
               [
                "#B0BEC5",
                "#B0BEC5",
                "#B0BEC5",
                "#B0BEC5",
                "#B0BEC5",
                "#B0BEC5",
                "#B0BEC5",
                "#B0BEC5",
                "#B0BEC5",
                "#B0BEC5",
                "#B0BEC5",
                "#B0BEC5",
                "#B0BEC5",
                "#B0BEC5",
                "#B0BEC5",
                "#B0BEC5",
                "#B0BEC5",
                "#B0BEC5",
                "red",
                "#B0BEC5",
                "#B0BEC5",
                "#B0BEC5",
                "#B0BEC5",
                "#B0BEC5",
                "#B0BEC5",
                "#B0BEC5",
                "#B0BEC5",
                "#B0BEC5",
                "#B0BEC5",
                "#B0BEC5",
                "#B0BEC5",
                "#B0BEC5",
                "#B0BEC5",
                "#B0BEC5",
                "#B0BEC5",
                "#B0BEC5",
                "#B0BEC5",
                "#B0BEC5",
                "#B0BEC5",
                "#B0BEC5",
                "#B0BEC5",
                "#B0BEC5",
                "#B0BEC5",
                "#B0BEC5",
                "#B0BEC5"
               ]
              ]
             }
            ],
            "label": "Topic 18",
            "method": "update"
           },
           {
            "args": [
             {
              "marker.color": [
               [
                "#B0BEC5",
                "#B0BEC5",
                "#B0BEC5",
                "#B0BEC5",
                "#B0BEC5",
                "#B0BEC5",
                "#B0BEC5",
                "#B0BEC5",
                "#B0BEC5",
                "#B0BEC5",
                "#B0BEC5",
                "#B0BEC5",
                "#B0BEC5",
                "#B0BEC5",
                "#B0BEC5",
                "#B0BEC5",
                "#B0BEC5",
                "#B0BEC5",
                "#B0BEC5",
                "red",
                "#B0BEC5",
                "#B0BEC5",
                "#B0BEC5",
                "#B0BEC5",
                "#B0BEC5",
                "#B0BEC5",
                "#B0BEC5",
                "#B0BEC5",
                "#B0BEC5",
                "#B0BEC5",
                "#B0BEC5",
                "#B0BEC5",
                "#B0BEC5",
                "#B0BEC5",
                "#B0BEC5",
                "#B0BEC5",
                "#B0BEC5",
                "#B0BEC5",
                "#B0BEC5",
                "#B0BEC5",
                "#B0BEC5",
                "#B0BEC5",
                "#B0BEC5",
                "#B0BEC5",
                "#B0BEC5"
               ]
              ]
             }
            ],
            "label": "Topic 19",
            "method": "update"
           },
           {
            "args": [
             {
              "marker.color": [
               [
                "#B0BEC5",
                "#B0BEC5",
                "#B0BEC5",
                "#B0BEC5",
                "#B0BEC5",
                "#B0BEC5",
                "#B0BEC5",
                "#B0BEC5",
                "#B0BEC5",
                "#B0BEC5",
                "#B0BEC5",
                "#B0BEC5",
                "#B0BEC5",
                "#B0BEC5",
                "#B0BEC5",
                "#B0BEC5",
                "#B0BEC5",
                "#B0BEC5",
                "#B0BEC5",
                "#B0BEC5",
                "red",
                "#B0BEC5",
                "#B0BEC5",
                "#B0BEC5",
                "#B0BEC5",
                "#B0BEC5",
                "#B0BEC5",
                "#B0BEC5",
                "#B0BEC5",
                "#B0BEC5",
                "#B0BEC5",
                "#B0BEC5",
                "#B0BEC5",
                "#B0BEC5",
                "#B0BEC5",
                "#B0BEC5",
                "#B0BEC5",
                "#B0BEC5",
                "#B0BEC5",
                "#B0BEC5",
                "#B0BEC5",
                "#B0BEC5",
                "#B0BEC5",
                "#B0BEC5",
                "#B0BEC5"
               ]
              ]
             }
            ],
            "label": "Topic 20",
            "method": "update"
           },
           {
            "args": [
             {
              "marker.color": [
               [
                "#B0BEC5",
                "#B0BEC5",
                "#B0BEC5",
                "#B0BEC5",
                "#B0BEC5",
                "#B0BEC5",
                "#B0BEC5",
                "#B0BEC5",
                "#B0BEC5",
                "#B0BEC5",
                "#B0BEC5",
                "#B0BEC5",
                "#B0BEC5",
                "#B0BEC5",
                "#B0BEC5",
                "#B0BEC5",
                "#B0BEC5",
                "#B0BEC5",
                "#B0BEC5",
                "#B0BEC5",
                "#B0BEC5",
                "red",
                "#B0BEC5",
                "#B0BEC5",
                "#B0BEC5",
                "#B0BEC5",
                "#B0BEC5",
                "#B0BEC5",
                "#B0BEC5",
                "#B0BEC5",
                "#B0BEC5",
                "#B0BEC5",
                "#B0BEC5",
                "#B0BEC5",
                "#B0BEC5",
                "#B0BEC5",
                "#B0BEC5",
                "#B0BEC5",
                "#B0BEC5",
                "#B0BEC5",
                "#B0BEC5",
                "#B0BEC5",
                "#B0BEC5",
                "#B0BEC5",
                "#B0BEC5"
               ]
              ]
             }
            ],
            "label": "Topic 21",
            "method": "update"
           },
           {
            "args": [
             {
              "marker.color": [
               [
                "#B0BEC5",
                "#B0BEC5",
                "#B0BEC5",
                "#B0BEC5",
                "#B0BEC5",
                "#B0BEC5",
                "#B0BEC5",
                "#B0BEC5",
                "#B0BEC5",
                "#B0BEC5",
                "#B0BEC5",
                "#B0BEC5",
                "#B0BEC5",
                "#B0BEC5",
                "#B0BEC5",
                "#B0BEC5",
                "#B0BEC5",
                "#B0BEC5",
                "#B0BEC5",
                "#B0BEC5",
                "#B0BEC5",
                "#B0BEC5",
                "red",
                "#B0BEC5",
                "#B0BEC5",
                "#B0BEC5",
                "#B0BEC5",
                "#B0BEC5",
                "#B0BEC5",
                "#B0BEC5",
                "#B0BEC5",
                "#B0BEC5",
                "#B0BEC5",
                "#B0BEC5",
                "#B0BEC5",
                "#B0BEC5",
                "#B0BEC5",
                "#B0BEC5",
                "#B0BEC5",
                "#B0BEC5",
                "#B0BEC5",
                "#B0BEC5",
                "#B0BEC5",
                "#B0BEC5",
                "#B0BEC5"
               ]
              ]
             }
            ],
            "label": "Topic 22",
            "method": "update"
           },
           {
            "args": [
             {
              "marker.color": [
               [
                "#B0BEC5",
                "#B0BEC5",
                "#B0BEC5",
                "#B0BEC5",
                "#B0BEC5",
                "#B0BEC5",
                "#B0BEC5",
                "#B0BEC5",
                "#B0BEC5",
                "#B0BEC5",
                "#B0BEC5",
                "#B0BEC5",
                "#B0BEC5",
                "#B0BEC5",
                "#B0BEC5",
                "#B0BEC5",
                "#B0BEC5",
                "#B0BEC5",
                "#B0BEC5",
                "#B0BEC5",
                "#B0BEC5",
                "#B0BEC5",
                "#B0BEC5",
                "red",
                "#B0BEC5",
                "#B0BEC5",
                "#B0BEC5",
                "#B0BEC5",
                "#B0BEC5",
                "#B0BEC5",
                "#B0BEC5",
                "#B0BEC5",
                "#B0BEC5",
                "#B0BEC5",
                "#B0BEC5",
                "#B0BEC5",
                "#B0BEC5",
                "#B0BEC5",
                "#B0BEC5",
                "#B0BEC5",
                "#B0BEC5",
                "#B0BEC5",
                "#B0BEC5",
                "#B0BEC5",
                "#B0BEC5"
               ]
              ]
             }
            ],
            "label": "Topic 23",
            "method": "update"
           },
           {
            "args": [
             {
              "marker.color": [
               [
                "#B0BEC5",
                "#B0BEC5",
                "#B0BEC5",
                "#B0BEC5",
                "#B0BEC5",
                "#B0BEC5",
                "#B0BEC5",
                "#B0BEC5",
                "#B0BEC5",
                "#B0BEC5",
                "#B0BEC5",
                "#B0BEC5",
                "#B0BEC5",
                "#B0BEC5",
                "#B0BEC5",
                "#B0BEC5",
                "#B0BEC5",
                "#B0BEC5",
                "#B0BEC5",
                "#B0BEC5",
                "#B0BEC5",
                "#B0BEC5",
                "#B0BEC5",
                "#B0BEC5",
                "red",
                "#B0BEC5",
                "#B0BEC5",
                "#B0BEC5",
                "#B0BEC5",
                "#B0BEC5",
                "#B0BEC5",
                "#B0BEC5",
                "#B0BEC5",
                "#B0BEC5",
                "#B0BEC5",
                "#B0BEC5",
                "#B0BEC5",
                "#B0BEC5",
                "#B0BEC5",
                "#B0BEC5",
                "#B0BEC5",
                "#B0BEC5",
                "#B0BEC5",
                "#B0BEC5",
                "#B0BEC5"
               ]
              ]
             }
            ],
            "label": "Topic 24",
            "method": "update"
           },
           {
            "args": [
             {
              "marker.color": [
               [
                "#B0BEC5",
                "#B0BEC5",
                "#B0BEC5",
                "#B0BEC5",
                "#B0BEC5",
                "#B0BEC5",
                "#B0BEC5",
                "#B0BEC5",
                "#B0BEC5",
                "#B0BEC5",
                "#B0BEC5",
                "#B0BEC5",
                "#B0BEC5",
                "#B0BEC5",
                "#B0BEC5",
                "#B0BEC5",
                "#B0BEC5",
                "#B0BEC5",
                "#B0BEC5",
                "#B0BEC5",
                "#B0BEC5",
                "#B0BEC5",
                "#B0BEC5",
                "#B0BEC5",
                "#B0BEC5",
                "red",
                "#B0BEC5",
                "#B0BEC5",
                "#B0BEC5",
                "#B0BEC5",
                "#B0BEC5",
                "#B0BEC5",
                "#B0BEC5",
                "#B0BEC5",
                "#B0BEC5",
                "#B0BEC5",
                "#B0BEC5",
                "#B0BEC5",
                "#B0BEC5",
                "#B0BEC5",
                "#B0BEC5",
                "#B0BEC5",
                "#B0BEC5",
                "#B0BEC5",
                "#B0BEC5"
               ]
              ]
             }
            ],
            "label": "Topic 25",
            "method": "update"
           },
           {
            "args": [
             {
              "marker.color": [
               [
                "#B0BEC5",
                "#B0BEC5",
                "#B0BEC5",
                "#B0BEC5",
                "#B0BEC5",
                "#B0BEC5",
                "#B0BEC5",
                "#B0BEC5",
                "#B0BEC5",
                "#B0BEC5",
                "#B0BEC5",
                "#B0BEC5",
                "#B0BEC5",
                "#B0BEC5",
                "#B0BEC5",
                "#B0BEC5",
                "#B0BEC5",
                "#B0BEC5",
                "#B0BEC5",
                "#B0BEC5",
                "#B0BEC5",
                "#B0BEC5",
                "#B0BEC5",
                "#B0BEC5",
                "#B0BEC5",
                "#B0BEC5",
                "red",
                "#B0BEC5",
                "#B0BEC5",
                "#B0BEC5",
                "#B0BEC5",
                "#B0BEC5",
                "#B0BEC5",
                "#B0BEC5",
                "#B0BEC5",
                "#B0BEC5",
                "#B0BEC5",
                "#B0BEC5",
                "#B0BEC5",
                "#B0BEC5",
                "#B0BEC5",
                "#B0BEC5",
                "#B0BEC5",
                "#B0BEC5",
                "#B0BEC5"
               ]
              ]
             }
            ],
            "label": "Topic 26",
            "method": "update"
           },
           {
            "args": [
             {
              "marker.color": [
               [
                "#B0BEC5",
                "#B0BEC5",
                "#B0BEC5",
                "#B0BEC5",
                "#B0BEC5",
                "#B0BEC5",
                "#B0BEC5",
                "#B0BEC5",
                "#B0BEC5",
                "#B0BEC5",
                "#B0BEC5",
                "#B0BEC5",
                "#B0BEC5",
                "#B0BEC5",
                "#B0BEC5",
                "#B0BEC5",
                "#B0BEC5",
                "#B0BEC5",
                "#B0BEC5",
                "#B0BEC5",
                "#B0BEC5",
                "#B0BEC5",
                "#B0BEC5",
                "#B0BEC5",
                "#B0BEC5",
                "#B0BEC5",
                "#B0BEC5",
                "red",
                "#B0BEC5",
                "#B0BEC5",
                "#B0BEC5",
                "#B0BEC5",
                "#B0BEC5",
                "#B0BEC5",
                "#B0BEC5",
                "#B0BEC5",
                "#B0BEC5",
                "#B0BEC5",
                "#B0BEC5",
                "#B0BEC5",
                "#B0BEC5",
                "#B0BEC5",
                "#B0BEC5",
                "#B0BEC5",
                "#B0BEC5"
               ]
              ]
             }
            ],
            "label": "Topic 27",
            "method": "update"
           },
           {
            "args": [
             {
              "marker.color": [
               [
                "#B0BEC5",
                "#B0BEC5",
                "#B0BEC5",
                "#B0BEC5",
                "#B0BEC5",
                "#B0BEC5",
                "#B0BEC5",
                "#B0BEC5",
                "#B0BEC5",
                "#B0BEC5",
                "#B0BEC5",
                "#B0BEC5",
                "#B0BEC5",
                "#B0BEC5",
                "#B0BEC5",
                "#B0BEC5",
                "#B0BEC5",
                "#B0BEC5",
                "#B0BEC5",
                "#B0BEC5",
                "#B0BEC5",
                "#B0BEC5",
                "#B0BEC5",
                "#B0BEC5",
                "#B0BEC5",
                "#B0BEC5",
                "#B0BEC5",
                "#B0BEC5",
                "red",
                "#B0BEC5",
                "#B0BEC5",
                "#B0BEC5",
                "#B0BEC5",
                "#B0BEC5",
                "#B0BEC5",
                "#B0BEC5",
                "#B0BEC5",
                "#B0BEC5",
                "#B0BEC5",
                "#B0BEC5",
                "#B0BEC5",
                "#B0BEC5",
                "#B0BEC5",
                "#B0BEC5",
                "#B0BEC5"
               ]
              ]
             }
            ],
            "label": "Topic 28",
            "method": "update"
           },
           {
            "args": [
             {
              "marker.color": [
               [
                "#B0BEC5",
                "#B0BEC5",
                "#B0BEC5",
                "#B0BEC5",
                "#B0BEC5",
                "#B0BEC5",
                "#B0BEC5",
                "#B0BEC5",
                "#B0BEC5",
                "#B0BEC5",
                "#B0BEC5",
                "#B0BEC5",
                "#B0BEC5",
                "#B0BEC5",
                "#B0BEC5",
                "#B0BEC5",
                "#B0BEC5",
                "#B0BEC5",
                "#B0BEC5",
                "#B0BEC5",
                "#B0BEC5",
                "#B0BEC5",
                "#B0BEC5",
                "#B0BEC5",
                "#B0BEC5",
                "#B0BEC5",
                "#B0BEC5",
                "#B0BEC5",
                "#B0BEC5",
                "red",
                "#B0BEC5",
                "#B0BEC5",
                "#B0BEC5",
                "#B0BEC5",
                "#B0BEC5",
                "#B0BEC5",
                "#B0BEC5",
                "#B0BEC5",
                "#B0BEC5",
                "#B0BEC5",
                "#B0BEC5",
                "#B0BEC5",
                "#B0BEC5",
                "#B0BEC5",
                "#B0BEC5"
               ]
              ]
             }
            ],
            "label": "Topic 29",
            "method": "update"
           },
           {
            "args": [
             {
              "marker.color": [
               [
                "#B0BEC5",
                "#B0BEC5",
                "#B0BEC5",
                "#B0BEC5",
                "#B0BEC5",
                "#B0BEC5",
                "#B0BEC5",
                "#B0BEC5",
                "#B0BEC5",
                "#B0BEC5",
                "#B0BEC5",
                "#B0BEC5",
                "#B0BEC5",
                "#B0BEC5",
                "#B0BEC5",
                "#B0BEC5",
                "#B0BEC5",
                "#B0BEC5",
                "#B0BEC5",
                "#B0BEC5",
                "#B0BEC5",
                "#B0BEC5",
                "#B0BEC5",
                "#B0BEC5",
                "#B0BEC5",
                "#B0BEC5",
                "#B0BEC5",
                "#B0BEC5",
                "#B0BEC5",
                "#B0BEC5",
                "red",
                "#B0BEC5",
                "#B0BEC5",
                "#B0BEC5",
                "#B0BEC5",
                "#B0BEC5",
                "#B0BEC5",
                "#B0BEC5",
                "#B0BEC5",
                "#B0BEC5",
                "#B0BEC5",
                "#B0BEC5",
                "#B0BEC5",
                "#B0BEC5",
                "#B0BEC5"
               ]
              ]
             }
            ],
            "label": "Topic 30",
            "method": "update"
           },
           {
            "args": [
             {
              "marker.color": [
               [
                "#B0BEC5",
                "#B0BEC5",
                "#B0BEC5",
                "#B0BEC5",
                "#B0BEC5",
                "#B0BEC5",
                "#B0BEC5",
                "#B0BEC5",
                "#B0BEC5",
                "#B0BEC5",
                "#B0BEC5",
                "#B0BEC5",
                "#B0BEC5",
                "#B0BEC5",
                "#B0BEC5",
                "#B0BEC5",
                "#B0BEC5",
                "#B0BEC5",
                "#B0BEC5",
                "#B0BEC5",
                "#B0BEC5",
                "#B0BEC5",
                "#B0BEC5",
                "#B0BEC5",
                "#B0BEC5",
                "#B0BEC5",
                "#B0BEC5",
                "#B0BEC5",
                "#B0BEC5",
                "#B0BEC5",
                "#B0BEC5",
                "red",
                "#B0BEC5",
                "#B0BEC5",
                "#B0BEC5",
                "#B0BEC5",
                "#B0BEC5",
                "#B0BEC5",
                "#B0BEC5",
                "#B0BEC5",
                "#B0BEC5",
                "#B0BEC5",
                "#B0BEC5",
                "#B0BEC5",
                "#B0BEC5"
               ]
              ]
             }
            ],
            "label": "Topic 31",
            "method": "update"
           },
           {
            "args": [
             {
              "marker.color": [
               [
                "#B0BEC5",
                "#B0BEC5",
                "#B0BEC5",
                "#B0BEC5",
                "#B0BEC5",
                "#B0BEC5",
                "#B0BEC5",
                "#B0BEC5",
                "#B0BEC5",
                "#B0BEC5",
                "#B0BEC5",
                "#B0BEC5",
                "#B0BEC5",
                "#B0BEC5",
                "#B0BEC5",
                "#B0BEC5",
                "#B0BEC5",
                "#B0BEC5",
                "#B0BEC5",
                "#B0BEC5",
                "#B0BEC5",
                "#B0BEC5",
                "#B0BEC5",
                "#B0BEC5",
                "#B0BEC5",
                "#B0BEC5",
                "#B0BEC5",
                "#B0BEC5",
                "#B0BEC5",
                "#B0BEC5",
                "#B0BEC5",
                "#B0BEC5",
                "red",
                "#B0BEC5",
                "#B0BEC5",
                "#B0BEC5",
                "#B0BEC5",
                "#B0BEC5",
                "#B0BEC5",
                "#B0BEC5",
                "#B0BEC5",
                "#B0BEC5",
                "#B0BEC5",
                "#B0BEC5",
                "#B0BEC5"
               ]
              ]
             }
            ],
            "label": "Topic 32",
            "method": "update"
           },
           {
            "args": [
             {
              "marker.color": [
               [
                "#B0BEC5",
                "#B0BEC5",
                "#B0BEC5",
                "#B0BEC5",
                "#B0BEC5",
                "#B0BEC5",
                "#B0BEC5",
                "#B0BEC5",
                "#B0BEC5",
                "#B0BEC5",
                "#B0BEC5",
                "#B0BEC5",
                "#B0BEC5",
                "#B0BEC5",
                "#B0BEC5",
                "#B0BEC5",
                "#B0BEC5",
                "#B0BEC5",
                "#B0BEC5",
                "#B0BEC5",
                "#B0BEC5",
                "#B0BEC5",
                "#B0BEC5",
                "#B0BEC5",
                "#B0BEC5",
                "#B0BEC5",
                "#B0BEC5",
                "#B0BEC5",
                "#B0BEC5",
                "#B0BEC5",
                "#B0BEC5",
                "#B0BEC5",
                "#B0BEC5",
                "red",
                "#B0BEC5",
                "#B0BEC5",
                "#B0BEC5",
                "#B0BEC5",
                "#B0BEC5",
                "#B0BEC5",
                "#B0BEC5",
                "#B0BEC5",
                "#B0BEC5",
                "#B0BEC5",
                "#B0BEC5"
               ]
              ]
             }
            ],
            "label": "Topic 33",
            "method": "update"
           },
           {
            "args": [
             {
              "marker.color": [
               [
                "#B0BEC5",
                "#B0BEC5",
                "#B0BEC5",
                "#B0BEC5",
                "#B0BEC5",
                "#B0BEC5",
                "#B0BEC5",
                "#B0BEC5",
                "#B0BEC5",
                "#B0BEC5",
                "#B0BEC5",
                "#B0BEC5",
                "#B0BEC5",
                "#B0BEC5",
                "#B0BEC5",
                "#B0BEC5",
                "#B0BEC5",
                "#B0BEC5",
                "#B0BEC5",
                "#B0BEC5",
                "#B0BEC5",
                "#B0BEC5",
                "#B0BEC5",
                "#B0BEC5",
                "#B0BEC5",
                "#B0BEC5",
                "#B0BEC5",
                "#B0BEC5",
                "#B0BEC5",
                "#B0BEC5",
                "#B0BEC5",
                "#B0BEC5",
                "#B0BEC5",
                "#B0BEC5",
                "red",
                "#B0BEC5",
                "#B0BEC5",
                "#B0BEC5",
                "#B0BEC5",
                "#B0BEC5",
                "#B0BEC5",
                "#B0BEC5",
                "#B0BEC5",
                "#B0BEC5",
                "#B0BEC5"
               ]
              ]
             }
            ],
            "label": "Topic 34",
            "method": "update"
           },
           {
            "args": [
             {
              "marker.color": [
               [
                "#B0BEC5",
                "#B0BEC5",
                "#B0BEC5",
                "#B0BEC5",
                "#B0BEC5",
                "#B0BEC5",
                "#B0BEC5",
                "#B0BEC5",
                "#B0BEC5",
                "#B0BEC5",
                "#B0BEC5",
                "#B0BEC5",
                "#B0BEC5",
                "#B0BEC5",
                "#B0BEC5",
                "#B0BEC5",
                "#B0BEC5",
                "#B0BEC5",
                "#B0BEC5",
                "#B0BEC5",
                "#B0BEC5",
                "#B0BEC5",
                "#B0BEC5",
                "#B0BEC5",
                "#B0BEC5",
                "#B0BEC5",
                "#B0BEC5",
                "#B0BEC5",
                "#B0BEC5",
                "#B0BEC5",
                "#B0BEC5",
                "#B0BEC5",
                "#B0BEC5",
                "#B0BEC5",
                "#B0BEC5",
                "red",
                "#B0BEC5",
                "#B0BEC5",
                "#B0BEC5",
                "#B0BEC5",
                "#B0BEC5",
                "#B0BEC5",
                "#B0BEC5",
                "#B0BEC5",
                "#B0BEC5"
               ]
              ]
             }
            ],
            "label": "Topic 35",
            "method": "update"
           },
           {
            "args": [
             {
              "marker.color": [
               [
                "#B0BEC5",
                "#B0BEC5",
                "#B0BEC5",
                "#B0BEC5",
                "#B0BEC5",
                "#B0BEC5",
                "#B0BEC5",
                "#B0BEC5",
                "#B0BEC5",
                "#B0BEC5",
                "#B0BEC5",
                "#B0BEC5",
                "#B0BEC5",
                "#B0BEC5",
                "#B0BEC5",
                "#B0BEC5",
                "#B0BEC5",
                "#B0BEC5",
                "#B0BEC5",
                "#B0BEC5",
                "#B0BEC5",
                "#B0BEC5",
                "#B0BEC5",
                "#B0BEC5",
                "#B0BEC5",
                "#B0BEC5",
                "#B0BEC5",
                "#B0BEC5",
                "#B0BEC5",
                "#B0BEC5",
                "#B0BEC5",
                "#B0BEC5",
                "#B0BEC5",
                "#B0BEC5",
                "#B0BEC5",
                "#B0BEC5",
                "red",
                "#B0BEC5",
                "#B0BEC5",
                "#B0BEC5",
                "#B0BEC5",
                "#B0BEC5",
                "#B0BEC5",
                "#B0BEC5",
                "#B0BEC5"
               ]
              ]
             }
            ],
            "label": "Topic 36",
            "method": "update"
           },
           {
            "args": [
             {
              "marker.color": [
               [
                "#B0BEC5",
                "#B0BEC5",
                "#B0BEC5",
                "#B0BEC5",
                "#B0BEC5",
                "#B0BEC5",
                "#B0BEC5",
                "#B0BEC5",
                "#B0BEC5",
                "#B0BEC5",
                "#B0BEC5",
                "#B0BEC5",
                "#B0BEC5",
                "#B0BEC5",
                "#B0BEC5",
                "#B0BEC5",
                "#B0BEC5",
                "#B0BEC5",
                "#B0BEC5",
                "#B0BEC5",
                "#B0BEC5",
                "#B0BEC5",
                "#B0BEC5",
                "#B0BEC5",
                "#B0BEC5",
                "#B0BEC5",
                "#B0BEC5",
                "#B0BEC5",
                "#B0BEC5",
                "#B0BEC5",
                "#B0BEC5",
                "#B0BEC5",
                "#B0BEC5",
                "#B0BEC5",
                "#B0BEC5",
                "#B0BEC5",
                "#B0BEC5",
                "red",
                "#B0BEC5",
                "#B0BEC5",
                "#B0BEC5",
                "#B0BEC5",
                "#B0BEC5",
                "#B0BEC5",
                "#B0BEC5"
               ]
              ]
             }
            ],
            "label": "Topic 37",
            "method": "update"
           },
           {
            "args": [
             {
              "marker.color": [
               [
                "#B0BEC5",
                "#B0BEC5",
                "#B0BEC5",
                "#B0BEC5",
                "#B0BEC5",
                "#B0BEC5",
                "#B0BEC5",
                "#B0BEC5",
                "#B0BEC5",
                "#B0BEC5",
                "#B0BEC5",
                "#B0BEC5",
                "#B0BEC5",
                "#B0BEC5",
                "#B0BEC5",
                "#B0BEC5",
                "#B0BEC5",
                "#B0BEC5",
                "#B0BEC5",
                "#B0BEC5",
                "#B0BEC5",
                "#B0BEC5",
                "#B0BEC5",
                "#B0BEC5",
                "#B0BEC5",
                "#B0BEC5",
                "#B0BEC5",
                "#B0BEC5",
                "#B0BEC5",
                "#B0BEC5",
                "#B0BEC5",
                "#B0BEC5",
                "#B0BEC5",
                "#B0BEC5",
                "#B0BEC5",
                "#B0BEC5",
                "#B0BEC5",
                "#B0BEC5",
                "red",
                "#B0BEC5",
                "#B0BEC5",
                "#B0BEC5",
                "#B0BEC5",
                "#B0BEC5",
                "#B0BEC5"
               ]
              ]
             }
            ],
            "label": "Topic 38",
            "method": "update"
           },
           {
            "args": [
             {
              "marker.color": [
               [
                "#B0BEC5",
                "#B0BEC5",
                "#B0BEC5",
                "#B0BEC5",
                "#B0BEC5",
                "#B0BEC5",
                "#B0BEC5",
                "#B0BEC5",
                "#B0BEC5",
                "#B0BEC5",
                "#B0BEC5",
                "#B0BEC5",
                "#B0BEC5",
                "#B0BEC5",
                "#B0BEC5",
                "#B0BEC5",
                "#B0BEC5",
                "#B0BEC5",
                "#B0BEC5",
                "#B0BEC5",
                "#B0BEC5",
                "#B0BEC5",
                "#B0BEC5",
                "#B0BEC5",
                "#B0BEC5",
                "#B0BEC5",
                "#B0BEC5",
                "#B0BEC5",
                "#B0BEC5",
                "#B0BEC5",
                "#B0BEC5",
                "#B0BEC5",
                "#B0BEC5",
                "#B0BEC5",
                "#B0BEC5",
                "#B0BEC5",
                "#B0BEC5",
                "#B0BEC5",
                "#B0BEC5",
                "red",
                "#B0BEC5",
                "#B0BEC5",
                "#B0BEC5",
                "#B0BEC5",
                "#B0BEC5"
               ]
              ]
             }
            ],
            "label": "Topic 39",
            "method": "update"
           },
           {
            "args": [
             {
              "marker.color": [
               [
                "#B0BEC5",
                "#B0BEC5",
                "#B0BEC5",
                "#B0BEC5",
                "#B0BEC5",
                "#B0BEC5",
                "#B0BEC5",
                "#B0BEC5",
                "#B0BEC5",
                "#B0BEC5",
                "#B0BEC5",
                "#B0BEC5",
                "#B0BEC5",
                "#B0BEC5",
                "#B0BEC5",
                "#B0BEC5",
                "#B0BEC5",
                "#B0BEC5",
                "#B0BEC5",
                "#B0BEC5",
                "#B0BEC5",
                "#B0BEC5",
                "#B0BEC5",
                "#B0BEC5",
                "#B0BEC5",
                "#B0BEC5",
                "#B0BEC5",
                "#B0BEC5",
                "#B0BEC5",
                "#B0BEC5",
                "#B0BEC5",
                "#B0BEC5",
                "#B0BEC5",
                "#B0BEC5",
                "#B0BEC5",
                "#B0BEC5",
                "#B0BEC5",
                "#B0BEC5",
                "#B0BEC5",
                "#B0BEC5",
                "red",
                "#B0BEC5",
                "#B0BEC5",
                "#B0BEC5",
                "#B0BEC5"
               ]
              ]
             }
            ],
            "label": "Topic 40",
            "method": "update"
           },
           {
            "args": [
             {
              "marker.color": [
               [
                "#B0BEC5",
                "#B0BEC5",
                "#B0BEC5",
                "#B0BEC5",
                "#B0BEC5",
                "#B0BEC5",
                "#B0BEC5",
                "#B0BEC5",
                "#B0BEC5",
                "#B0BEC5",
                "#B0BEC5",
                "#B0BEC5",
                "#B0BEC5",
                "#B0BEC5",
                "#B0BEC5",
                "#B0BEC5",
                "#B0BEC5",
                "#B0BEC5",
                "#B0BEC5",
                "#B0BEC5",
                "#B0BEC5",
                "#B0BEC5",
                "#B0BEC5",
                "#B0BEC5",
                "#B0BEC5",
                "#B0BEC5",
                "#B0BEC5",
                "#B0BEC5",
                "#B0BEC5",
                "#B0BEC5",
                "#B0BEC5",
                "#B0BEC5",
                "#B0BEC5",
                "#B0BEC5",
                "#B0BEC5",
                "#B0BEC5",
                "#B0BEC5",
                "#B0BEC5",
                "#B0BEC5",
                "#B0BEC5",
                "#B0BEC5",
                "red",
                "#B0BEC5",
                "#B0BEC5",
                "#B0BEC5"
               ]
              ]
             }
            ],
            "label": "Topic 41",
            "method": "update"
           },
           {
            "args": [
             {
              "marker.color": [
               [
                "#B0BEC5",
                "#B0BEC5",
                "#B0BEC5",
                "#B0BEC5",
                "#B0BEC5",
                "#B0BEC5",
                "#B0BEC5",
                "#B0BEC5",
                "#B0BEC5",
                "#B0BEC5",
                "#B0BEC5",
                "#B0BEC5",
                "#B0BEC5",
                "#B0BEC5",
                "#B0BEC5",
                "#B0BEC5",
                "#B0BEC5",
                "#B0BEC5",
                "#B0BEC5",
                "#B0BEC5",
                "#B0BEC5",
                "#B0BEC5",
                "#B0BEC5",
                "#B0BEC5",
                "#B0BEC5",
                "#B0BEC5",
                "#B0BEC5",
                "#B0BEC5",
                "#B0BEC5",
                "#B0BEC5",
                "#B0BEC5",
                "#B0BEC5",
                "#B0BEC5",
                "#B0BEC5",
                "#B0BEC5",
                "#B0BEC5",
                "#B0BEC5",
                "#B0BEC5",
                "#B0BEC5",
                "#B0BEC5",
                "#B0BEC5",
                "#B0BEC5",
                "red",
                "#B0BEC5",
                "#B0BEC5"
               ]
              ]
             }
            ],
            "label": "Topic 42",
            "method": "update"
           },
           {
            "args": [
             {
              "marker.color": [
               [
                "#B0BEC5",
                "#B0BEC5",
                "#B0BEC5",
                "#B0BEC5",
                "#B0BEC5",
                "#B0BEC5",
                "#B0BEC5",
                "#B0BEC5",
                "#B0BEC5",
                "#B0BEC5",
                "#B0BEC5",
                "#B0BEC5",
                "#B0BEC5",
                "#B0BEC5",
                "#B0BEC5",
                "#B0BEC5",
                "#B0BEC5",
                "#B0BEC5",
                "#B0BEC5",
                "#B0BEC5",
                "#B0BEC5",
                "#B0BEC5",
                "#B0BEC5",
                "#B0BEC5",
                "#B0BEC5",
                "#B0BEC5",
                "#B0BEC5",
                "#B0BEC5",
                "#B0BEC5",
                "#B0BEC5",
                "#B0BEC5",
                "#B0BEC5",
                "#B0BEC5",
                "#B0BEC5",
                "#B0BEC5",
                "#B0BEC5",
                "#B0BEC5",
                "#B0BEC5",
                "#B0BEC5",
                "#B0BEC5",
                "#B0BEC5",
                "#B0BEC5",
                "#B0BEC5",
                "red",
                "#B0BEC5"
               ]
              ]
             }
            ],
            "label": "Topic 43",
            "method": "update"
           },
           {
            "args": [
             {
              "marker.color": [
               [
                "#B0BEC5",
                "#B0BEC5",
                "#B0BEC5",
                "#B0BEC5",
                "#B0BEC5",
                "#B0BEC5",
                "#B0BEC5",
                "#B0BEC5",
                "#B0BEC5",
                "#B0BEC5",
                "#B0BEC5",
                "#B0BEC5",
                "#B0BEC5",
                "#B0BEC5",
                "#B0BEC5",
                "#B0BEC5",
                "#B0BEC5",
                "#B0BEC5",
                "#B0BEC5",
                "#B0BEC5",
                "#B0BEC5",
                "#B0BEC5",
                "#B0BEC5",
                "#B0BEC5",
                "#B0BEC5",
                "#B0BEC5",
                "#B0BEC5",
                "#B0BEC5",
                "#B0BEC5",
                "#B0BEC5",
                "#B0BEC5",
                "#B0BEC5",
                "#B0BEC5",
                "#B0BEC5",
                "#B0BEC5",
                "#B0BEC5",
                "#B0BEC5",
                "#B0BEC5",
                "#B0BEC5",
                "#B0BEC5",
                "#B0BEC5",
                "#B0BEC5",
                "#B0BEC5",
                "#B0BEC5",
                "red"
               ]
              ]
             }
            ],
            "label": "Topic 44",
            "method": "update"
           }
          ]
         }
        ],
        "template": {
         "data": {
          "bar": [
           {
            "error_x": {
             "color": "rgb(36,36,36)"
            },
            "error_y": {
             "color": "rgb(36,36,36)"
            },
            "marker": {
             "line": {
              "color": "white",
              "width": 0.5
             },
             "pattern": {
              "fillmode": "overlay",
              "size": 10,
              "solidity": 0.2
             }
            },
            "type": "bar"
           }
          ],
          "barpolar": [
           {
            "marker": {
             "line": {
              "color": "white",
              "width": 0.5
             },
             "pattern": {
              "fillmode": "overlay",
              "size": 10,
              "solidity": 0.2
             }
            },
            "type": "barpolar"
           }
          ],
          "carpet": [
           {
            "aaxis": {
             "endlinecolor": "rgb(36,36,36)",
             "gridcolor": "white",
             "linecolor": "white",
             "minorgridcolor": "white",
             "startlinecolor": "rgb(36,36,36)"
            },
            "baxis": {
             "endlinecolor": "rgb(36,36,36)",
             "gridcolor": "white",
             "linecolor": "white",
             "minorgridcolor": "white",
             "startlinecolor": "rgb(36,36,36)"
            },
            "type": "carpet"
           }
          ],
          "choropleth": [
           {
            "colorbar": {
             "outlinewidth": 1,
             "tickcolor": "rgb(36,36,36)",
             "ticks": "outside"
            },
            "type": "choropleth"
           }
          ],
          "contour": [
           {
            "colorbar": {
             "outlinewidth": 1,
             "tickcolor": "rgb(36,36,36)",
             "ticks": "outside"
            },
            "colorscale": [
             [
              0,
              "#440154"
             ],
             [
              0.1111111111111111,
              "#482878"
             ],
             [
              0.2222222222222222,
              "#3e4989"
             ],
             [
              0.3333333333333333,
              "#31688e"
             ],
             [
              0.4444444444444444,
              "#26828e"
             ],
             [
              0.5555555555555556,
              "#1f9e89"
             ],
             [
              0.6666666666666666,
              "#35b779"
             ],
             [
              0.7777777777777778,
              "#6ece58"
             ],
             [
              0.8888888888888888,
              "#b5de2b"
             ],
             [
              1,
              "#fde725"
             ]
            ],
            "type": "contour"
           }
          ],
          "contourcarpet": [
           {
            "colorbar": {
             "outlinewidth": 1,
             "tickcolor": "rgb(36,36,36)",
             "ticks": "outside"
            },
            "type": "contourcarpet"
           }
          ],
          "heatmap": [
           {
            "colorbar": {
             "outlinewidth": 1,
             "tickcolor": "rgb(36,36,36)",
             "ticks": "outside"
            },
            "colorscale": [
             [
              0,
              "#440154"
             ],
             [
              0.1111111111111111,
              "#482878"
             ],
             [
              0.2222222222222222,
              "#3e4989"
             ],
             [
              0.3333333333333333,
              "#31688e"
             ],
             [
              0.4444444444444444,
              "#26828e"
             ],
             [
              0.5555555555555556,
              "#1f9e89"
             ],
             [
              0.6666666666666666,
              "#35b779"
             ],
             [
              0.7777777777777778,
              "#6ece58"
             ],
             [
              0.8888888888888888,
              "#b5de2b"
             ],
             [
              1,
              "#fde725"
             ]
            ],
            "type": "heatmap"
           }
          ],
          "histogram": [
           {
            "marker": {
             "line": {
              "color": "white",
              "width": 0.6
             }
            },
            "type": "histogram"
           }
          ],
          "histogram2d": [
           {
            "colorbar": {
             "outlinewidth": 1,
             "tickcolor": "rgb(36,36,36)",
             "ticks": "outside"
            },
            "colorscale": [
             [
              0,
              "#440154"
             ],
             [
              0.1111111111111111,
              "#482878"
             ],
             [
              0.2222222222222222,
              "#3e4989"
             ],
             [
              0.3333333333333333,
              "#31688e"
             ],
             [
              0.4444444444444444,
              "#26828e"
             ],
             [
              0.5555555555555556,
              "#1f9e89"
             ],
             [
              0.6666666666666666,
              "#35b779"
             ],
             [
              0.7777777777777778,
              "#6ece58"
             ],
             [
              0.8888888888888888,
              "#b5de2b"
             ],
             [
              1,
              "#fde725"
             ]
            ],
            "type": "histogram2d"
           }
          ],
          "histogram2dcontour": [
           {
            "colorbar": {
             "outlinewidth": 1,
             "tickcolor": "rgb(36,36,36)",
             "ticks": "outside"
            },
            "colorscale": [
             [
              0,
              "#440154"
             ],
             [
              0.1111111111111111,
              "#482878"
             ],
             [
              0.2222222222222222,
              "#3e4989"
             ],
             [
              0.3333333333333333,
              "#31688e"
             ],
             [
              0.4444444444444444,
              "#26828e"
             ],
             [
              0.5555555555555556,
              "#1f9e89"
             ],
             [
              0.6666666666666666,
              "#35b779"
             ],
             [
              0.7777777777777778,
              "#6ece58"
             ],
             [
              0.8888888888888888,
              "#b5de2b"
             ],
             [
              1,
              "#fde725"
             ]
            ],
            "type": "histogram2dcontour"
           }
          ],
          "mesh3d": [
           {
            "colorbar": {
             "outlinewidth": 1,
             "tickcolor": "rgb(36,36,36)",
             "ticks": "outside"
            },
            "type": "mesh3d"
           }
          ],
          "parcoords": [
           {
            "line": {
             "colorbar": {
              "outlinewidth": 1,
              "tickcolor": "rgb(36,36,36)",
              "ticks": "outside"
             }
            },
            "type": "parcoords"
           }
          ],
          "pie": [
           {
            "automargin": true,
            "type": "pie"
           }
          ],
          "scatter": [
           {
            "fillpattern": {
             "fillmode": "overlay",
             "size": 10,
             "solidity": 0.2
            },
            "type": "scatter"
           }
          ],
          "scatter3d": [
           {
            "line": {
             "colorbar": {
              "outlinewidth": 1,
              "tickcolor": "rgb(36,36,36)",
              "ticks": "outside"
             }
            },
            "marker": {
             "colorbar": {
              "outlinewidth": 1,
              "tickcolor": "rgb(36,36,36)",
              "ticks": "outside"
             }
            },
            "type": "scatter3d"
           }
          ],
          "scattercarpet": [
           {
            "marker": {
             "colorbar": {
              "outlinewidth": 1,
              "tickcolor": "rgb(36,36,36)",
              "ticks": "outside"
             }
            },
            "type": "scattercarpet"
           }
          ],
          "scattergeo": [
           {
            "marker": {
             "colorbar": {
              "outlinewidth": 1,
              "tickcolor": "rgb(36,36,36)",
              "ticks": "outside"
             }
            },
            "type": "scattergeo"
           }
          ],
          "scattergl": [
           {
            "marker": {
             "colorbar": {
              "outlinewidth": 1,
              "tickcolor": "rgb(36,36,36)",
              "ticks": "outside"
             }
            },
            "type": "scattergl"
           }
          ],
          "scattermap": [
           {
            "marker": {
             "colorbar": {
              "outlinewidth": 1,
              "tickcolor": "rgb(36,36,36)",
              "ticks": "outside"
             }
            },
            "type": "scattermap"
           }
          ],
          "scattermapbox": [
           {
            "marker": {
             "colorbar": {
              "outlinewidth": 1,
              "tickcolor": "rgb(36,36,36)",
              "ticks": "outside"
             }
            },
            "type": "scattermapbox"
           }
          ],
          "scatterpolar": [
           {
            "marker": {
             "colorbar": {
              "outlinewidth": 1,
              "tickcolor": "rgb(36,36,36)",
              "ticks": "outside"
             }
            },
            "type": "scatterpolar"
           }
          ],
          "scatterpolargl": [
           {
            "marker": {
             "colorbar": {
              "outlinewidth": 1,
              "tickcolor": "rgb(36,36,36)",
              "ticks": "outside"
             }
            },
            "type": "scatterpolargl"
           }
          ],
          "scatterternary": [
           {
            "marker": {
             "colorbar": {
              "outlinewidth": 1,
              "tickcolor": "rgb(36,36,36)",
              "ticks": "outside"
             }
            },
            "type": "scatterternary"
           }
          ],
          "surface": [
           {
            "colorbar": {
             "outlinewidth": 1,
             "tickcolor": "rgb(36,36,36)",
             "ticks": "outside"
            },
            "colorscale": [
             [
              0,
              "#440154"
             ],
             [
              0.1111111111111111,
              "#482878"
             ],
             [
              0.2222222222222222,
              "#3e4989"
             ],
             [
              0.3333333333333333,
              "#31688e"
             ],
             [
              0.4444444444444444,
              "#26828e"
             ],
             [
              0.5555555555555556,
              "#1f9e89"
             ],
             [
              0.6666666666666666,
              "#35b779"
             ],
             [
              0.7777777777777778,
              "#6ece58"
             ],
             [
              0.8888888888888888,
              "#b5de2b"
             ],
             [
              1,
              "#fde725"
             ]
            ],
            "type": "surface"
           }
          ],
          "table": [
           {
            "cells": {
             "fill": {
              "color": "rgb(237,237,237)"
             },
             "line": {
              "color": "white"
             }
            },
            "header": {
             "fill": {
              "color": "rgb(217,217,217)"
             },
             "line": {
              "color": "white"
             }
            },
            "type": "table"
           }
          ]
         },
         "layout": {
          "annotationdefaults": {
           "arrowhead": 0,
           "arrowwidth": 1
          },
          "autotypenumbers": "strict",
          "coloraxis": {
           "colorbar": {
            "outlinewidth": 1,
            "tickcolor": "rgb(36,36,36)",
            "ticks": "outside"
           }
          },
          "colorscale": {
           "diverging": [
            [
             0,
             "rgb(103,0,31)"
            ],
            [
             0.1,
             "rgb(178,24,43)"
            ],
            [
             0.2,
             "rgb(214,96,77)"
            ],
            [
             0.3,
             "rgb(244,165,130)"
            ],
            [
             0.4,
             "rgb(253,219,199)"
            ],
            [
             0.5,
             "rgb(247,247,247)"
            ],
            [
             0.6,
             "rgb(209,229,240)"
            ],
            [
             0.7,
             "rgb(146,197,222)"
            ],
            [
             0.8,
             "rgb(67,147,195)"
            ],
            [
             0.9,
             "rgb(33,102,172)"
            ],
            [
             1,
             "rgb(5,48,97)"
            ]
           ],
           "sequential": [
            [
             0,
             "#440154"
            ],
            [
             0.1111111111111111,
             "#482878"
            ],
            [
             0.2222222222222222,
             "#3e4989"
            ],
            [
             0.3333333333333333,
             "#31688e"
            ],
            [
             0.4444444444444444,
             "#26828e"
            ],
            [
             0.5555555555555556,
             "#1f9e89"
            ],
            [
             0.6666666666666666,
             "#35b779"
            ],
            [
             0.7777777777777778,
             "#6ece58"
            ],
            [
             0.8888888888888888,
             "#b5de2b"
            ],
            [
             1,
             "#fde725"
            ]
           ],
           "sequentialminus": [
            [
             0,
             "#440154"
            ],
            [
             0.1111111111111111,
             "#482878"
            ],
            [
             0.2222222222222222,
             "#3e4989"
            ],
            [
             0.3333333333333333,
             "#31688e"
            ],
            [
             0.4444444444444444,
             "#26828e"
            ],
            [
             0.5555555555555556,
             "#1f9e89"
            ],
            [
             0.6666666666666666,
             "#35b779"
            ],
            [
             0.7777777777777778,
             "#6ece58"
            ],
            [
             0.8888888888888888,
             "#b5de2b"
            ],
            [
             1,
             "#fde725"
            ]
           ]
          },
          "colorway": [
           "#1F77B4",
           "#FF7F0E",
           "#2CA02C",
           "#D62728",
           "#9467BD",
           "#8C564B",
           "#E377C2",
           "#7F7F7F",
           "#BCBD22",
           "#17BECF"
          ],
          "font": {
           "color": "rgb(36,36,36)"
          },
          "geo": {
           "bgcolor": "white",
           "lakecolor": "white",
           "landcolor": "white",
           "showlakes": true,
           "showland": true,
           "subunitcolor": "white"
          },
          "hoverlabel": {
           "align": "left"
          },
          "hovermode": "closest",
          "mapbox": {
           "style": "light"
          },
          "paper_bgcolor": "white",
          "plot_bgcolor": "white",
          "polar": {
           "angularaxis": {
            "gridcolor": "rgb(232,232,232)",
            "linecolor": "rgb(36,36,36)",
            "showgrid": false,
            "showline": true,
            "ticks": "outside"
           },
           "bgcolor": "white",
           "radialaxis": {
            "gridcolor": "rgb(232,232,232)",
            "linecolor": "rgb(36,36,36)",
            "showgrid": false,
            "showline": true,
            "ticks": "outside"
           }
          },
          "scene": {
           "xaxis": {
            "backgroundcolor": "white",
            "gridcolor": "rgb(232,232,232)",
            "gridwidth": 2,
            "linecolor": "rgb(36,36,36)",
            "showbackground": true,
            "showgrid": false,
            "showline": true,
            "ticks": "outside",
            "zeroline": false,
            "zerolinecolor": "rgb(36,36,36)"
           },
           "yaxis": {
            "backgroundcolor": "white",
            "gridcolor": "rgb(232,232,232)",
            "gridwidth": 2,
            "linecolor": "rgb(36,36,36)",
            "showbackground": true,
            "showgrid": false,
            "showline": true,
            "ticks": "outside",
            "zeroline": false,
            "zerolinecolor": "rgb(36,36,36)"
           },
           "zaxis": {
            "backgroundcolor": "white",
            "gridcolor": "rgb(232,232,232)",
            "gridwidth": 2,
            "linecolor": "rgb(36,36,36)",
            "showbackground": true,
            "showgrid": false,
            "showline": true,
            "ticks": "outside",
            "zeroline": false,
            "zerolinecolor": "rgb(36,36,36)"
           }
          },
          "shapedefaults": {
           "fillcolor": "black",
           "line": {
            "width": 0
           },
           "opacity": 0.3
          },
          "ternary": {
           "aaxis": {
            "gridcolor": "rgb(232,232,232)",
            "linecolor": "rgb(36,36,36)",
            "showgrid": false,
            "showline": true,
            "ticks": "outside"
           },
           "baxis": {
            "gridcolor": "rgb(232,232,232)",
            "linecolor": "rgb(36,36,36)",
            "showgrid": false,
            "showline": true,
            "ticks": "outside"
           },
           "bgcolor": "white",
           "caxis": {
            "gridcolor": "rgb(232,232,232)",
            "linecolor": "rgb(36,36,36)",
            "showgrid": false,
            "showline": true,
            "ticks": "outside"
           }
          },
          "title": {
           "x": 0.05
          },
          "xaxis": {
           "automargin": true,
           "gridcolor": "rgb(232,232,232)",
           "linecolor": "rgb(36,36,36)",
           "showgrid": false,
           "showline": true,
           "ticks": "outside",
           "title": {
            "standoff": 15
           },
           "zeroline": false,
           "zerolinecolor": "rgb(36,36,36)"
          },
          "yaxis": {
           "automargin": true,
           "gridcolor": "rgb(232,232,232)",
           "linecolor": "rgb(36,36,36)",
           "showgrid": false,
           "showline": true,
           "ticks": "outside",
           "title": {
            "standoff": 15
           },
           "zeroline": false,
           "zerolinecolor": "rgb(36,36,36)"
          }
         }
        },
        "title": {
         "font": {
          "color": "Black",
          "size": 22
         },
         "text": "<b>Intertopic Distance Map</b>",
         "x": 0.5,
         "xanchor": "center",
         "y": 0.95,
         "yanchor": "top"
        },
        "width": 650,
        "xaxis": {
         "anchor": "y",
         "domain": [
          0,
          1
         ],
         "range": [
          -5.1721649169921875,
          12.811253547668457
         ],
         "title": {
          "text": ""
         },
         "visible": false
        },
        "yaxis": {
         "anchor": "x",
         "domain": [
          0,
          1
         ],
         "range": [
          -10.980400085449219,
          22.851051330566406
         ],
         "title": {
          "text": ""
         },
         "visible": false
        }
       }
      }
     },
     "metadata": {},
     "output_type": "display_data"
    },
    {
     "name": "stdout",
     "output_type": "stream",
     "text": [
      "Saved: intertopic_distance_map.html\n",
      "Silhouette (HDBSCAN): 0.1118\n"
     ]
    }
   ],
   "source": [
    "from bertopic import BERTopic\n",
    "import matplotlib.pyplot as plt, seaborn as sns\n",
    "import numpy as np, pandas as pd\n",
    "from sklearn.metrics import silhouette_score\n",
    "from IPython.display import display  \n",
    "\n",
    "# --- Load model và data ---\n",
    "topic_model = BERTopic.load(\"bertopic_desc_supSimCSE_phobert\")\n",
    "df = pd.read_csv(\"stage3_desc_bertopic.csv\", dtype=str)\n",
    "\n",
    "print(\"Final topics:\", df[\"topic_id\"].nunique(), \"| Rows:\", len(df))\n",
    "\n",
    "# Visualization\n",
    "\n",
    "# Biểu đồ tần suất (Top topic words)\n",
    "fig_bar = topic_model.visualize_barchart(top_n_topics=20)\n",
    "display(fig_bar)\n",
    "fig_bar.write_html(\"topic_word_scores.html\")\n",
    "print(\"Saved: topic_word_scores.html\")\n",
    "\n",
    "# Biểu đồ UMAP 2D (Intertopic Distance Map)\n",
    "fig_umap = topic_model.visualize_topics()\n",
    "display(fig_umap)\n",
    "fig_umap.write_html(\"intertopic_distance_map.html\")\n",
    "print(\"Saved: intertopic_distance_map.html\")\n",
    "\n",
    "# Evaluate cluster quality\n",
    "emb = np.load(\"embeddings_desc_phobert.npy\")\n",
    "labels = topic_model.hdbscan_model.labels_\n",
    "mask = labels != -1\n",
    "score = silhouette_score(emb[mask], labels[mask]) if len(set(labels[mask])) > 1 else np.nan\n",
    "print(\"Silhouette (HDBSCAN):\", round(score, 4))"
   ]
  },
  {
   "cell_type": "markdown",
   "id": "dd62a587",
   "metadata": {},
   "source": [
    "- Nhận xét Biểu đồ tần suất chủ đề (Topic Word Scores):\n",
    "\n",
    "    - Các chủ đề thể hiện tính đa dạng và tách biệt rõ: giải trí, công nghệ, sức khỏe, ẩm thực, du lịch, học tập…\n",
    "\n",
    "    - Ít trùng lặp từ khóa giữa các topic cho thấy mô hình BERTopic kết hợp HDBSCAN đã gom nhóm ngữ nghĩa tốt."
   ]
  },
  {
   "cell_type": "markdown",
   "id": "39cdf630",
   "metadata": {},
   "source": [
    "- Nhận xét Biểu đồ khoảng cách chủ đề (Intertopic Distance Map):\n",
    "\n",
    "    - Các cụm chủ đề phân bố khá tách biệt, chỉ một vài cụm nằm gần nhau cho thấy có mối liên hệ ngữ nghĩa nhẹ giữa các nhóm nội dung.\n",
    "\n",
    "    - Vùng trung tâm tập trung nhiều cụm nhỏ phản ánh các chủ đề phổ biến hoặc có nội dung chồng lấn.\n",
    "\n",
    "    - Một số cụm nằm tách rời hoàn toàn, thể hiện tính đặc trưng cao của các nhóm.\n",
    "\n",
    "=> Biểu đồ cho thấy mô hình BERTopic với SupSimCSE–PhoBERT đã tách được ranh giới ngữ nghĩa rõ ràng giữa các nhóm nội dung, đồng thời vẫn bảo toàn quan hệ gần–xa hợp lý trong không gian chủ đề."
   ]
  },
  {
   "cell_type": "markdown",
   "id": "4c3c821b",
   "metadata": {},
   "source": [
    "# Trực quan hóa HDBSCAN"
   ]
  },
  {
   "cell_type": "code",
   "execution_count": null,
   "id": "e93e9859",
   "metadata": {},
   "outputs": [
    {
     "name": "stdout",
     "output_type": "stream",
     "text": [
      "HDBSCAN info:\n",
      "Số điểm dữ liệu: 7819\n",
      "Số cụm: 71\n"
     ]
    },
    {
     "data": {
      "image/png": "[encoded data removed]",
      "text/plain": [
       "<Figure size 1200x600 with 2 Axes>"
      ]
     },
     "metadata": {},
     "output_type": "display_data"
    },
    {
     "data": {
      "image/png": "[encoded data removed]",
      "text/plain": [
       "<Figure size 1200x600 with 2 Axes>"
      ]
     },
     "metadata": {},
     "output_type": "display_data"
    }
   ],
   "source": [
    "import matplotlib.pyplot as plt\n",
    "import seaborn as sns\n",
    "import numpy as np\n",
    "\n",
    "# Kiểm tra mô hình\n",
    "hdb = topic_model.hdbscan_model\n",
    "\n",
    "print(\"HDBSCAN info:\")\n",
    "print(\"Số điểm dữ liệu:\", len(hdb.labels_))\n",
    "print(\"Số cụm:\", len(set(hdb.labels_)) - (1 if -1 in hdb.labels_ else 0))\n",
    "\n",
    "# Cây cô đọng (Condensed Tree)\n",
    "plt.figure(figsize=(12, 6))\n",
    "hdb.condensed_tree_.plot(select_clusters=True, selection_palette=sns.color_palette(\"deep\", 10))\n",
    "plt.title(\"HDBSCAN Condensed Tree\")\n",
    "plt.show()\n",
    "\n",
    "# Cây liên kết đơn (Single Linkage Tree)\n",
    "plt.figure(figsize=(12, 6))\n",
    "hdb.single_linkage_tree_.plot()\n",
    "plt.title(\"HDBSCAN Single Linkage Tree\")\n",
    "plt.show()"
   ]
  },
  {
   "cell_type": "markdown",
   "id": "55309c03",
   "metadata": {},
   "source": [
    "- Nhận xét biểu đồ HDBSCAN Condensed Tree:\n",
    "\n",
    "    - Cây cô đọng thể hiện 71 cụm chủ đề chính được HDBSCAN phát hiện từ 7.819 điểm dữ liệu, trong đó nhiều nhánh dài thể hiện các cụm lớn, ổn định.\n",
    "\n",
    "    - Các đoạn đỏ cho thấy ranh giới phân tách rõ ràng giữa các cụm. Mô hình đã tìm ra ngưỡng mật độ phù hợp để loại bỏ nhiễu.\n",
    "\n",
    "    - Một số nhánh ngắn và cụm nhỏ xuất hiện rải rác, phản ánh sự tồn tại của các nhóm nội dung ít phổ biến hoặc có tính ngữ nghĩa riêng biệt.\n",
    "\n",
    "    - Việc hình thành nhiều cụm nhỏ nhưng phân tách rõ cho thấy mô hình HDBSCAN hoạt động tốt trên embedding SupSimCSE–PhoBERT, giúp nhận diện chi tiết cấu trúc chủ đề trong tập video."
   ]
  },
  {
   "cell_type": "markdown",
   "id": "12223b4b",
   "metadata": {},
   "source": [
    "- Nhận xét biểu đồ HDBSCAN Single Linkage Tree:\n",
    "\n",
    "    - Biểu đồ cho thấy phần lớn điểm dữ liệu được gom ở vùng khoảng cách nhỏ (~5), chứng tỏ các điểm có mật độ cao và độ tương đồng lớn.\n",
    "\n",
    "    - Các nhánh cao hơn biểu thị một số cụm tách biệt rõ ràng, tương ứng với những chủ đề có ngữ nghĩa khác biệt.\n",
    "\n",
    "    - Màu sắc biểu thị kích thước cụm, trong đó các đoạn có màu vàng đại diện cho các cụm lớn, ổn định.\n",
    "\n",
    "    - Nhìn chung, biểu đồ này xác nhận rằng mô hình HDBSCAN đã tìm được cấu trúc phân cụm hợp lý, với mật độ cao ở lõi và một số cụm riêng biệt ở rìa, phản ánh tính đa dạng tự nhiên của dữ liệu video mô tả."
   ]
  },
  {
   "cell_type": "markdown",
   "id": "b47c65c3",
   "metadata": {},
   "source": [
    "# So sánh với K-MEANS VÀ DBSCAN"
   ]
  },
  {
   "cell_type": "code",
   "execution_count": 52,
   "id": "59456127",
   "metadata": {},
   "outputs": [
    {
     "name": "stdout",
     "output_type": "stream",
     "text": [
      "Embedding shape: (7819, 768)\n",
      "KMeans(k=10): inertia=3.45e+03 | silhouette=0.0581\n",
      "KMeans(k=20): inertia=3.17e+03 | silhouette=0.0532\n",
      "KMeans(k=30): inertia=3.00e+03 | silhouette=0.0638\n",
      "KMeans(k=40): inertia=2.88e+03 | silhouette=0.0647\n",
      "KMeans(k=50): inertia=2.81e+03 | silhouette=0.0696\n",
      "KMeans(k=60): inertia=2.74e+03 | silhouette=0.0673\n",
      "KMeans(k=70): inertia=2.67e+03 | silhouette=0.0724\n",
      "KMeans(k=80): inertia=2.62e+03 | silhouette=0.0812\n",
      "KMeans(k=90): inertia=2.57e+03 | silhouette=0.0812\n",
      "KMeans(k=100): inertia=2.53e+03 | silhouette=0.0793\n"
     ]
    },
    {
     "data": {
      "image/png": "[encoded data removed]",
      "text/plain": [
       "<Figure size 800x500 with 1 Axes>"
      ]
     },
     "metadata": {},
     "output_type": "display_data"
    },
    {
     "data": {
      "image/png": "[encoded data removed]",
      "text/plain": [
       "<Figure size 800x500 with 1 Axes>"
      ]
     },
     "metadata": {},
     "output_type": "display_data"
    },
    {
     "name": "stdout",
     "output_type": "stream",
     "text": [
      "\n",
      "Best K: 80 (silhouette=0.0812)\n",
      "KMeans clusters: 80\n",
      "DBSCAN clusters: 3 | noise: 10.31%\n",
      "HDBSCAN clusters: 71 | noise: 34.68%\n"
     ]
    }
   ],
   "source": [
    "from sklearn.cluster import KMeans, DBSCAN\n",
    "from sklearn.metrics import silhouette_score\n",
    "import numpy as np\n",
    "\n",
    "X = emb  # embeddings SupSimCSE–PhoBERT (768 chiều)\n",
    "print(\"Embedding shape:\", X.shape)\n",
    "\n",
    "# Tìm số cụm K tối ưu cho KMeans\n",
    "sil_scores = {}\n",
    "inertias = {}\n",
    "K_range = range(10, 101, 10)  # Dò từ 10 đến 100 cụm\n",
    "\n",
    "for k in K_range:\n",
    "    km = KMeans(n_clusters=k, random_state=42, n_init=10)\n",
    "    labels = km.fit_predict(X)\n",
    "    inertias[k] = km.inertia_\n",
    "    score = silhouette_score(X, labels)\n",
    "    sil_scores[k] = score\n",
    "    print(f\"KMeans(k={k}): inertia={km.inertia_:.2e} | silhouette={score:.4f}\")\n",
    "\n",
    "# Trực quan hóa Elbow Method\n",
    "plt.figure(figsize=(8, 5))\n",
    "plt.plot(list(inertias.keys()), list(inertias.values()), marker='o')\n",
    "plt.title(\"Biểu đồ khuỷu tay (Elbow Method) – Xác định số cụm K tối ưu\")\n",
    "plt.xlabel(\"Số cụm K\")\n",
    "plt.ylabel(\"Tổng bình phương khoảng cách trong cụm (Inertia)\")\n",
    "plt.grid(True)\n",
    "plt.show()\n",
    "\n",
    "# Trực quan hóa Silhouette\n",
    "plt.figure(figsize=(8, 5))\n",
    "plt.plot(list(sil_scores.keys()), list(sil_scores.values()), marker='s', color='orange')\n",
    "plt.title(\"Chỉ số Silhouette theo số cụm K\")\n",
    "plt.xlabel(\"Số cụm K\")\n",
    "plt.ylabel(\"Giá trị Silhouette\")\n",
    "plt.grid(True)\n",
    "plt.show()\n",
    "\n",
    "# Tìm K tốt nhất\n",
    "best_k = max(sil_scores, key=sil_scores.get)\n",
    "best_score = sil_scores[best_k]\n",
    "print(f\"\\nBest K: {best_k} (silhouette={best_score:.4f})\")\n",
    "\n",
    "# Huấn luyện lại với K tối ưu\n",
    "km_final = KMeans(n_clusters=best_k, random_state=42, n_init=10)\n",
    "km_labels = km_final.fit_predict(X)\n",
    "print(f\"KMeans clusters: {len(set(km_labels))}\")\n",
    "\n",
    "# DBSCAN baseline\n",
    "db = DBSCAN(eps=0.3, min_samples=10, metric='cosine')\n",
    "db_labels = db.fit_predict(X)\n",
    "db_clusters = len(set(db_labels)) - (1 if -1 in db_labels else 0)\n",
    "db_noise = np.mean(db_labels == -1)\n",
    "print(f\"DBSCAN clusters: {db_clusters} | noise: {db_noise:.2%}\")\n",
    "\n",
    "# HDBSCAN từ BERTopic\n",
    "hd_labels = topic_model.hdbscan_model.labels_\n",
    "hd_clusters = len(set(hd_labels)) - (1 if -1 in hd_labels else 0)\n",
    "hd_noise = np.mean(hd_labels == -1)\n",
    "print(f\"HDBSCAN clusters: {hd_clusters} | noise: {hd_noise:.2%}\")\n",
    "\n",
    "# So sánh chất lượng bằng Silhouette\n",
    "mask = hd_labels != -1\n",
    "if len(set(hd_labels[mask])) > 1:\n",
    "    hd_score = silhouette_score(X[mask], hd_labels[mask])\n",
    "else:\n",
    "    hd_score = np.nan"
   ]
  },
  {
   "cell_type": "markdown",
   "id": "069d53db",
   "metadata": {},
   "source": [
    "# Agglomerative Clustering"
   ]
  },
  {
   "cell_type": "code",
   "execution_count": null,
   "id": "ee7f809e",
   "metadata": {},
   "outputs": [
    {
     "name": "stdout",
     "output_type": "stream",
     "text": [
      "=== Agglomerative Clustering (Hierarchical) ===\n",
      "Agglomerative Clustering: 80 cụm | silhouette=0.0597\n",
      "\n",
      "=== Dendrogram trực quan cấu trúc phân cấp ===\n"
     ]
    },
    {
     "data": {
      "image/png": "[encoded data removed]",
      "text/plain": [
       "<Figure size 1000x500 with 1 Axes>"
      ]
     },
     "metadata": {},
     "output_type": "display_data"
    },
    {
     "name": "stdout",
     "output_type": "stream",
     "text": [
      "\n",
      "=== BERTopic Hierarchical Topics ===\n"
     ]
    },
    {
     "name": "stderr",
     "output_type": "stream",
     "text": [
      "100%|█████████████████████████████████████████████████████████████████████████████████| 44/44 [00:00<00:00, 108.31it/s]\n"
     ]
    },
    {
     "name": "stdout",
     "output_type": "stream",
     "text": [
      "Saved interactive map: hierarchical_topics.html\n"
     ]
    },
    {
     "data": {
      "application/vnd.plotly.v1+json": {
       "config": {
        "plotlyServerURL": "https://plot.ly"
       },
       "data": [
        {
         "hoverinfo": "text",
         "marker": {
          "color": "rgb(61,153,112)"
         },
         "mode": "lines",
         "type": "scatter",
         "x": {
          "bdata": "AAAAAAAAAACyveTZtIjfP7K95Nm0iN8/AAAAAAAAAAA=",
          "dtype": "f8"
         },
         "xaxis": "x",
         "y": {
          "bdata": "AAAAAAAALsAAAAAAAAAuwAAAAAAAADnAAAAAAAAAOcA=",
          "dtype": "f8"
         },
         "yaxis": "y"
        },
        {
         "hoverinfo": "text",
         "marker": {
          "color": "rgb(61,153,112)"
         },
         "mode": "lines",
         "type": "scatter",
         "x": {
          "bdata": "AAAAAAAAAAB8oGeSzcDlP3ygZ5LNwOU/sr3k2bSI3z8=",
          "dtype": "f8"
         },
         "xaxis": "x",
         "y": {
          "bdata": "AAAAAAAAFMAAAAAAAAAUwAAAAAAAADTAAAAAAAAANMA=",
          "dtype": "f8"
         },
         "yaxis": "y"
        },
        {
         "hoverinfo": "text",
         "marker": {
          "color": "rgb(61,153,112)"
         },
         "mode": "lines",
         "type": "scatter",
         "x": {
          "bdata": "fKBnks3A5T/u3zlaWCPrP+7fOVpYI+s/AAAAAAAAAAA=",
          "dtype": "f8"
         },
         "xaxis": "x",
         "y": {
          "bdata": "AAAAAAAAKcAAAAAAAAApwAAAAAAAgEHAAAAAAACAQcA=",
          "dtype": "f8"
         },
         "yaxis": "y"
        },
        {
         "hoverinfo": "text",
         "marker": {
          "color": "rgb(255,65,54)"
         },
         "mode": "lines",
         "type": "scatter",
         "x": {
          "bdata": "AAAAAAAAAACMgprDSUzuP4yCmsNJTO4/AAAAAAAAAAA=",
          "dtype": "f8"
         },
         "xaxis": "x",
         "y": {
          "bdata": "AAAAAACAS8AAAAAAAIBLwAAAAAAAQFDAAAAAAABAUMA=",
          "dtype": "f8"
         },
         "yaxis": "y"
        },
        {
         "hoverinfo": "text",
         "marker": {
          "color": "rgb(255,65,54)"
         },
         "mode": "lines",
         "type": "scatter",
         "x": {
          "bdata": "jIKaw0lM7j/92NQStUTvP/3Y1BK1RO8/AAAAAAAAAAA=",
          "dtype": "f8"
         },
         "xaxis": "x",
         "y": {
          "bdata": "AAAAAAAATsAAAAAAAABOwAAAAAAAwFLAAAAAAADAUsA=",
          "dtype": "f8"
         },
         "yaxis": "y"
        },
        {
         "hoverinfo": "text",
         "marker": {
          "color": "rgb(255,65,54)"
         },
         "mode": "lines",
         "type": "scatter",
         "x": {
          "bdata": "AAAAAAAAAAD947g0U7PvP/3juDRTs+8//djUErVE7z8=",
          "dtype": "f8"
         },
         "xaxis": "x",
         "y": {
          "bdata": "AAAAAACARsAAAAAAAIBGwAAAAAAA4FDAAAAAAADgUMA=",
          "dtype": "f8"
         },
         "yaxis": "y"
        },
        {
         "hoverinfo": "text",
         "marker": {
          "color": "rgb(35,205,205)"
         },
         "mode": "lines",
         "type": "scatter",
         "x": {
          "bdata": "AAAAAAAAAAAYG1scjnPtPxgbWxyOc+0/AAAAAAAAAAA=",
          "dtype": "f8"
         },
         "xaxis": "x",
         "y": {
          "bdata": "AAAAAABAVcAAAAAAAEBVwAAAAAAAwFfAAAAAAADAV8A=",
          "dtype": "f8"
         },
         "yaxis": "y"
        },
        {
         "hoverinfo": "text",
         "marker": {
          "color": "rgb(35,205,205)"
         },
         "mode": "lines",
         "type": "scatter",
         "x": {
          "bdata": "AAAAAAAAAADJxgA5ZwnvP8nGADlnCe8/AAAAAAAAAAA=",
          "dtype": "f8"
         },
         "xaxis": "x",
         "y": {
          "bdata": "AAAAAABAWsAAAAAAAEBawAAAAAAAwFzAAAAAAADAXMA=",
          "dtype": "f8"
         },
         "yaxis": "y"
        },
        {
         "hoverinfo": "text",
         "marker": {
          "color": "rgb(35,205,205)"
         },
         "mode": "lines",
         "type": "scatter",
         "x": {
          "bdata": "GBtbHI5z7T+W9CuCUIbvP5b0K4JQhu8/ycYAOWcJ7z8=",
          "dtype": "f8"
         },
         "xaxis": "x",
         "y": {
          "bdata": "AAAAAACAVsAAAAAAAIBWwAAAAAAAgFvAAAAAAACAW8A=",
          "dtype": "f8"
         },
         "yaxis": "y"
        },
        {
         "hoverinfo": "text",
         "marker": {
          "color": "rgb(0,116,217)"
         },
         "mode": "lines",
         "type": "scatter",
         "x": {
          "bdata": "/eO4NFOz7z/aJ0M5MlfwP9onQzkyV/A/lvQrglCG7z8=",
          "dtype": "f8"
         },
         "xaxis": "x",
         "y": {
          "bdata": "AAAAAAAgTMAAAAAAACBMwAAAAAAAAFnAAAAAAAAAWcA=",
          "dtype": "f8"
         },
         "yaxis": "y"
        },
        {
         "hoverinfo": "text",
         "marker": {
          "color": "rgb(133,20,75)"
         },
         "mode": "lines",
         "type": "scatter",
         "x": {
          "bdata": "AAAAAAAAAADNuZeAIYbqP825l4Ahhuo/AAAAAAAAAAA=",
          "dtype": "f8"
         },
         "xaxis": "x",
         "y": {
          "bdata": "AAAAAABAX8AAAAAAAEBfwAAAAAAA4GDAAAAAAADgYMA=",
          "dtype": "f8"
         },
         "yaxis": "y"
        },
        {
         "hoverinfo": "text",
         "marker": {
          "color": "rgb(255,220,0)"
         },
         "mode": "lines",
         "type": "scatter",
         "x": {
          "bdata": "AAAAAAAAAAATvrxYI8/qPxO+vFgjz+o/AAAAAAAAAAA=",
          "dtype": "f8"
         },
         "xaxis": "x",
         "y": {
          "bdata": "AAAAAAAgYsAAAAAAACBiwAAAAAAAYGPAAAAAAABgY8A=",
          "dtype": "f8"
         },
         "yaxis": "y"
        },
        {
         "hoverinfo": "text",
         "marker": {
          "color": "rgb(255,220,0)"
         },
         "mode": "lines",
         "type": "scatter",
         "x": {
          "bdata": "E768WCPP6j+U/N5sTVfuP5T83mxNV+4/AAAAAAAAAAA=",
          "dtype": "f8"
         },
         "xaxis": "x",
         "y": {
          "bdata": "AAAAAADAYsAAAAAAAMBiwAAAAAAAoGTAAAAAAACgZMA=",
          "dtype": "f8"
         },
         "yaxis": "y"
        },
        {
         "hoverinfo": "text",
         "marker": {
          "color": "rgb(0,116,217)"
         },
         "mode": "lines",
         "type": "scatter",
         "x": {
          "bdata": "zbmXgCGG6j+p9IGog8PwP6n0gaiDw/A/lPzebE1X7j8=",
          "dtype": "f8"
         },
         "xaxis": "x",
         "y": {
          "bdata": "AAAAAABAYMAAAAAAAEBgwAAAAAAAsGPAAAAAAACwY8A=",
          "dtype": "f8"
         },
         "yaxis": "y"
        },
        {
         "hoverinfo": "text",
         "marker": {
          "color": "rgb(0,116,217)"
         },
         "mode": "lines",
         "type": "scatter",
         "x": {
          "bdata": "2idDOTJX8D/BhPDIr0HxP8GE8MivQfE/qfSBqIPD8D8=",
          "dtype": "f8"
         },
         "xaxis": "x",
         "y": {
          "bdata": "AAAAAACIU8AAAAAAAIhTwAAAAAAA+GHAAAAAAAD4YcA=",
          "dtype": "f8"
         },
         "yaxis": "y"
        },
        {
         "hoverinfo": "text",
         "marker": {
          "color": "rgb(40,35,35)"
         },
         "mode": "lines",
         "type": "scatter",
         "x": {
          "bdata": "AAAAAAAAAAA8MnHIM+PkPzwyccgz4+Q/AAAAAAAAAAA=",
          "dtype": "f8"
         },
         "xaxis": "x",
         "y": {
          "bdata": "AAAAAADgZcAAAAAAAOBlwAAAAAAAIGfAAAAAAAAgZ8A=",
          "dtype": "f8"
         },
         "yaxis": "y"
        },
        {
         "hoverinfo": "text",
         "marker": {
          "color": "rgb(61,153,112)"
         },
         "mode": "lines",
         "type": "scatter",
         "x": {
          "bdata": "AAAAAAAAAADrKr8Ms+jpP+sqvwyz6Ok/AAAAAAAAAAA=",
          "dtype": "f8"
         },
         "xaxis": "x",
         "y": {
          "bdata": "AAAAAABgaMAAAAAAAGBowAAAAAAAoGnAAAAAAACgacA=",
          "dtype": "f8"
         },
         "yaxis": "y"
        },
        {
         "hoverinfo": "text",
         "marker": {
          "color": "rgb(61,153,112)"
         },
         "mode": "lines",
         "type": "scatter",
         "x": {
          "bdata": "AAAAAAAAAACGkB+3m9LmP4aQH7eb0uY/AAAAAAAAAAA=",
          "dtype": "f8"
         },
         "xaxis": "x",
         "y": {
          "bdata": "AAAAAADgasAAAAAAAOBqwAAAAAAAIGzAAAAAAAAgbMA=",
          "dtype": "f8"
         },
         "yaxis": "y"
        },
        {
         "hoverinfo": "text",
         "marker": {
          "color": "rgb(61,153,112)"
         },
         "mode": "lines",
         "type": "scatter",
         "x": {
          "bdata": "AAAAAAAAAAAB5H32DzrlPwHkffYPOuU/AAAAAAAAAAA=",
          "dtype": "f8"
         },
         "xaxis": "x",
         "y": {
          "bdata": "AAAAAACgbsAAAAAAAKBuwAAAAAAA4G/AAAAAAADgb8A=",
          "dtype": "f8"
         },
         "yaxis": "y"
        },
        {
         "hoverinfo": "text",
         "marker": {
          "color": "rgb(61,153,112)"
         },
         "mode": "lines",
         "type": "scatter",
         "x": {
          "bdata": "AAAAAAAAAAAIjbEAIXPoPwiNsQAhc+g/AeR99g865T8=",
          "dtype": "f8"
         },
         "xaxis": "x",
         "y": {
          "bdata": "AAAAAABgbcAAAAAAAGBtwAAAAAAAQG/AAAAAAABAb8A=",
          "dtype": "f8"
         },
         "yaxis": "y"
        },
        {
         "hoverinfo": "text",
         "marker": {
          "color": "rgb(61,153,112)"
         },
         "mode": "lines",
         "type": "scatter",
         "x": {
          "bdata": "hpAft5vS5j86VO7eD7XrPzpU7t4Ptes/CI2xACFz6D8=",
          "dtype": "f8"
         },
         "xaxis": "x",
         "y": {
          "bdata": "AAAAAACAa8AAAAAAAIBrwAAAAAAAUG7AAAAAAABQbsA=",
          "dtype": "f8"
         },
         "yaxis": "y"
        },
        {
         "hoverinfo": "text",
         "marker": {
          "color": "rgb(61,153,112)"
         },
         "mode": "lines",
         "type": "scatter",
         "x": {
          "bdata": "6yq/DLPo6T/82snwHWTtP/zayfAdZO0/OlTu3g+16z8=",
          "dtype": "f8"
         },
         "xaxis": "x",
         "y": {
          "bdata": "AAAAAAAAacAAAAAAAABpwAAAAAAA6GzAAAAAAADobMA=",
          "dtype": "f8"
         },
         "yaxis": "y"
        },
        {
         "hoverinfo": "text",
         "marker": {
          "color": "rgb(0,116,217)"
         },
         "mode": "lines",
         "type": "scatter",
         "x": {
          "bdata": "PDJxyDPj5D/LtF/GnwDxP8u0X8afAPE//NrJ8B1k7T8=",
          "dtype": "f8"
         },
         "xaxis": "x",
         "y": {
          "bdata": "AAAAAACAZsAAAAAAAIBmwAAAAAAA9GrAAAAAAAD0asA=",
          "dtype": "f8"
         },
         "yaxis": "y"
        },
        {
         "hoverinfo": "text",
         "marker": {
          "color": "rgb(255,65,54)"
         },
         "mode": "lines",
         "type": "scatter",
         "x": {
          "bdata": "AAAAAAAAAACz6tjwo6TtP7Pq2PCjpO0/AAAAAAAAAAA=",
          "dtype": "f8"
         },
         "xaxis": "x",
         "y": {
          "bdata": "AAAAAACQcMAAAAAAAJBwwAAAAAAAMHHAAAAAAAAwccA=",
          "dtype": "f8"
         },
         "yaxis": "y"
        },
        {
         "hoverinfo": "text",
         "marker": {
          "color": "rgb(255,65,54)"
         },
         "mode": "lines",
         "type": "scatter",
         "x": {
          "bdata": "AAAAAAAAAADHVuLSBbvsP8dW4tIFu+w/AAAAAAAAAAA=",
          "dtype": "f8"
         },
         "xaxis": "x",
         "y": {
          "bdata": "AAAAAADQccAAAAAAANBxwAAAAAAAcHLAAAAAAABwcsA=",
          "dtype": "f8"
         },
         "yaxis": "y"
        },
        {
         "hoverinfo": "text",
         "marker": {
          "color": "rgb(255,65,54)"
         },
         "mode": "lines",
         "type": "scatter",
         "x": {
          "bdata": "s+rY8KOk7T89GKKa3EjvPz0YoprcSO8/x1bi0gW77D8=",
          "dtype": "f8"
         },
         "xaxis": "x",
         "y": {
          "bdata": "AAAAAADgcMAAAAAAAOBwwAAAAAAAIHLAAAAAAAAgcsA=",
          "dtype": "f8"
         },
         "yaxis": "y"
        },
        {
         "hoverinfo": "text",
         "marker": {
          "color": "rgb(35,205,205)"
         },
         "mode": "lines",
         "type": "scatter",
         "x": {
          "bdata": "AAAAAAAAAAADjO5RVNToPwOM7lFU1Og/AAAAAAAAAAA=",
          "dtype": "f8"
         },
         "xaxis": "x",
         "y": {
          "bdata": "AAAAAAAQc8AAAAAAABBzwAAAAAAAsHPAAAAAAACwc8A=",
          "dtype": "f8"
         },
         "yaxis": "y"
        },
        {
         "hoverinfo": "text",
         "marker": {
          "color": "rgb(35,205,205)"
         },
         "mode": "lines",
         "type": "scatter",
         "x": {
          "bdata": "A4zuUVTU6D9MycSEPZDpP0zJxIQ9kOk/AAAAAAAAAAA=",
          "dtype": "f8"
         },
         "xaxis": "x",
         "y": {
          "bdata": "AAAAAABgc8AAAAAAAGBzwAAAAAAAUHTAAAAAAABQdMA=",
          "dtype": "f8"
         },
         "yaxis": "y"
        },
        {
         "hoverinfo": "text",
         "marker": {
          "color": "rgb(35,205,205)"
         },
         "mode": "lines",
         "type": "scatter",
         "x": {
          "bdata": "AAAAAAAAAABT0qtJCn/qP1PSq0kKf+o/AAAAAAAAAAA=",
          "dtype": "f8"
         },
         "xaxis": "x",
         "y": {
          "bdata": "AAAAAACQdcAAAAAAAJB1wAAAAAAAMHbAAAAAAAAwdsA=",
          "dtype": "f8"
         },
         "yaxis": "y"
        },
        {
         "hoverinfo": "text",
         "marker": {
          "color": "rgb(35,205,205)"
         },
         "mode": "lines",
         "type": "scatter",
         "x": {
          "bdata": "AAAAAAAAAAD6A1tDL83qP/oDW0Mvzeo/U9KrSQp/6j8=",
          "dtype": "f8"
         },
         "xaxis": "x",
         "y": {
          "bdata": "AAAAAADwdMAAAAAAAPB0wAAAAAAA4HXAAAAAAADgdcA=",
          "dtype": "f8"
         },
         "yaxis": "y"
        },
        {
         "hoverinfo": "text",
         "marker": {
          "color": "rgb(35,205,205)"
         },
         "mode": "lines",
         "type": "scatter",
         "x": {
          "bdata": "TMnEhD2Q6T/O2dQlN13tP87Z1CU3Xe0/+gNbQy/N6j8=",
          "dtype": "f8"
         },
         "xaxis": "x",
         "y": {
          "bdata": "AAAAAADYc8AAAAAAANhzwAAAAAAAaHXAAAAAAABodcA=",
          "dtype": "f8"
         },
         "yaxis": "y"
        },
        {
         "hoverinfo": "text",
         "marker": {
          "color": "rgb(0,116,217)"
         },
         "mode": "lines",
         "type": "scatter",
         "x": {
          "bdata": "PRiimtxI7z+8niWmhcPwP7yeJaaFw/A/ztnUJTdd7T8=",
          "dtype": "f8"
         },
         "xaxis": "x",
         "y": {
          "bdata": "AAAAAACAccAAAAAAAIBxwAAAAAAAoHTAAAAAAACgdMA=",
          "dtype": "f8"
         },
         "yaxis": "y"
        },
        {
         "hoverinfo": "text",
         "marker": {
          "color": "rgb(61,153,112)"
         },
         "mode": "lines",
         "type": "scatter",
         "x": {
          "bdata": "AAAAAAAAAADnFT5uX/TjP+cVPm5f9OM/AAAAAAAAAAA=",
          "dtype": "f8"
         },
         "xaxis": "x",
         "y": {
          "bdata": "AAAAAAAQeMAAAAAAABB4wAAAAAAAsHjAAAAAAACweMA=",
          "dtype": "f8"
         },
         "yaxis": "y"
        },
        {
         "hoverinfo": "text",
         "marker": {
          "color": "rgb(61,153,112)"
         },
         "mode": "lines",
         "type": "scatter",
         "x": {
          "bdata": "AAAAAAAAAABwJqBvlrrpP3AmoG+Wuuk/5xU+bl/04z8=",
          "dtype": "f8"
         },
         "xaxis": "x",
         "y": {
          "bdata": "AAAAAABwd8AAAAAAAHB3wAAAAAAAYHjAAAAAAABgeMA=",
          "dtype": "f8"
         },
         "yaxis": "y"
        },
        {
         "hoverinfo": "text",
         "marker": {
          "color": "rgb(61,153,112)"
         },
         "mode": "lines",
         "type": "scatter",
         "x": {
          "bdata": "AAAAAAAAAADXSz0LJ1LtP9dLPQsnUu0/cCagb5a66T8=",
          "dtype": "f8"
         },
         "xaxis": "x",
         "y": {
          "bdata": "AAAAAADQdsAAAAAAANB2wAAAAAAA6HfAAAAAAADod8A=",
          "dtype": "f8"
         },
         "yaxis": "y"
        },
        {
         "hoverinfo": "text",
         "marker": {
          "color": "rgb(61,153,112)"
         },
         "mode": "lines",
         "type": "scatter",
         "x": {
          "bdata": "10s9CydS7T9sMX49ahfvP2wxfj1qF+8/AAAAAAAAAAA=",
          "dtype": "f8"
         },
         "xaxis": "x",
         "y": {
          "bdata": "AAAAAABcd8AAAAAAAFx3wAAAAAAAUHnAAAAAAABQecA=",
          "dtype": "f8"
         },
         "yaxis": "y"
        },
        {
         "hoverinfo": "text",
         "marker": {
          "color": "rgb(0,116,217)"
         },
         "mode": "lines",
         "type": "scatter",
         "x": {
          "bdata": "vJ4lpoXD8D9h0tlvzQ3yP2HS2W/NDfI/bDF+PWoX7z8=",
          "dtype": "f8"
         },
         "xaxis": "x",
         "y": {
          "bdata": "AAAAAAAQc8AAAAAAABBzwAAAAAAAVnjAAAAAAABWeMA=",
          "dtype": "f8"
         },
         "yaxis": "y"
        },
        {
         "hoverinfo": "text",
         "marker": {
          "color": "rgb(0,116,217)"
         },
         "mode": "lines",
         "type": "scatter",
         "x": {
          "bdata": "y7Rfxp8A8T+SVNiuYQLzP5JU2K5hAvM/YdLZb80N8j8=",
          "dtype": "f8"
         },
         "xaxis": "x",
         "y": {
          "bdata": "AAAAAAC6aMAAAAAAALpowAAAAAAAs3XAAAAAAACzdcA=",
          "dtype": "f8"
         },
         "yaxis": "y"
        },
        {
         "hoverinfo": "text",
         "marker": {
          "color": "rgb(0,116,217)"
         },
         "mode": "lines",
         "type": "scatter",
         "x": {
          "bdata": "wYTwyK9B8T84qkJixkj0PziqQmLGSPQ/klTYrmEC8z8=",
          "dtype": "f8"
         },
         "xaxis": "x",
         "y": {
          "bdata": "AAAAAAC8W8AAAAAAALxbwAAAAAAACHHAAAAAAAAIccA=",
          "dtype": "f8"
         },
         "yaxis": "y"
        },
        {
         "hoverinfo": "text",
         "marker": {
          "color": "rgb(255,65,54)"
         },
         "mode": "lines",
         "type": "scatter",
         "x": {
          "bdata": "AAAAAAAAAAAUXxTErXTgPxRfFMStdOA/AAAAAAAAAAA=",
          "dtype": "f8"
         },
         "xaxis": "x",
         "y": {
          "bdata": "AAAAAADwecAAAAAAAPB5wAAAAAAAkHrAAAAAAACQesA=",
          "dtype": "f8"
         },
         "yaxis": "y"
        },
        {
         "hoverinfo": "text",
         "marker": {
          "color": "rgb(255,65,54)"
         },
         "mode": "lines",
         "type": "scatter",
         "x": {
          "bdata": "AAAAAAAAAAA2BPBY+inqPzYE8Fj6Keo/AAAAAAAAAAA=",
          "dtype": "f8"
         },
         "xaxis": "x",
         "y": {
          "bdata": "AAAAAAAwe8AAAAAAADB7wAAAAAAA0HvAAAAAAADQe8A=",
          "dtype": "f8"
         },
         "yaxis": "y"
        },
        {
         "hoverinfo": "text",
         "marker": {
          "color": "rgb(255,65,54)"
         },
         "mode": "lines",
         "type": "scatter",
         "x": {
          "bdata": "FF8UxK104D8Pu2Sz20TrPw+7ZLPbROs/NgTwWPop6j8=",
          "dtype": "f8"
         },
         "xaxis": "x",
         "y": {
          "bdata": "AAAAAABAesAAAAAAAEB6wAAAAAAAgHvAAAAAAACAe8A=",
          "dtype": "f8"
         },
         "yaxis": "y"
        },
        {
         "hoverinfo": "text",
         "marker": {
          "color": "rgb(0,116,217)"
         },
         "mode": "lines",
         "type": "scatter",
         "x": {
          "bdata": "OKpCYsZI9D+qJ2XU+7f1P6onZdT7t/U/D7tks9tE6z8=",
          "dtype": "f8"
         },
         "xaxis": "x",
         "y": {
          "bdata": "AAAAAAD3Z8AAAAAAAPdnwAAAAAAA4HrAAAAAAADgesA=",
          "dtype": "f8"
         },
         "yaxis": "y"
        },
        {
         "hoverinfo": "text",
         "marker": {
          "color": "rgb(0,116,217)"
         },
         "mode": "lines",
         "type": "scatter",
         "x": {
          "bdata": "7t85Wlgj6z9OzEjCWzT2P07MSMJbNPY/qidl1Pu39T8=",
          "dtype": "f8"
         },
         "xaxis": "x",
         "y": {
          "bdata": "AAAAAADAN8AAAAAAAMA3wAAAAADAbXPAAAAAAMBtc8A=",
          "dtype": "f8"
         },
         "yaxis": "y"
        }
       ],
       "layout": {
        "autosize": false,
        "height": 875,
        "hoverlabel": {
         "bgcolor": "white",
         "font": {
          "family": "Rockwell",
          "size": 16
         }
        },
        "hovermode": "closest",
        "plot_bgcolor": "#ECEFF1",
        "showlegend": false,
        "template": {
         "data": {
          "bar": [
           {
            "error_x": {
             "color": "#2a3f5f"
            },
            "error_y": {
             "color": "#2a3f5f"
            },
            "marker": {
             "line": {
              "color": "white",
              "width": 0.5
             },
             "pattern": {
              "fillmode": "overlay",
              "size": 10,
              "solidity": 0.2
             }
            },
            "type": "bar"
           }
          ],
          "barpolar": [
           {
            "marker": {
             "line": {
              "color": "white",
              "width": 0.5
             },
             "pattern": {
              "fillmode": "overlay",
              "size": 10,
              "solidity": 0.2
             }
            },
            "type": "barpolar"
           }
          ],
          "carpet": [
           {
            "aaxis": {
             "endlinecolor": "#2a3f5f",
             "gridcolor": "#C8D4E3",
             "linecolor": "#C8D4E3",
             "minorgridcolor": "#C8D4E3",
             "startlinecolor": "#2a3f5f"
            },
            "baxis": {
             "endlinecolor": "#2a3f5f",
             "gridcolor": "#C8D4E3",
             "linecolor": "#C8D4E3",
             "minorgridcolor": "#C8D4E3",
             "startlinecolor": "#2a3f5f"
            },
            "type": "carpet"
           }
          ],
          "choropleth": [
           {
            "colorbar": {
             "outlinewidth": 0,
             "ticks": ""
            },
            "type": "choropleth"
           }
          ],
          "contour": [
           {
            "colorbar": {
             "outlinewidth": 0,
             "ticks": ""
            },
            "colorscale": [
             [
              0,
              "#0d0887"
             ],
             [
              0.1111111111111111,
              "#46039f"
             ],
             [
              0.2222222222222222,
              "#7201a8"
             ],
             [
              0.3333333333333333,
              "#9c179e"
             ],
             [
              0.4444444444444444,
              "#bd3786"
             ],
             [
              0.5555555555555556,
              "#d8576b"
             ],
             [
              0.6666666666666666,
              "#ed7953"
             ],
             [
              0.7777777777777778,
              "#fb9f3a"
             ],
             [
              0.8888888888888888,
              "#fdca26"
             ],
             [
              1,
              "#f0f921"
             ]
            ],
            "type": "contour"
           }
          ],
          "contourcarpet": [
           {
            "colorbar": {
             "outlinewidth": 0,
             "ticks": ""
            },
            "type": "contourcarpet"
           }
          ],
          "heatmap": [
           {
            "colorbar": {
             "outlinewidth": 0,
             "ticks": ""
            },
            "colorscale": [
             [
              0,
              "#0d0887"
             ],
             [
              0.1111111111111111,
              "#46039f"
             ],
             [
              0.2222222222222222,
              "#7201a8"
             ],
             [
              0.3333333333333333,
              "#9c179e"
             ],
             [
              0.4444444444444444,
              "#bd3786"
             ],
             [
              0.5555555555555556,
              "#d8576b"
             ],
             [
              0.6666666666666666,
              "#ed7953"
             ],
             [
              0.7777777777777778,
              "#fb9f3a"
             ],
             [
              0.8888888888888888,
              "#fdca26"
             ],
             [
              1,
              "#f0f921"
             ]
            ],
            "type": "heatmap"
           }
          ],
          "histogram": [
           {
            "marker": {
             "pattern": {
              "fillmode": "overlay",
              "size": 10,
              "solidity": 0.2
             }
            },
            "type": "histogram"
           }
          ],
          "histogram2d": [
           {
            "colorbar": {
             "outlinewidth": 0,
             "ticks": ""
            },
            "colorscale": [
             [
              0,
              "#0d0887"
             ],
             [
              0.1111111111111111,
              "#46039f"
             ],
             [
              0.2222222222222222,
              "#7201a8"
             ],
             [
              0.3333333333333333,
              "#9c179e"
             ],
             [
              0.4444444444444444,
              "#bd3786"
             ],
             [
              0.5555555555555556,
              "#d8576b"
             ],
             [
              0.6666666666666666,
              "#ed7953"
             ],
             [
              0.7777777777777778,
              "#fb9f3a"
             ],
             [
              0.8888888888888888,
              "#fdca26"
             ],
             [
              1,
              "#f0f921"
             ]
            ],
            "type": "histogram2d"
           }
          ],
          "histogram2dcontour": [
           {
            "colorbar": {
             "outlinewidth": 0,
             "ticks": ""
            },
            "colorscale": [
             [
              0,
              "#0d0887"
             ],
             [
              0.1111111111111111,
              "#46039f"
             ],
             [
              0.2222222222222222,
              "#7201a8"
             ],
             [
              0.3333333333333333,
              "#9c179e"
             ],
             [
              0.4444444444444444,
              "#bd3786"
             ],
             [
              0.5555555555555556,
              "#d8576b"
             ],
             [
              0.6666666666666666,
              "#ed7953"
             ],
             [
              0.7777777777777778,
              "#fb9f3a"
             ],
             [
              0.8888888888888888,
              "#fdca26"
             ],
             [
              1,
              "#f0f921"
             ]
            ],
            "type": "histogram2dcontour"
           }
          ],
          "mesh3d": [
           {
            "colorbar": {
             "outlinewidth": 0,
             "ticks": ""
            },
            "type": "mesh3d"
           }
          ],
          "parcoords": [
           {
            "line": {
             "colorbar": {
              "outlinewidth": 0,
              "ticks": ""
             }
            },
            "type": "parcoords"
           }
          ],
          "pie": [
           {
            "automargin": true,
            "type": "pie"
           }
          ],
          "scatter": [
           {
            "fillpattern": {
             "fillmode": "overlay",
             "size": 10,
             "solidity": 0.2
            },
            "type": "scatter"
           }
          ],
          "scatter3d": [
           {
            "line": {
             "colorbar": {
              "outlinewidth": 0,
              "ticks": ""
             }
            },
            "marker": {
             "colorbar": {
              "outlinewidth": 0,
              "ticks": ""
             }
            },
            "type": "scatter3d"
           }
          ],
          "scattercarpet": [
           {
            "marker": {
             "colorbar": {
              "outlinewidth": 0,
              "ticks": ""
             }
            },
            "type": "scattercarpet"
           }
          ],
          "scattergeo": [
           {
            "marker": {
             "colorbar": {
              "outlinewidth": 0,
              "ticks": ""
             }
            },
            "type": "scattergeo"
           }
          ],
          "scattergl": [
           {
            "marker": {
             "colorbar": {
              "outlinewidth": 0,
              "ticks": ""
             }
            },
            "type": "scattergl"
           }
          ],
          "scattermap": [
           {
            "marker": {
             "colorbar": {
              "outlinewidth": 0,
              "ticks": ""
             }
            },
            "type": "scattermap"
           }
          ],
          "scattermapbox": [
           {
            "marker": {
             "colorbar": {
              "outlinewidth": 0,
              "ticks": ""
             }
            },
            "type": "scattermapbox"
           }
          ],
          "scatterpolar": [
           {
            "marker": {
             "colorbar": {
              "outlinewidth": 0,
              "ticks": ""
             }
            },
            "type": "scatterpolar"
           }
          ],
          "scatterpolargl": [
           {
            "marker": {
             "colorbar": {
              "outlinewidth": 0,
              "ticks": ""
             }
            },
            "type": "scatterpolargl"
           }
          ],
          "scatterternary": [
           {
            "marker": {
             "colorbar": {
              "outlinewidth": 0,
              "ticks": ""
             }
            },
            "type": "scatterternary"
           }
          ],
          "surface": [
           {
            "colorbar": {
             "outlinewidth": 0,
             "ticks": ""
            },
            "colorscale": [
             [
              0,
              "#0d0887"
             ],
             [
              0.1111111111111111,
              "#46039f"
             ],
             [
              0.2222222222222222,
              "#7201a8"
             ],
             [
              0.3333333333333333,
              "#9c179e"
             ],
             [
              0.4444444444444444,
              "#bd3786"
             ],
             [
              0.5555555555555556,
              "#d8576b"
             ],
             [
              0.6666666666666666,
              "#ed7953"
             ],
             [
              0.7777777777777778,
              "#fb9f3a"
             ],
             [
              0.8888888888888888,
              "#fdca26"
             ],
             [
              1,
              "#f0f921"
             ]
            ],
            "type": "surface"
           }
          ],
          "table": [
           {
            "cells": {
             "fill": {
              "color": "#EBF0F8"
             },
             "line": {
              "color": "white"
             }
            },
            "header": {
             "fill": {
              "color": "#C8D4E3"
             },
             "line": {
              "color": "white"
             }
            },
            "type": "table"
           }
          ]
         },
         "layout": {
          "annotationdefaults": {
           "arrowcolor": "#2a3f5f",
           "arrowhead": 0,
           "arrowwidth": 1
          },
          "autotypenumbers": "strict",
          "coloraxis": {
           "colorbar": {
            "outlinewidth": 0,
            "ticks": ""
           }
          },
          "colorscale": {
           "diverging": [
            [
             0,
             "#8e0152"
            ],
            [
             0.1,
             "#c51b7d"
            ],
            [
             0.2,
             "#de77ae"
            ],
            [
             0.3,
             "#f1b6da"
            ],
            [
             0.4,
             "#fde0ef"
            ],
            [
             0.5,
             "#f7f7f7"
            ],
            [
             0.6,
             "#e6f5d0"
            ],
            [
             0.7,
             "#b8e186"
            ],
            [
             0.8,
             "#7fbc41"
            ],
            [
             0.9,
             "#4d9221"
            ],
            [
             1,
             "#276419"
            ]
           ],
           "sequential": [
            [
             0,
             "#0d0887"
            ],
            [
             0.1111111111111111,
             "#46039f"
            ],
            [
             0.2222222222222222,
             "#7201a8"
            ],
            [
             0.3333333333333333,
             "#9c179e"
            ],
            [
             0.4444444444444444,
             "#bd3786"
            ],
            [
             0.5555555555555556,
             "#d8576b"
            ],
            [
             0.6666666666666666,
             "#ed7953"
            ],
            [
             0.7777777777777778,
             "#fb9f3a"
            ],
            [
             0.8888888888888888,
             "#fdca26"
            ],
            [
             1,
             "#f0f921"
            ]
           ],
           "sequentialminus": [
            [
             0,
             "#0d0887"
            ],
            [
             0.1111111111111111,
             "#46039f"
            ],
            [
             0.2222222222222222,
             "#7201a8"
            ],
            [
             0.3333333333333333,
             "#9c179e"
            ],
            [
             0.4444444444444444,
             "#bd3786"
            ],
            [
             0.5555555555555556,
             "#d8576b"
            ],
            [
             0.6666666666666666,
             "#ed7953"
            ],
            [
             0.7777777777777778,
             "#fb9f3a"
            ],
            [
             0.8888888888888888,
             "#fdca26"
            ],
            [
             1,
             "#f0f921"
            ]
           ]
          },
          "colorway": [
           "#636efa",
           "#EF553B",
           "#00cc96",
           "#ab63fa",
           "#FFA15A",
           "#19d3f3",
           "#FF6692",
           "#B6E880",
           "#FF97FF",
           "#FECB52"
          ],
          "font": {
           "color": "#2a3f5f"
          },
          "geo": {
           "bgcolor": "white",
           "lakecolor": "white",
           "landcolor": "white",
           "showlakes": true,
           "showland": true,
           "subunitcolor": "#C8D4E3"
          },
          "hoverlabel": {
           "align": "left"
          },
          "hovermode": "closest",
          "mapbox": {
           "style": "light"
          },
          "paper_bgcolor": "white",
          "plot_bgcolor": "white",
          "polar": {
           "angularaxis": {
            "gridcolor": "#EBF0F8",
            "linecolor": "#EBF0F8",
            "ticks": ""
           },
           "bgcolor": "white",
           "radialaxis": {
            "gridcolor": "#EBF0F8",
            "linecolor": "#EBF0F8",
            "ticks": ""
           }
          },
          "scene": {
           "xaxis": {
            "backgroundcolor": "white",
            "gridcolor": "#DFE8F3",
            "gridwidth": 2,
            "linecolor": "#EBF0F8",
            "showbackground": true,
            "ticks": "",
            "zerolinecolor": "#EBF0F8"
           },
           "yaxis": {
            "backgroundcolor": "white",
            "gridcolor": "#DFE8F3",
            "gridwidth": 2,
            "linecolor": "#EBF0F8",
            "showbackground": true,
            "ticks": "",
            "zerolinecolor": "#EBF0F8"
           },
           "zaxis": {
            "backgroundcolor": "white",
            "gridcolor": "#DFE8F3",
            "gridwidth": 2,
            "linecolor": "#EBF0F8",
            "showbackground": true,
            "ticks": "",
            "zerolinecolor": "#EBF0F8"
           }
          },
          "shapedefaults": {
           "line": {
            "color": "#2a3f5f"
           }
          },
          "ternary": {
           "aaxis": {
            "gridcolor": "#DFE8F3",
            "linecolor": "#A2B1C6",
            "ticks": ""
           },
           "baxis": {
            "gridcolor": "#DFE8F3",
            "linecolor": "#A2B1C6",
            "ticks": ""
           },
           "bgcolor": "white",
           "caxis": {
            "gridcolor": "#DFE8F3",
            "linecolor": "#A2B1C6",
            "ticks": ""
           }
          },
          "title": {
           "x": 0.05
          },
          "xaxis": {
           "automargin": true,
           "gridcolor": "#EBF0F8",
           "linecolor": "#EBF0F8",
           "ticks": "",
           "title": {
            "standoff": 15
           },
           "zerolinecolor": "#EBF0F8",
           "zerolinewidth": 2
          },
          "yaxis": {
           "automargin": true,
           "gridcolor": "#EBF0F8",
           "linecolor": "#EBF0F8",
           "ticks": "",
           "title": {
            "standoff": 15
           },
           "zerolinecolor": "#EBF0F8",
           "zerolinewidth": 2
          }
         }
        },
        "title": {
         "font": {
          "color": "Black",
          "size": 22
         },
         "text": "<b>Hierarchical Clustering</b>",
         "x": 0.5,
         "xanchor": "center",
         "yanchor": "top"
        },
        "width": 1000,
        "xaxis": {
         "mirror": "allticks",
         "rangemode": "tozero",
         "showgrid": false,
         "showline": true,
         "showticklabels": true,
         "ticks": "outside",
         "type": "linear",
         "zeroline": false
        },
        "yaxis": {
         "mirror": "allticks",
         "range": [
          -450,
          0
         ],
         "rangemode": "tozero",
         "showgrid": false,
         "showline": true,
         "showticklabels": true,
         "tickmode": "array",
         "ticks": "outside",
         "ticktext": [
          "26_quốc_tế_viettimes_tạp_chí",
          "2_tin_tức_an_ninh_tin",
          "13_bão_tin_tức_cấp",
          "31_tuổi_trẻ_84_báo",
          "28_tag_maytinhbangcugiare_t...",
          "15_kỷ_yếu_nga_sumo",
          "25_excel_surfaceprovn_tag_t...",
          "33_tag_okvip_tag_okvipbepnh...",
          "32_game_funny_game_thủ",
          "20_muse_anime_tập",
          "24_truyền_hình_cáp_online_v...",
          "10_đa_tầng_nóng_hổi_tag_kpl...",
          "6_tag_reviewphim_phim_review",
          "36_review_momo_nam",
          "44_sangtraan_paypal_á_đù",
          "39_facebook_instagram_fb",
          "22_báo_điện_tử_vtv24news_vt...",
          "43_mục_đích_bác_sĩ_tư_vấn",
          "3_khỏe_sức_sức_khỏe",
          "30_danh_sách_bài_tri_thức",
          "12_bơi_h00_thứ",
          "8_máy_tính_cách_hướng_dẫn",
          "19_ngành_công_nghệ_máy_tính",
          "21_công_nghệ_tên_lửa_việt_nam",
          "0_bóng_đá_phim_kênh",
          "4_xe_đánh_giá_tipcar",
          "41_liên_quân_exe_quyen",
          "35_tag_dailyvlog_hà_an_xiul...",
          "37_by_music_commons",
          "34_audio_truyện_tag_truyena...",
          "9_use_is_for",
          "16_tony_so_email",
          "29_tiktok_douyin_tik",
          "18_hải_đăng_tag_haidangrevi...",
          "42_xê_dịch_tôn_trọng_chọn",
          "27_trách_nhiệm_chịu_bất_kỳ",
          "11_tag_hàihước_hãy_thuồng",
          "14_món_thịt_ngon",
          "5_ẩm_thực_khoai_đồng_quê",
          "7_du_lịch_tàu_biển",
          "40_chợ_phiên_thắng_hải_bảo",
          "23_đánh_giá_relab_smartphone",
          "1_điện_thoại_giá_sản_phẩm",
          "17_tr_iphone_giá",
          "38_redmi_note_tecno"
         ],
         "tickvals": [
          -5,
          -15,
          -25,
          -35,
          -45,
          -55,
          -65,
          -75,
          -85,
          -95,
          -105,
          -115,
          -125,
          -135,
          -145,
          -155,
          -165,
          -175,
          -185,
          -195,
          -205,
          -215,
          -225,
          -235,
          -245,
          -255,
          -265,
          -275,
          -285,
          -295,
          -305,
          -315,
          -325,
          -335,
          -345,
          -355,
          -365,
          -375,
          -385,
          -395,
          -405,
          -415,
          -425,
          -435,
          -445
         ],
         "type": "linear",
         "zeroline": false
        }
       }
      }
     },
     "metadata": {},
     "output_type": "display_data"
    }
   ],
   "source": [
    "from sklearn.cluster import AgglomerativeClustering\n",
    "from sklearn.metrics import silhouette_score\n",
    "from scipy.cluster.hierarchy import linkage, dendrogram\n",
    "import matplotlib.pyplot as plt\n",
    "from bertopic import BERTopic\n",
    "\n",
    "# Agglomerative Clustering\n",
    "print(\"=== Agglomerative Clustering (Hierarchical) ===\")\n",
    "agg = AgglomerativeClustering(\n",
    "    n_clusters=best_k,          # dùng số cụm tốt nhất từ KMeans để đối chiếu\n",
    "    metric='euclidean',        \n",
    "    linkage='ward'              # phương pháp liên kết Ward \n",
    ")\n",
    "\n",
    "agg_labels = agg.fit_predict(X)\n",
    "agg_score = silhouette_score(X, agg_labels)\n",
    "print(f\"Agglomerative Clustering: {len(set(agg_labels))} cụm | silhouette={agg_score:.4f}\")\n",
    "\n",
    "# Vẽ dendrogram (500 điểm đầu)\n",
    "print(\"\\n=== Dendrogram trực quan cấu trúc phân cấp ===\")\n",
    "Z = linkage(X[:500], method='ward')\n",
    "plt.figure(figsize=(10, 5))\n",
    "dendrogram(Z, truncate_mode='level', p=5, no_labels=True)\n",
    "plt.title(\"Cấu trúc phân cấp giữa các video (Agglomerative Dendrogram)\")\n",
    "plt.xlabel(\"Video samples\")\n",
    "plt.ylabel(\"Khoảng cách (Ward linkage)\")\n",
    "plt.show()\n",
    "\n",
    "# Tạo và trực quan hóa cây chủ đề phân cấp bằng BERTopic\n",
    "print(\"\\n=== BERTopic Hierarchical Topics ===\")\n",
    "full_texts = pd.read_csv(\"stage1_desc_clean.csv\", dtype=str)[\"description\"].fillna(\"\").tolist()\n",
    "\n",
    "hier_topics = topic_model.hierarchical_topics(full_texts)\n",
    "fig_hier = topic_model.visualize_hierarchy()\n",
    "\n",
    "fig_hier.write_html(\"hierarchical_topics.html\")\n",
    "print(\"Saved interactive map: hierarchical_topics.html\")\n",
    "fig_hier.show()\n"
   ]
  },
  {
   "cell_type": "markdown",
   "id": "48accac3",
   "metadata": {},
   "source": [
    "- Biểu đồ Cấu trúc phân cấp giữa các video (Agglomerative Dendrogram)\n",
    "\n",
    "    - Biểu đồ này được tạo từ Agglomerative Clustering áp dụng trên embedding SupSimCSE–PhoBERT (768 chiều), với phương pháp Ward linkage.\n",
    "\n",
    "    - Các nhánh màu thể hiện mức độ tương đồng ngữ nghĩa giữa các video: những video hợp nhất ở khoảng cách nhỏ (dưới 1.0) có nội dung tương tự.\n",
    "\n",
    "    - Những nhánh ở phần trên (khoảng cách >3.0) biểu thị sự khác biệt rõ rệt giữa các nhóm video, phản ánh sự đa dạng nội dung trong tập mô tả YouTube.\n",
    "\n",
    "- Biểu đồ Hierarchical Clustering \n",
    "\n",
    "    - Biểu đồ này trực quan hóa cùng cấu trúc phân cấp, nhưng có hiển thị nhãn chủ đề thực tế.\n",
    "\n",
    "    - Các video có tag hoặc từ khóa tương tự được gom ở các nhánh thấp (≈0.5–1.0), cho thấy embedding SupSimCSE–PhoBERT đã nắm bắt tốt ngữ nghĩa văn bản mô tả.\n",
    "\n",
    "    - Những nhóm hợp nhất ở mức cao hơn đại diện cho các nhóm chủ đề lớn hơn."
   ]
  },
  {
   "cell_type": "code",
   "execution_count": 45,
   "id": "30a46506",
   "metadata": {},
   "outputs": [
    {
     "name": "stdout",
     "output_type": "stream",
     "text": [
      "\n",
      "So sánh tổng hợp:\n",
      "KMeans:   80 cụm | silhouette=0.0812\n",
      "DBSCAN:   3 cụm | noise=10.31%\n",
      "HDBSCAN:  71 cụm | noise=34.68% | silhouette=0.1118\n",
      "Agglomerative: 80 cụm | silhouette=0.0597\n"
     ]
    }
   ],
   "source": [
    "print(\"\\nSo sánh tổng hợp:\")\n",
    "print(f\"KMeans:   {best_k} cụm | silhouette={best_score:.4f}\")\n",
    "print(f\"DBSCAN:   {db_clusters} cụm | noise={db_noise:.2%}\")\n",
    "print(f\"HDBSCAN:  {hd_clusters} cụm | noise={hd_noise:.2%} | silhouette={hd_score:.4f}\")\n",
    "print(f\"Agglomerative: {len(set(agg_labels))} cụm | silhouette={agg_score:.4f}\")"
   ]
  },
  {
   "cell_type": "markdown",
   "id": "d76c221d",
   "metadata": {},
   "source": [
    "- Nhận xét kết quả so sánh mô hình phân cụm:\n",
    "\n",
    "    - KMeans (80 cụm) đạt silhouette ~ 0.0812, tuy chia được nhiều nhóm nhưng độ gắn kết giữa các điểm chưa cao. Sẽ phù hợp nếu dữ liệu có biên cụm rõ ràng hơn.\n",
    "\n",
    "    - DBSCAN (3 cụm, noise 10.3%) chỉ tạo được ít nhóm, phản ánh việc tham số eps chưa bắt được mật độ thực tế của dữ liệu ngữ nghĩa, tuy ít nhiễu hơn nhưng mất tính chi tiết.\n",
    "\n",
    "    - HDBSCAN (71 cụm, noise 34.7%) tạo số cụm tương đối sát với cấu trúc tự nhiên, tách biệt tốt hơn (silhouette ≈ 0.1118) dù chấp nhận một phần nhiễu cho thấy khả năng thích ứng với mật độ biến thiên của dữ liệu văn bản.\n",
    "\n",
    "    - Agglomerative Clustering (80 cụm, silhouette ≈ 0.0597) có mức phân tách thấp hơn HDBSCAN và KMeans, tuy nhiên mô hình này cho phép quan sát quan hệ phân cấp giữa các nhóm video, giúp nhận diện các cụm lớn chứa nhiều chủ đề con (ví dụ: “Giải trí → Phim / Nhạc / Hài”). Do đó, đây là công cụ hỗ trợ hữu ích để kiểm chứng cấu trúc chủ đề và minh họa mối liên hệ ngữ nghĩa giữa các nhóm.\n",
    "\n",
    "=> Tổng thể, HDBSCAN kết hợp với embedding SupSimCSE–PhoBERT đạt hiệu quả phân cụm cao nhất,\n",
    "thể hiện được sự đa dạng và phân bố ngữ nghĩa tự nhiên trong tập mô tả video YouTube. Trong khi đó, Agglomerative Clustering bổ sung góc nhìn trực quan và phân cấp,\n",
    "giúp giải thích mối quan hệ chủ đề, đóng vai trò mô hình đối chứng hữu ích trong phân tích kết quả."
   ]
  }
 ],
 "metadata": {
  "kernelspec": {
   "display_name": "Python (newenv)",
   "language": "python",
   "name": "newenv"
  },
  "language_info": {
   "codemirror_mode": {
    "name": "ipython",
    "version": 3
   },
   "file_extension": ".py",
   "mimetype": "text/x-python",
   "name": "python",
   "nbconvert_exporter": "python",
   "pygments_lexer": "ipython3",
   "version": "3.12.6"
  }
 },
 "nbformat": 4,
 "nbformat_minor": 5
}
