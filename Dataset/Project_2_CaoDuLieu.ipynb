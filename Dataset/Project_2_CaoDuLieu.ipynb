{
 "cells": [
  {
   "cell_type": "markdown",
   "id": "0e311f5e",
   "metadata": {},
   "source": [
    "# Code thu thập dữ liệu cho 2A và 2B\n",
    "* Mục tiêu: Thu thập dữ liệu title, description của video để phân cụm chủ đề, categoryId (thể loại YouTube) để phân loại"
   ]
  },
  {
   "cell_type": "markdown",
   "id": "5cbe23d9",
   "metadata": {},
   "source": [
    "## Import thư viện "
   ]
  },
  {
   "cell_type": "code",
   "execution_count": null,
   "id": "c45cd512",
   "metadata": {},
   "outputs": [],
   "source": [
    "import os\n",
    "import csv\n",
    "import json\n",
    "import time\n",
    "from googleapiclient.discovery import build\n",
    "from tqdm import tqdm\n",
    "import pandas as pd\n",
    "import os\n",
    "from dotenv import load_dotenv"
   ]
  },
  {
   "cell_type": "markdown",
   "id": "564143ca",
   "metadata": {},
   "source": [
    "## Load API Key Youtube"
   ]
  },
  {
   "cell_type": "code",
   "execution_count": 11,
   "id": "bc33bdbd",
   "metadata": {},
   "outputs": [],
   "source": [
    "load_dotenv()  # load .env vào environment\n",
    "\n",
    "API_KEY = os.getenv(\"YOUTUBE_API_KEY\")\n",
    "if not API_KEY:\n",
    "    raise ValueError(\"YOUTUBE_API_KEY not found in environment\")\n",
    "# Khởi tạo service\n",
    "youtube = build(\"youtube\", \"v3\", developerKey=API_KEY)"
   ]
  },
  {
   "cell_type": "markdown",
   "id": "2b621fbb",
   "metadata": {},
   "source": [
    "## CẤU HÌNH "
   ]
  },
  {
   "cell_type": "markdown",
   "id": "34a694cd",
   "metadata": {},
   "source": [
    "### Hàm tìm video theo từ khóa\n",
    "Hàm này tìm kiếm video trên YouTube theo từ khóa và trả về danh sách thông tin cơ bản của video (ID, tiêu đề, mô tả, ngày đăng, kênh):"
   ]
  },
  {
   "cell_type": "code",
   "execution_count": 12,
   "id": "26c09b05",
   "metadata": {},
   "outputs": [],
   "source": [
    "# ==== Hàm tìm video theo từ khóa ====\n",
    "def search_videos(query, max_results=30):\n",
    "    request = youtube.search().list(\n",
    "        q=query,\n",
    "        part=\"id,snippet\",\n",
    "        type=\"video\",\n",
    "        maxResults=max_results\n",
    "    )\n",
    "    response = request.execute()\n",
    "\n",
    "    videos = []\n",
    "    for item in response.get(\"items\", []):\n",
    "        video_id = item[\"id\"][\"videoId\"]\n",
    "        title = item[\"snippet\"][\"title\"]\n",
    "        description = item[\"snippet\"][\"description\"]\n",
    "        published_at = item[\"snippet\"][\"publishedAt\"]\n",
    "        channel = item[\"snippet\"][\"channelTitle\"]\n",
    "\n",
    "        videos.append({\n",
    "            \"video_id\": video_id,\n",
    "            \"title\": title,\n",
    "            \"description\": description,\n",
    "            \"published_at\": published_at,\n",
    "            \"channel\": channel\n",
    "        })\n",
    "    return videos\n",
    "\n"
   ]
  },
  {
   "cell_type": "markdown",
   "id": "4722cfdb",
   "metadata": {},
   "source": [
    "### Hàm lấy chi tiết video (thể loại, view, like, v.v.)\n",
    "Hàm dưới đây lấy chi tiết video như thể loại, view, like, v.v...:"
   ]
  },
  {
   "cell_type": "code",
   "execution_count": 13,
   "id": "4e219375",
   "metadata": {},
   "outputs": [],
   "source": [
    "# ==== Hàm lấy chi tiết video (thể loại, view, like, v.v.) ====\n",
    "def get_video_details(video_ids):\n",
    "    request = youtube.videos().list(\n",
    "        part=\"snippet,statistics\",\n",
    "        id=\",\".join(video_ids)\n",
    "    )\n",
    "    response = request.execute()\n",
    "\n",
    "    details = []\n",
    "    for item in response.get(\"items\", []):\n",
    "        video_id = item[\"id\"]\n",
    "        category_id = item[\"snippet\"][\"categoryId\"]\n",
    "        tags = item[\"snippet\"].get(\"tags\", [])\n",
    "        view_count = item[\"statistics\"].get(\"viewCount\", 0)\n",
    "        like_count = item[\"statistics\"].get(\"likeCount\", 0)\n",
    "        comment_count = item[\"statistics\"].get(\"commentCount\", 0)\n",
    "\n",
    "        details.append({\n",
    "            \"video_id\": video_id,\n",
    "            \"category_id\": category_id,\n",
    "            \"tags\": tags,\n",
    "            \"view_count\": view_count,\n",
    "            \"like_count\": like_count,\n",
    "            \"comment_count\": comment_count\n",
    "        })\n",
    "    return details"
   ]
  },
  {
   "cell_type": "markdown",
   "id": "52133fa4",
   "metadata": {},
   "source": [
    "### Hàm thu thập dữ liệu\n",
    "Tạo tạo List gồm danh sách 10 từ khóa có nội dung khác nhau, ta sẽ tìm video liên quan đến mỗi từ khóa để thu thập dữ liệu\n",
    "\n",
    "Gọi hàm search_videos để tìm video theo từ khóa kw\n",
    "\n",
    "Sau đó tạo list video_ids để gọi API chi tiết hơn\n",
    "\n",
    "Gọi get_video_details để lấy thêm các thông tin thống kê\n",
    "\n",
    "Ghép thông tin từ search_videos và get_video_details dựa trên video_id\n",
    "\n",
    "Append toàn bộ video của một keyword vào list lớn all_videos\n",
    "\n",
    "Chuyển all_videos (list dict) thành DataFrame Pandas, Lưu vào file youtube_videos.csv"
   ]
  },
  {
   "cell_type": "code",
   "execution_count": null,
   "id": "607e9cab",
   "metadata": {},
   "outputs": [
    {
     "name": "stdout",
     "output_type": "stream",
     "text": [
      " Đã lưu dữ liệu: 500 video\n"
     ]
    }
   ],
   "source": [
    "# ==== Main: Cào dữ liệu ====\n",
    "keywords = [\"Music\", \"News\", \"Sports\", \"Education\", \"Comedy\", \"Gaming\", \"Technology\", \"Travel\", \"Food\", \"Health\"]\n",
    "\n",
    "all_videos = []\n",
    "for kw in keywords:\n",
    "    videos = search_videos(kw, max_results=500)\n",
    "    video_ids = [v[\"video_id\"] for v in videos]\n",
    "\n",
    "    # Lấy thêm chi tiết (category, views,...)\n",
    "    details = get_video_details(video_ids)\n",
    "\n",
    "    # Join 2 phần dữ liệu\n",
    "    for v in videos:\n",
    "        for d in details:\n",
    "            if v[\"video_id\"] == d[\"video_id\"]:\n",
    "                v.update(d)\n",
    "    all_videos.extend(videos)\n",
    "\n",
    "# Lưu ra CSV\n",
    "df = pd.DataFrame(all_videos)\n",
    "df.to_csv(\"Project_2_youtube_videos.csv\", index=False, encoding=\"utf-8-sig\")\n",
    "\n",
    "print(\" Đã lưu dữ liệu:\", len(df), \"video\")"
   ]
  }
 ],
 "metadata": {
  "kernelspec": {
   "display_name": "Python 3",
   "language": "python",
   "name": "python3"
  },
  "language_info": {
   "codemirror_mode": {
    "name": "ipython",
    "version": 3
   },
   "file_extension": ".py",
   "mimetype": "text/x-python",
   "name": "python",
   "nbconvert_exporter": "python",
   "pygments_lexer": "ipython3",
   "version": "3.11.0"
  }
 },
 "nbformat": 4,
 "nbformat_minor": 5
}
